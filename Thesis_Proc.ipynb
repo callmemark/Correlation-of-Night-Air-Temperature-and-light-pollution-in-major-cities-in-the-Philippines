{
  "nbformat": 4,
  "nbformat_minor": 0,
  "metadata": {
    "colab": {
      "provenance": [],
      "collapsed_sections": [],
      "authorship_tag": "ABX9TyPskaCMmpJ6sPX3rldD5unu",
      "include_colab_link": true
    },
    "kernelspec": {
      "name": "python3",
      "display_name": "Python 3"
    },
    "language_info": {
      "name": "python"
    },
    "widgets": {
      "application/vnd.jupyter.widget-state+json": {
        "3247c678a10d4956bb73dcf463bdd162": {
          "model_module": "@jupyter-widgets/controls",
          "model_name": "HBoxModel",
          "model_module_version": "1.5.0",
          "state": {
            "_dom_classes": [],
            "_model_module": "@jupyter-widgets/controls",
            "_model_module_version": "1.5.0",
            "_model_name": "HBoxModel",
            "_view_count": null,
            "_view_module": "@jupyter-widgets/controls",
            "_view_module_version": "1.5.0",
            "_view_name": "HBoxView",
            "box_style": "",
            "children": [
              "IPY_MODEL_68365f8d1bd848f6b42dbde77968143d",
              "IPY_MODEL_8badc385bb9a4c81a59c61a09aa43f4d",
              "IPY_MODEL_a51d75b733ea4284845ef97208656f26"
            ],
            "layout": "IPY_MODEL_d1e2a0ca81614501805d0794a109ab47"
          }
        },
        "68365f8d1bd848f6b42dbde77968143d": {
          "model_module": "@jupyter-widgets/controls",
          "model_name": "HTMLModel",
          "model_module_version": "1.5.0",
          "state": {
            "_dom_classes": [],
            "_model_module": "@jupyter-widgets/controls",
            "_model_module_version": "1.5.0",
            "_model_name": "HTMLModel",
            "_view_count": null,
            "_view_module": "@jupyter-widgets/controls",
            "_view_module_version": "1.5.0",
            "_view_name": "HTMLView",
            "description": "",
            "description_tooltip": null,
            "layout": "IPY_MODEL_6c167a9375274f0f977351bed254fc9e",
            "placeholder": "​",
            "style": "IPY_MODEL_739922726ab04b0dab7338f267832ae4",
            "value": "Backfitting:   1%"
          }
        },
        "8badc385bb9a4c81a59c61a09aa43f4d": {
          "model_module": "@jupyter-widgets/controls",
          "model_name": "FloatProgressModel",
          "model_module_version": "1.5.0",
          "state": {
            "_dom_classes": [],
            "_model_module": "@jupyter-widgets/controls",
            "_model_module_version": "1.5.0",
            "_model_name": "FloatProgressModel",
            "_view_count": null,
            "_view_module": "@jupyter-widgets/controls",
            "_view_module_version": "1.5.0",
            "_view_name": "ProgressView",
            "bar_style": "danger",
            "description": "",
            "description_tooltip": null,
            "layout": "IPY_MODEL_f3b62b842db14704adabb4d91da683fd",
            "max": 200,
            "min": 0,
            "orientation": "horizontal",
            "style": "IPY_MODEL_0849902ea02644bb84854a8acee9ce12",
            "value": 2
          }
        },
        "a51d75b733ea4284845ef97208656f26": {
          "model_module": "@jupyter-widgets/controls",
          "model_name": "HTMLModel",
          "model_module_version": "1.5.0",
          "state": {
            "_dom_classes": [],
            "_model_module": "@jupyter-widgets/controls",
            "_model_module_version": "1.5.0",
            "_model_name": "HTMLModel",
            "_view_count": null,
            "_view_module": "@jupyter-widgets/controls",
            "_view_module_version": "1.5.0",
            "_view_name": "HTMLView",
            "description": "",
            "description_tooltip": null,
            "layout": "IPY_MODEL_ab96bc3def324d8b91462ee84c4b5a79",
            "placeholder": "​",
            "style": "IPY_MODEL_78f419d905f34e42951354bc69c4b5e0",
            "value": " 2/200 [00:02&lt;03:00,  1.10it/s]"
          }
        },
        "d1e2a0ca81614501805d0794a109ab47": {
          "model_module": "@jupyter-widgets/base",
          "model_name": "LayoutModel",
          "model_module_version": "1.2.0",
          "state": {
            "_model_module": "@jupyter-widgets/base",
            "_model_module_version": "1.2.0",
            "_model_name": "LayoutModel",
            "_view_count": null,
            "_view_module": "@jupyter-widgets/base",
            "_view_module_version": "1.2.0",
            "_view_name": "LayoutView",
            "align_content": null,
            "align_items": null,
            "align_self": null,
            "border": null,
            "bottom": null,
            "display": null,
            "flex": null,
            "flex_flow": null,
            "grid_area": null,
            "grid_auto_columns": null,
            "grid_auto_flow": null,
            "grid_auto_rows": null,
            "grid_column": null,
            "grid_gap": null,
            "grid_row": null,
            "grid_template_areas": null,
            "grid_template_columns": null,
            "grid_template_rows": null,
            "height": null,
            "justify_content": null,
            "justify_items": null,
            "left": null,
            "margin": null,
            "max_height": null,
            "max_width": null,
            "min_height": null,
            "min_width": null,
            "object_fit": null,
            "object_position": null,
            "order": null,
            "overflow": null,
            "overflow_x": null,
            "overflow_y": null,
            "padding": null,
            "right": null,
            "top": null,
            "visibility": null,
            "width": null
          }
        },
        "6c167a9375274f0f977351bed254fc9e": {
          "model_module": "@jupyter-widgets/base",
          "model_name": "LayoutModel",
          "model_module_version": "1.2.0",
          "state": {
            "_model_module": "@jupyter-widgets/base",
            "_model_module_version": "1.2.0",
            "_model_name": "LayoutModel",
            "_view_count": null,
            "_view_module": "@jupyter-widgets/base",
            "_view_module_version": "1.2.0",
            "_view_name": "LayoutView",
            "align_content": null,
            "align_items": null,
            "align_self": null,
            "border": null,
            "bottom": null,
            "display": null,
            "flex": null,
            "flex_flow": null,
            "grid_area": null,
            "grid_auto_columns": null,
            "grid_auto_flow": null,
            "grid_auto_rows": null,
            "grid_column": null,
            "grid_gap": null,
            "grid_row": null,
            "grid_template_areas": null,
            "grid_template_columns": null,
            "grid_template_rows": null,
            "height": null,
            "justify_content": null,
            "justify_items": null,
            "left": null,
            "margin": null,
            "max_height": null,
            "max_width": null,
            "min_height": null,
            "min_width": null,
            "object_fit": null,
            "object_position": null,
            "order": null,
            "overflow": null,
            "overflow_x": null,
            "overflow_y": null,
            "padding": null,
            "right": null,
            "top": null,
            "visibility": null,
            "width": null
          }
        },
        "739922726ab04b0dab7338f267832ae4": {
          "model_module": "@jupyter-widgets/controls",
          "model_name": "DescriptionStyleModel",
          "model_module_version": "1.5.0",
          "state": {
            "_model_module": "@jupyter-widgets/controls",
            "_model_module_version": "1.5.0",
            "_model_name": "DescriptionStyleModel",
            "_view_count": null,
            "_view_module": "@jupyter-widgets/base",
            "_view_module_version": "1.2.0",
            "_view_name": "StyleView",
            "description_width": ""
          }
        },
        "f3b62b842db14704adabb4d91da683fd": {
          "model_module": "@jupyter-widgets/base",
          "model_name": "LayoutModel",
          "model_module_version": "1.2.0",
          "state": {
            "_model_module": "@jupyter-widgets/base",
            "_model_module_version": "1.2.0",
            "_model_name": "LayoutModel",
            "_view_count": null,
            "_view_module": "@jupyter-widgets/base",
            "_view_module_version": "1.2.0",
            "_view_name": "LayoutView",
            "align_content": null,
            "align_items": null,
            "align_self": null,
            "border": null,
            "bottom": null,
            "display": null,
            "flex": null,
            "flex_flow": null,
            "grid_area": null,
            "grid_auto_columns": null,
            "grid_auto_flow": null,
            "grid_auto_rows": null,
            "grid_column": null,
            "grid_gap": null,
            "grid_row": null,
            "grid_template_areas": null,
            "grid_template_columns": null,
            "grid_template_rows": null,
            "height": null,
            "justify_content": null,
            "justify_items": null,
            "left": null,
            "margin": null,
            "max_height": null,
            "max_width": null,
            "min_height": null,
            "min_width": null,
            "object_fit": null,
            "object_position": null,
            "order": null,
            "overflow": null,
            "overflow_x": null,
            "overflow_y": null,
            "padding": null,
            "right": null,
            "top": null,
            "visibility": null,
            "width": null
          }
        },
        "0849902ea02644bb84854a8acee9ce12": {
          "model_module": "@jupyter-widgets/controls",
          "model_name": "ProgressStyleModel",
          "model_module_version": "1.5.0",
          "state": {
            "_model_module": "@jupyter-widgets/controls",
            "_model_module_version": "1.5.0",
            "_model_name": "ProgressStyleModel",
            "_view_count": null,
            "_view_module": "@jupyter-widgets/base",
            "_view_module_version": "1.2.0",
            "_view_name": "StyleView",
            "bar_color": null,
            "description_width": ""
          }
        },
        "ab96bc3def324d8b91462ee84c4b5a79": {
          "model_module": "@jupyter-widgets/base",
          "model_name": "LayoutModel",
          "model_module_version": "1.2.0",
          "state": {
            "_model_module": "@jupyter-widgets/base",
            "_model_module_version": "1.2.0",
            "_model_name": "LayoutModel",
            "_view_count": null,
            "_view_module": "@jupyter-widgets/base",
            "_view_module_version": "1.2.0",
            "_view_name": "LayoutView",
            "align_content": null,
            "align_items": null,
            "align_self": null,
            "border": null,
            "bottom": null,
            "display": null,
            "flex": null,
            "flex_flow": null,
            "grid_area": null,
            "grid_auto_columns": null,
            "grid_auto_flow": null,
            "grid_auto_rows": null,
            "grid_column": null,
            "grid_gap": null,
            "grid_row": null,
            "grid_template_areas": null,
            "grid_template_columns": null,
            "grid_template_rows": null,
            "height": null,
            "justify_content": null,
            "justify_items": null,
            "left": null,
            "margin": null,
            "max_height": null,
            "max_width": null,
            "min_height": null,
            "min_width": null,
            "object_fit": null,
            "object_position": null,
            "order": null,
            "overflow": null,
            "overflow_x": null,
            "overflow_y": null,
            "padding": null,
            "right": null,
            "top": null,
            "visibility": null,
            "width": null
          }
        },
        "78f419d905f34e42951354bc69c4b5e0": {
          "model_module": "@jupyter-widgets/controls",
          "model_name": "DescriptionStyleModel",
          "model_module_version": "1.5.0",
          "state": {
            "_model_module": "@jupyter-widgets/controls",
            "_model_module_version": "1.5.0",
            "_model_name": "DescriptionStyleModel",
            "_view_count": null,
            "_view_module": "@jupyter-widgets/base",
            "_view_module_version": "1.2.0",
            "_view_name": "StyleView",
            "description_width": ""
          }
        }
      }
    }
  },
  "cells": [
    {
      "cell_type": "markdown",
      "metadata": {
        "id": "view-in-github",
        "colab_type": "text"
      },
      "source": [
        "<a href=\"https://colab.research.google.com/github/callmemark/Correlation-of-Night-Air-Temperature-and-light-pollution-in-major-cities-in-the-Philippines/blob/PreTest/Thesis_Proc.ipynb\" target=\"_parent\"><img src=\"https://colab.research.google.com/assets/colab-badge.svg\" alt=\"Open In Colab\"/></a>"
      ]
    },
    {
      "cell_type": "markdown",
      "source": [
        "<h1> Correlation of Night Air Temperature and light pollution in major cities in the Philippines </h1>\n",
        "</br></br></br>\n",
        "\n",
        "\n",
        "> Fernandez, Jaron Rix\n",
        "</br>\n",
        "Velmonte, Mark john A.\n",
        "\n",
        "\n",
        "\n",
        "<br>\n",
        "<br>\n",
        "<br>\n",
        "\n",
        "---\n",
        "\n",
        "\n",
        "\n",
        "\n",
        "\n",
        "\n"
      ],
      "metadata": {
        "id": "RABrvrp2qX4p"
      }
    },
    {
      "cell_type": "markdown",
      "source": [
        "<h1>Preperation 1: Install Libraries</h1>\n",
        "\n",
        "> Install neccesary libraries"
      ],
      "metadata": {
        "id": "Sy9S6BtAqfyX"
      }
    },
    {
      "cell_type": "code",
      "source": [
        "# Install GDAL and Geopandas\n",
        "!apt install gdal-bin python-gdal python3-gdal --quiet\n",
        "!apt install python3-rtree --quiet\n",
        "!pip install --upgrade pip --quiet\n",
        "!pip install git+git://github.com/geopandas/geopandas.git --quiet\n",
        "!pip install descartes --quiet\n",
        "!pip install ipywidgets --quiet\n",
        "\n",
        "# Install other libraries\n",
        "!pip install splot --quiet\n",
        "!pip install -U mgwr --quiet\n",
        "\n",
        "#!pip freeze"
      ],
      "metadata": {
        "id": "LdXV1hAsnuyB",
        "colab": {
          "base_uri": "https://localhost:8080/"
        },
        "outputId": "8f66b82e-3084-41ca-a4de-e21cc4683882"
      },
      "execution_count": 1,
      "outputs": [
        {
          "output_type": "stream",
          "name": "stdout",
          "text": [
            "Reading package lists...\n",
            "Building dependency tree...\n",
            "Reading state information...\n",
            "gdal-bin is already the newest version (2.2.3+dfsg-2).\n",
            "python-gdal is already the newest version (2.2.3+dfsg-2).\n",
            "The following package was automatically installed and is no longer required:\n",
            "  libnvidia-common-460\n",
            "Use 'apt autoremove' to remove it.\n",
            "The following additional packages will be installed:\n",
            "  python3-numpy\n",
            "Suggested packages:\n",
            "  python-numpy-doc python3-nose python3-numpy-dbg\n",
            "The following NEW packages will be installed:\n",
            "  python3-gdal python3-numpy\n",
            "0 upgraded, 2 newly installed, 0 to remove and 20 not upgraded.\n",
            "Need to get 2,288 kB of archives.\n",
            "After this operation, 13.2 MB of additional disk space will be used.\n",
            "Get:1 http://archive.ubuntu.com/ubuntu bionic/main amd64 python3-numpy amd64 1:1.13.3-2ubuntu1 [1,943 kB]\n",
            "Get:2 http://archive.ubuntu.com/ubuntu bionic/universe amd64 python3-gdal amd64 2.2.3+dfsg-2 [346 kB]\n",
            "Fetched 2,288 kB in 2s (1,072 kB/s)\n",
            "Selecting previously unselected package python3-numpy.\n",
            "(Reading database ... 159447 files and directories currently installed.)\n",
            "Preparing to unpack .../python3-numpy_1%3a1.13.3-2ubuntu1_amd64.deb ...\n",
            "Unpacking python3-numpy (1:1.13.3-2ubuntu1) ...\n",
            "Selecting previously unselected package python3-gdal.\n",
            "Preparing to unpack .../python3-gdal_2.2.3+dfsg-2_amd64.deb ...\n",
            "Unpacking python3-gdal (2.2.3+dfsg-2) ...\n",
            "Setting up python3-numpy (1:1.13.3-2ubuntu1) ...\n",
            "Setting up python3-gdal (2.2.3+dfsg-2) ...\n",
            "Processing triggers for man-db (2.8.3-2ubuntu0.1) ...\n",
            "Reading package lists...\n",
            "Building dependency tree...\n",
            "Reading state information...\n",
            "The following package was automatically installed and is no longer required:\n",
            "  libnvidia-common-460\n",
            "Use 'apt autoremove' to remove it.\n",
            "The following additional packages will be installed:\n",
            "  libspatialindex-c4v5 libspatialindex-dev libspatialindex4v5\n",
            "  python3-pkg-resources\n",
            "Suggested packages:\n",
            "  python3-setuptools\n",
            "The following NEW packages will be installed:\n",
            "  libspatialindex-c4v5 libspatialindex-dev libspatialindex4v5\n",
            "  python3-pkg-resources python3-rtree\n",
            "0 upgraded, 5 newly installed, 0 to remove and 20 not upgraded.\n",
            "Need to get 671 kB of archives.\n",
            "After this operation, 3,948 kB of additional disk space will be used.\n",
            "Get:1 http://archive.ubuntu.com/ubuntu bionic/universe amd64 libspatialindex4v5 amd64 1.8.5-5 [219 kB]\n",
            "Get:2 http://archive.ubuntu.com/ubuntu bionic/universe amd64 libspatialindex-c4v5 amd64 1.8.5-5 [51.7 kB]\n",
            "Get:3 http://archive.ubuntu.com/ubuntu bionic/main amd64 python3-pkg-resources all 39.0.1-2 [98.8 kB]\n",
            "Get:4 http://archive.ubuntu.com/ubuntu bionic/universe amd64 libspatialindex-dev amd64 1.8.5-5 [285 kB]\n",
            "Get:5 http://archive.ubuntu.com/ubuntu bionic/universe amd64 python3-rtree all 0.8.3+ds-1 [16.9 kB]\n",
            "Fetched 671 kB in 2s (416 kB/s)\n",
            "Selecting previously unselected package libspatialindex4v5:amd64.\n",
            "(Reading database ... 159857 files and directories currently installed.)\n",
            "Preparing to unpack .../libspatialindex4v5_1.8.5-5_amd64.deb ...\n",
            "Unpacking libspatialindex4v5:amd64 (1.8.5-5) ...\n",
            "Selecting previously unselected package libspatialindex-c4v5:amd64.\n",
            "Preparing to unpack .../libspatialindex-c4v5_1.8.5-5_amd64.deb ...\n",
            "Unpacking libspatialindex-c4v5:amd64 (1.8.5-5) ...\n",
            "Selecting previously unselected package python3-pkg-resources.\n",
            "Preparing to unpack .../python3-pkg-resources_39.0.1-2_all.deb ...\n",
            "Unpacking python3-pkg-resources (39.0.1-2) ...\n",
            "Selecting previously unselected package libspatialindex-dev:amd64.\n",
            "Preparing to unpack .../libspatialindex-dev_1.8.5-5_amd64.deb ...\n",
            "Unpacking libspatialindex-dev:amd64 (1.8.5-5) ...\n",
            "Selecting previously unselected package python3-rtree.\n",
            "Preparing to unpack .../python3-rtree_0.8.3+ds-1_all.deb ...\n",
            "Unpacking python3-rtree (0.8.3+ds-1) ...\n",
            "Setting up libspatialindex4v5:amd64 (1.8.5-5) ...\n",
            "Setting up python3-pkg-resources (39.0.1-2) ...\n",
            "Setting up libspatialindex-c4v5:amd64 (1.8.5-5) ...\n",
            "Setting up libspatialindex-dev:amd64 (1.8.5-5) ...\n",
            "Setting up python3-rtree (0.8.3+ds-1) ...\n",
            "Processing triggers for libc-bin (2.27-3ubuntu1.5) ...\n",
            "\u001b[K     |████████████████████████████████| 2.0 MB 2.1 MB/s \n",
            "\u001b[?25h  \u001b[1;31merror\u001b[0m: \u001b[1msubprocess-exited-with-error\u001b[0m\n",
            "  \n",
            "  \u001b[31m×\u001b[0m \u001b[32mgit clone --\u001b[0m\u001b[32mfilter\u001b[0m\u001b[32m=\u001b[0m\u001b[32mblob\u001b[0m\u001b[32m:none --quiet git:\u001b[0m\u001b[32m/\u001b[0m\u001b[32m/github.com/geopandas/\u001b[0m\u001b[32mgeopandas.git\u001b[0m\u001b[32m \u001b[0m\u001b[32m/tmp/\u001b[0m\u001b[32mpip-req-build-gp3yv5fj\u001b[0m did not run successfully.\n",
            "  \u001b[31m│\u001b[0m exit code: \u001b[1;36m128\u001b[0m\n",
            "  \u001b[31m╰─>\u001b[0m See above for output.\n",
            "  \n",
            "  \u001b[1;35mnote\u001b[0m: This error originates from a subprocess, and is likely not a problem with pip.\n",
            "\u001b[1;31merror\u001b[0m: \u001b[1msubprocess-exited-with-error\u001b[0m\n",
            "\n",
            "\u001b[31m×\u001b[0m \u001b[32mgit clone --\u001b[0m\u001b[32mfilter\u001b[0m\u001b[32m=\u001b[0m\u001b[32mblob\u001b[0m\u001b[32m:none --quiet git:\u001b[0m\u001b[32m/\u001b[0m\u001b[32m/github.com/geopandas/\u001b[0m\u001b[32mgeopandas.git\u001b[0m\u001b[32m \u001b[0m\u001b[32m/tmp/\u001b[0m\u001b[32mpip-req-build-gp3yv5fj\u001b[0m did not run successfully.\n",
            "\u001b[31m│\u001b[0m exit code: \u001b[1;36m128\u001b[0m\n",
            "\u001b[31m╰─>\u001b[0m See above for output.\n",
            "\n",
            "\u001b[1;35mnote\u001b[0m: This error originates from a subprocess, and is likely not a problem with pip.\n",
            "\u001b[33mWARNING: Running pip as the 'root' user can result in broken permissions and conflicting behaviour with the system package manager. It is recommended to use a virtual environment instead: https://pip.pypa.io/warnings/venv\u001b[0m\u001b[33m\n",
            "\u001b[2K     \u001b[90m━━━━━━━━━━━━━━━━━━━━━━━━━━━━━━━━━━━━━━━━\u001b[0m \u001b[32m1.6/1.6 MB\u001b[0m \u001b[31m10.8 MB/s\u001b[0m eta \u001b[36m0:00:00\u001b[0m\n",
            "\u001b[?25h\u001b[33mWARNING: Running pip as the 'root' user can result in broken permissions and conflicting behaviour with the system package manager. It is recommended to use a virtual environment instead: https://pip.pypa.io/warnings/venv\u001b[0m\u001b[33m\n",
            "\u001b[2K     \u001b[90m━━━━━━━━━━━━━━━━━━━━━━━━━━━━━━━━━━━━━━━━\u001b[0m \u001b[32m1.0/1.0 MB\u001b[0m \u001b[31m9.1 MB/s\u001b[0m eta \u001b[36m0:00:00\u001b[0m\n",
            "\u001b[2K     \u001b[90m━━━━━━━━━━━━━━━━━━━━━━━━━━━━━━━━━━━━━━\u001b[0m \u001b[32m209.5/209.5 kB\u001b[0m \u001b[31m20.1 MB/s\u001b[0m eta \u001b[36m0:00:00\u001b[0m\n",
            "\u001b[2K     \u001b[90m━━━━━━━━━━━━━━━━━━━━━━━━━━━━━━━━━━━━━━\u001b[0m \u001b[32m116.6/116.6 kB\u001b[0m \u001b[31m12.6 MB/s\u001b[0m eta \u001b[36m0:00:00\u001b[0m\n",
            "\u001b[?25h  Preparing metadata (setup.py) ... \u001b[?25l\u001b[?25hdone\n",
            "\u001b[2K     \u001b[90m━━━━━━━━━━━━━━━━━━━━━━━━━━━━━━━━━━━━━━━━\u001b[0m \u001b[32m60.9/60.9 kB\u001b[0m \u001b[31m6.5 MB/s\u001b[0m eta \u001b[36m0:00:00\u001b[0m\n",
            "\u001b[2K     \u001b[90m━━━━━━━━━━━━━━━━━━━━━━━━━━━━━━━━━━━━━━━━\u001b[0m \u001b[32m2.4/2.4 MB\u001b[0m \u001b[31m40.7 MB/s\u001b[0m eta \u001b[36m0:00:00\u001b[0m\n",
            "\u001b[2K     \u001b[90m━━━━━━━━━━━━━━━━━━━━━━━━━━━━━━━━━━━━━━━━\u001b[0m \u001b[32m6.3/6.3 MB\u001b[0m \u001b[31m57.4 MB/s\u001b[0m eta \u001b[36m0:00:00\u001b[0m\n",
            "\u001b[2K     \u001b[90m━━━━━━━━━━━━━━━━━━━━━━━━━━━━━━━━━━━━━━━━\u001b[0m \u001b[32m16.7/16.7 MB\u001b[0m \u001b[31m48.5 MB/s\u001b[0m eta \u001b[36m0:00:00\u001b[0m\n",
            "\u001b[2K     \u001b[90m━━━━━━━━━━━━━━━━━━━━━━━━━━━━━━━━━━━━━━\u001b[0m \u001b[32m179.5/179.5 kB\u001b[0m \u001b[31m16.1 MB/s\u001b[0m eta \u001b[36m0:00:00\u001b[0m\n",
            "\u001b[?25h  Building wheel for esda (setup.py) ... \u001b[?25l\u001b[?25hdone\n",
            "\u001b[33mWARNING: Running pip as the 'root' user can result in broken permissions and conflicting behaviour with the system package manager. It is recommended to use a virtual environment instead: https://pip.pypa.io/warnings/venv\u001b[0m\u001b[33m\n",
            "\u001b[2K     \u001b[90m━━━━━━━━━━━━━━━━━━━━━━━━━━━━━━━━━━━━━━━━\u001b[0m \u001b[32m41.8/41.8 kB\u001b[0m \u001b[31m1.2 MB/s\u001b[0m eta \u001b[36m0:00:00\u001b[0m\n",
            "\u001b[?25h  Preparing metadata (setup.py) ... \u001b[?25l\u001b[?25hdone\n",
            "  Preparing metadata (setup.py) ... \u001b[?25l\u001b[?25hdone\n",
            "  Building wheel for mgwr (setup.py) ... \u001b[?25l\u001b[?25hdone\n",
            "  Building wheel for spglm (setup.py) ... \u001b[?25l\u001b[?25hdone\n",
            "\u001b[33mWARNING: Running pip as the 'root' user can result in broken permissions and conflicting behaviour with the system package manager. It is recommended to use a virtual environment instead: https://pip.pypa.io/warnings/venv\u001b[0m\u001b[33m\n",
            "\u001b[0m"
          ]
        }
      ]
    },
    {
      "cell_type": "markdown",
      "source": [
        "<h1>Preperation 2: Import Libraries</h1>\n",
        "\n",
        "> after installation we procced to import the libraries"
      ],
      "metadata": {
        "id": "YJrBnv2Zqszf"
      }
    },
    {
      "cell_type": "code",
      "execution_count": 2,
      "metadata": {
        "id": "9oawj62ciWQo"
      },
      "outputs": [],
      "source": [
        "#import libraries\n",
        "\n",
        "import numpy as np\n",
        "import pandas as pd\n",
        "import geopandas as gpd\n",
        "import seaborn as sns\n",
        "import matplotlib.pyplot as plt\n",
        "import matplotlib as mpl\n",
        "import libpysal as ps\n",
        "from mgwr.gwr import GWR, MGWR\n",
        "from mgwr.sel_bw import Sel_BW\n",
        "from mgwr.utils import shift_colormap, truncate_colormap\n",
        "from google.colab import drive\n",
        "from os import path, getcwd\n",
        "import itertools\n",
        "from sklearn.model_selection import train_test_split\n",
        "from sklearn.linear_model import LinearRegression\n",
        "from sklearn import linear_model\n",
        "import statsmodels.api as sm\n",
        "from statsmodels.stats.outliers_influence import variance_inflation_factor"
      ]
    },
    {
      "cell_type": "markdown",
      "source": [
        "<h1> Preperation 3: Moun Drive </h1>\n",
        "\n",
        "> To access data from google drive, We need to give permission to mount the drive and gain access to folders and files"
      ],
      "metadata": {
        "id": "XiqsCfH7q9Bn"
      }
    },
    {
      "cell_type": "code",
      "source": [
        "#mount the google drive used\n",
        "from google.colab import drive\n",
        "drive.mount('/content/drive')"
      ],
      "metadata": {
        "id": "2DUnJhipl4Jq",
        "colab": {
          "base_uri": "https://localhost:8080/"
        },
        "outputId": "94c21196-fc29-4763-dd83-f77b01cd0165"
      },
      "execution_count": 3,
      "outputs": [
        {
          "output_type": "stream",
          "name": "stdout",
          "text": [
            "Mounted at /content/drive\n"
          ]
        }
      ]
    },
    {
      "cell_type": "markdown",
      "source": [
        "<h1>Preperation 4: File Reference </h1>\n",
        "\n",
        "> Create a dictionary to use for file path reference and for process automation"
      ],
      "metadata": {
        "id": "_IWQb6eara_5"
      }
    },
    {
      "cell_type": "code",
      "source": [
        "GPKG_DATASET_DIRECTORY = \"/content/drive/My Drive/COLLEGE_THESIS_FOLDER/GPKG_FILES/\"\n",
        "\n",
        "\n",
        "gpkg_files_dict = {\n",
        "    \"Manila_City\" : \"Manila_City.gpkg\",\n",
        "    \"Taguig_City\" : \"Taguig_City.gpkg\",\n",
        "    \"Pasig_City\" : \"Pasig_City.gpkg\",\n",
        "    \"Paranaque_City\" : \"Paranaque_City.gpkg\",\n",
        "    \"Makati_City\" : \"Makati_City.gpkg\",\n",
        "    \"LasPinas_City\" : \"LasPinas_City.gpkg\",\n",
        "    \"Muntinlupa_City\" : \"Muntinlupa_City.gpkg\",\n",
        "    \"Pasay_City\" : \"Pasay_City.gpkg\",\n",
        "    \"Malabon_City\" : \"Malabon_City.gpkg\",\n",
        "    \"Butuan_City\" : \"Butuan_City.gpkg\",\n",
        "    \"grouped_study_area\" : \"grouped_study_area.gpkg\"  \n",
        "}\n",
        "\n",
        "\n",
        "\n",
        "DATASET_DIRECTORY = \"/content/drive/My Drive/COLLEGE_THESIS_FOLDER/DataSet/climactic_factor_dataset_v2/\"\n",
        "\n",
        "CITY_NAME= [\n",
        "    \"manila_city\",\n",
        "    \"valenzuela_city\",\n",
        "    \"taguig_city\",\n",
        "    \"pasig_city\",\n",
        "    \"pasay_city\",\n",
        "    \"paranaque_city\",\n",
        "    \"muntinlupa_city\",\n",
        "    \"malabon_city\",\n",
        "    \"makati_city\",\n",
        "    \"laspinas_city\"\n",
        "]\n",
        "\n",
        "\n",
        "LIGHTPOL_DIRECTORY = \"/content/drive/My Drive/COLLEGE_THESIS_FOLDER/DataSet/Light_pol_data/\"\n",
        "\n",
        "y_ext = [\"2012\", \"2013\", \"2014\", \"2015\", \"2016\", \"2017\", \"2018\", \"2019\", \"2020\", \"2021\"]\n",
        "lpol_cname = [\n",
        "  \"manila_lpol_data_\",\n",
        "  \"taguig_lpol_data_\",\n",
        "  \"pasig_lpol_data_\",\n",
        "  \"paranaque_lpol_data_\",\n",
        "  \"makati_lpol_data_\",\n",
        "  \"laspinas_lpol_data_\",\n",
        "  \"muntinlupa_lpol_data_\",\n",
        "  \"pasay_lpol_data_\",\n",
        "  \"malabon_lpol_data_\",\n",
        "  \"valenzuela_lpol_data_\",\n",
        "]"
      ],
      "metadata": {
        "id": "cyo_qF39lvu_"
      },
      "execution_count": 4,
      "outputs": []
    },
    {
      "cell_type": "markdown",
      "source": [
        "<h1>Preperation 5: Create helper function and class</h1>\n",
        "\n",
        "> Create function and classes methods that will be use repeatedly"
      ],
      "metadata": {
        "id": "2AbD9A_aZgRQ"
      }
    },
    {
      "cell_type": "code",
      "source": [
        "# Helper functions and Classes\n",
        "def get_gpk_fpath(city_name_arg = str):\n",
        "  try:\n",
        "    return GPKG_DATASET_DIRECTORY + gpkg_files_dict[city_name_arg]\n",
        "  except:\n",
        "    raise Exception(\"error in get_gpk_fpath func | No City in dataset\")\n",
        "    \n",
        "\n",
        "def get_file_path(city_name_arg):\n",
        "  _fstr = DATASET_DIRECTORY + city_name_arg + \".csv\"\n",
        "  return _fstr\n"
      ],
      "metadata": {
        "id": "Bg4kUtWzpXys"
      },
      "execution_count": 5,
      "outputs": []
    },
    {
      "cell_type": "code",
      "source": [
        "class MMREG_PROCS():\n",
        "  def __init__(self, x_arg, y_arg, title_arg = \"Data Analysis\"):\n",
        "    self.x_sample = x_arg\n",
        "    self.y_sample = y_arg\n",
        "    self.proc_title = title_arg\n",
        "  \n",
        "\n",
        "  def standard_proc(self, _show_plot_arg = True):\n",
        "    self.scikit_train_proc(show_plot_arg = _show_plot_arg)\n",
        "    self.disp_res_header()\n",
        "    self.scikit_proc()\n",
        "    self.statmod_proc()\n",
        "    self.calc_pct()\n",
        "\n",
        "  \n",
        "  def disp_res_header(self):\n",
        "    print((\"===\" * 26), \"'\\n\")\n",
        "    print(self.proc_title.center(26, \"=\"))\n",
        "\n",
        "\n",
        "  def calc_pct(self):\n",
        "    x_axis_pct_chage = pd.DataFrame(self.x_sample).pct_change()\n",
        "    y_axis_pct_chage = pd.DataFrame(self.y_sample).pct_change()\n",
        "\n",
        "    print((\"===\" * 26), \"'\\n\")\n",
        "    print(\"PCT: \\n\", x_axis_pct_chage, y_axis_pct_chage)\n",
        "    print((\"===\" * 26), \"'\\n\")\n",
        "    return [x_axis_pct_chage, y_axis_pct_chage]\n",
        "\n",
        "\n",
        "  def scikit_train_proc(self, test_size_arg = 0.3, random_state_arg = 0, show_plot_arg = True):\n",
        "    self.lr_model = LinearRegression()\n",
        "    self.X_train, self.X_test, self.y_train, self.y_test = train_test_split(self.x_sample, self.y_sample, test_size = test_size_arg, random_state = random_state_arg)\n",
        "    self.lr_model.fit(self.X_train, self.y_train)\n",
        "    self.y_pred = self.lr_model.predict(self.X_train)\n",
        "    \n",
        "    if show_plot_arg:\n",
        "      plt.scatter(self.y_train, self.y_pred, color = \"black\")\n",
        "      sns.regplot(x = self.y_train, y = self.y_pred , ci=None, color ='orange')\n",
        "\n",
        "      plt.style.use('seaborn-pastel')\n",
        "      plt.ylabel(\"Factors\")\n",
        "      plt.xlabel(\"N.Time Temp\")\n",
        "      plt.title(self.proc_title)\n",
        "\n",
        "      plt.show()\n",
        "    \n",
        "    return [self.y_train, self.y_pred]\n",
        "\n",
        "\n",
        "  def scikit_proc(self):\n",
        "    regr = linear_model.LinearRegression()\n",
        "    fitted_model = regr.fit(self.x_sample, self.y_sample)\n",
        "    print((\"===\" * 26), \"'\\n\")\n",
        "    print(\"SCIKIT LEARN RESULT: \")\n",
        "    print(\"Intercept: \", fitted_model.intercept_)\n",
        "    print('Coefficients: ', fitted_model.coef_)\n",
        "    print((\"===\" * 26), \"'\\n\")\n",
        "\n",
        "    return fitted_model\n",
        "\n",
        "\n",
        "  def statmod_proc(self):\n",
        "    _x = sm.add_constant(self.x_sample)\n",
        " \n",
        "    model = sm.OLS(self.y_sample, _x).fit()\n",
        "    predictions = model.predict(_x) \n",
        "    \n",
        "    reg_ressult = model.summary()\n",
        "    print(reg_ressult)\n",
        "\n",
        "    return reg_ressult\n",
        "  \n",
        "\n",
        "  def vif(self, print_output = True):\n",
        "    _result = [variance_inflation_factor(self.x_sample.values, i) for i in range(len(self.x_sample.columns))]\n",
        "    return _result"
      ],
      "metadata": {
        "id": "E15rZqedKmMD"
      },
      "execution_count": 6,
      "outputs": []
    },
    {
      "cell_type": "markdown",
      "source": [
        "<h1>Procedures</h1>\n",
        "\n",
        "> 1. get light pollution annual average per city\n",
        "<br>\n",
        "> 2. filter data to obtains night time information (7pm-4am)\n",
        "<br>\n",
        "> 3. Calculate the annaul average of every parameter for every city\n",
        "<br>\n",
        "> 4. Create new Data frame for every city obtaining the night time annual average value of parameters\n",
        "<br>\n",
        "> 5. Combine all the processed data into a single dataset "
      ],
      "metadata": {
        "id": "pbPtMz0BZ7qN"
      }
    },
    {
      "cell_type": "markdown",
      "source": [
        "<h1>Procedure 1</h1>\n",
        "\n",
        "> 1. get light pollution annual average per city\n",
        "\n"
      ],
      "metadata": {
        "id": "LPDMOKz2biBu"
      }
    },
    {
      "cell_type": "code",
      "source": [
        "dict_keys = ['Manila_City', 'Taguig_City', 'Pasig_City', 'Paranaque_City', 'Makati_City', 'Las Pinas_City', 'Muntinlupa_City', 'Pasay_City', 'Malabon_City', 'Valenzuela_City']\n",
        "lpol_data_dict = {}\n",
        "\n",
        "for _index in range(len(lpol_cname)):\n",
        "  _avg_init_list = []\n",
        "  for _year in y_ext:\n",
        "    fname = lpol_cname[_index] + _year\n",
        "\n",
        "    avg_val = np.average(np.array(pd.read_csv(LIGHTPOL_DIRECTORY + fname + \".csv\", skiprows = 1))) # open csv || skip headder >> convert to numpy >> get avg\n",
        "    _avg_init_list.append(avg_val)\n",
        "\n",
        "  lpol_data_dict[dict_keys[_index]] = _avg_init_list\n",
        "  print(dict_keys[_index], \": Data Process complete\")\n",
        "\n",
        "lpol_data_df = pd.DataFrame(lpol_data_dict)"
      ],
      "metadata": {
        "id": "u_piBR72dTBA",
        "colab": {
          "base_uri": "https://localhost:8080/"
        },
        "outputId": "7fa3ab63-2745-46e7-9081-2781ec7a4e83"
      },
      "execution_count": 7,
      "outputs": [
        {
          "output_type": "stream",
          "name": "stdout",
          "text": [
            "Manila_City : Data Process complete\n",
            "Taguig_City : Data Process complete\n",
            "Pasig_City : Data Process complete\n",
            "Paranaque_City : Data Process complete\n",
            "Makati_City : Data Process complete\n",
            "Las Pinas_City : Data Process complete\n",
            "Muntinlupa_City : Data Process complete\n",
            "Pasay_City : Data Process complete\n",
            "Malabon_City : Data Process complete\n",
            "Valenzuela_City : Data Process complete\n"
          ]
        }
      ]
    },
    {
      "cell_type": "markdown",
      "source": [
        "<h1>Procedures 2</h1>\n",
        "\n",
        "> 2. filter data to obtains night time information (7pm-4am)\n"
      ],
      "metadata": {
        "id": "XLmFe88Sb7Bv"
      }
    },
    {
      "cell_type": "code",
      "source": [
        "# create a empty dictionary\n",
        "nt_city_df_dict = {}\n",
        "\n",
        "# loop through the list\n",
        "for city in CITY_NAME:\n",
        "  dict_key = city\n",
        "  city_df = pd.read_csv(get_file_path(city), skiprows = 13)\n",
        "  \n",
        "  # filter data from t-19 to t-04\n",
        "  print(\"Proc city: \", city)\n",
        "  nightime_data = city_df.loc[(city_df[\"HR\"] <= 4) | (city_df[\"HR\"] >= 19)]\n",
        "\n",
        "  # create new dictinary item and add new data\n",
        "  nt_city_df_dict[dict_key] = nightime_data\n",
        "\n",
        "\n",
        "print(nt_city_df_dict.keys())"
      ],
      "metadata": {
        "id": "Pu1kWyc6pas5",
        "colab": {
          "base_uri": "https://localhost:8080/"
        },
        "outputId": "534c36b3-61a4-49c5-aec1-d363cc88281d"
      },
      "execution_count": 8,
      "outputs": [
        {
          "output_type": "stream",
          "name": "stdout",
          "text": [
            "Proc city:  manila_city\n",
            "Proc city:  valenzuela_city\n",
            "Proc city:  taguig_city\n",
            "Proc city:  pasig_city\n",
            "Proc city:  pasay_city\n",
            "Proc city:  paranaque_city\n",
            "Proc city:  muntinlupa_city\n",
            "Proc city:  malabon_city\n",
            "Proc city:  makati_city\n",
            "Proc city:  laspinas_city\n",
            "dict_keys(['manila_city', 'valenzuela_city', 'taguig_city', 'pasig_city', 'pasay_city', 'paranaque_city', 'muntinlupa_city', 'malabon_city', 'makati_city', 'laspinas_city'])\n"
          ]
        }
      ]
    },
    {
      "cell_type": "markdown",
      "source": [
        "<h1>Procedures 3</h1>\n",
        "\n",
        "\n",
        "> 3. Calculate the annaul average of every parameter for every city\n"
      ],
      "metadata": {
        "id": "_-xnFiVab_Wm"
      }
    },
    {
      "cell_type": "code",
      "source": [
        "# year 2011-2020\n",
        "year_range = [i for i in range(2012, 2022)]\n",
        "# climactic factors\n",
        "df_params = [\"PS\", \"T2M\", \"QV2M\", \"WS10M\", \"PRECTOTCORR\", \"Lat\", \"Long\"]\n",
        "\n",
        "# initialize empty dictionary\n",
        "cities_yparam_avg_val = {}\n",
        "\n",
        "# loop through the cities \n",
        "for city_name in CITY_NAME: # or CITY_NAME_2010_2010 || Same value\n",
        "  city_dict_key = city_name\n",
        "  cities_yparam_avg_val[city_dict_key] = {}\n",
        "  \n",
        "  # loop through the climatic factors\n",
        "  for param_name in df_params:\n",
        "    # initialize new empty list every iteration\n",
        "    initial_param_avg_list = []\n",
        "\n",
        "    # loop through the year\n",
        "    for _year in year_range:\n",
        "      # get the average value of the current iterated climatic factor\n",
        "\n",
        "      tgt_y = nt_city_df_dict[city_dict_key].loc[nt_city_df_dict[city_dict_key][\"YEAR\"] == _year][param_name]\n",
        "      param_avg_val = np.average(np.array(tgt_y))\n",
        "\n",
        "      # appent to empty list\n",
        "      initial_param_avg_list.append(param_avg_val)\n",
        "\n",
        "      # add new dictionary key and its value\n",
        "      cities_yparam_avg_val[city_dict_key][param_name] = np.array(initial_param_avg_list)\n",
        "\n",
        "\n",
        "print(cities_yparam_avg_val.keys())"
      ],
      "metadata": {
        "id": "sSrV2XzfpdVG",
        "colab": {
          "base_uri": "https://localhost:8080/"
        },
        "outputId": "6aaef6fd-c2cc-41bc-fbb1-0568449160db"
      },
      "execution_count": 9,
      "outputs": [
        {
          "output_type": "stream",
          "name": "stdout",
          "text": [
            "dict_keys(['manila_city', 'valenzuela_city', 'taguig_city', 'pasig_city', 'pasay_city', 'paranaque_city', 'muntinlupa_city', 'malabon_city', 'makati_city', 'laspinas_city'])\n"
          ]
        }
      ]
    },
    {
      "cell_type": "markdown",
      "source": [
        "<h1>Procedures 4</h1>\n",
        "\n",
        "> 4. Create new Data frame for every city obtaining the night time annual average value of parameters\n",
        " "
      ],
      "metadata": {
        "id": "N218ndbFcEDD"
      }
    },
    {
      "cell_type": "code",
      "source": [
        "paranaque_df = pd.DataFrame(cities_yparam_avg_val[\"paranaque_city\"])\n",
        "valenzuela_df = pd.DataFrame(cities_yparam_avg_val[\"valenzuela_city\"])\n",
        "taguig_df = pd.DataFrame(cities_yparam_avg_val[\"taguig_city\"])\n",
        "makati_df = pd.DataFrame(cities_yparam_avg_val[\"makati_city\"])\n",
        "muntinlupa_df = pd.DataFrame(cities_yparam_avg_val[\"muntinlupa_city\"])\n",
        "manila_df = pd.DataFrame(cities_yparam_avg_val[\"manila_city\"])\n",
        "pasig_df = pd.DataFrame(cities_yparam_avg_val[\"pasig_city\"])\n",
        "las_Pinas_df = pd.DataFrame(cities_yparam_avg_val[\"laspinas_city\"])\n",
        "pasay_df = pd.DataFrame(cities_yparam_avg_val[\"pasay_city\"])\n",
        "malabon_df = pd.DataFrame(cities_yparam_avg_val[\"malabon_city\"])"
      ],
      "metadata": {
        "id": "5dhQ5NN16Hui"
      },
      "execution_count": 10,
      "outputs": []
    },
    {
      "cell_type": "markdown",
      "source": [
        "<h1>Procedures 5</h1>\n",
        "\n",
        "> 5. Combine all the processed data into a single dataset "
      ],
      "metadata": {
        "id": "p1OzgEiHcG1A"
      }
    },
    {
      "cell_type": "code",
      "source": [
        "# (long, lat)\n",
        "paranque_coord = [(nt_city_df_dict[\"paranaque_city\"][\"Long\"].iloc[0], nt_city_df_dict[\"paranaque_city\"][\"Lat\"].iloc[0])] * 10\n",
        "valenzuela_coord = [(nt_city_df_dict[\"valenzuela_city\"][\"Long\"].iloc[0], nt_city_df_dict[\"valenzuela_city\"][\"Lat\"].iloc[0])] * 10\n",
        "taguig_coord = [(nt_city_df_dict[\"taguig_city\"][\"Long\"].iloc[0], nt_city_df_dict[\"taguig_city\"][\"Lat\"].iloc[0])] * 10\n",
        "makati_coord = [(nt_city_df_dict[\"makati_city\"][\"Long\"].iloc[0], nt_city_df_dict[\"makati_city\"][\"Lat\"].iloc[0])] * 10\n",
        "muntinlupa_coord = [(nt_city_df_dict[\"muntinlupa_city\"][\"Long\"].iloc[0], nt_city_df_dict[\"muntinlupa_city\"][\"Lat\"].iloc[0])] * 10\n",
        "manila_coord = [(nt_city_df_dict[\"manila_city\"][\"Long\"].iloc[0], nt_city_df_dict[\"manila_city\"][\"Lat\"].iloc[0])] * 10\n",
        "pasig_coord = [(nt_city_df_dict[\"pasig_city\"][\"Long\"].iloc[0], nt_city_df_dict[\"pasig_city\"][\"Lat\"].iloc[0])] * 10\n",
        "pasay_coord = [(nt_city_df_dict[\"pasay_city\"][\"Long\"].iloc[0], nt_city_df_dict[\"pasay_city\"][\"Lat\"].iloc[0])] * 10\n",
        "malabon_coord = [(nt_city_df_dict[\"malabon_city\"][\"Long\"].iloc[0], nt_city_df_dict[\"malabon_city\"][\"Lat\"].iloc[0])] * 10\n",
        "laspinas_coord = [(nt_city_df_dict[\"laspinas_city\"][\"Long\"].iloc[0], nt_city_df_dict[\"laspinas_city\"][\"Lat\"].iloc[0])] * 10\n",
        "\n",
        "\n",
        "g_coords = paranque_coord + valenzuela_coord + taguig_coord + makati_coord + muntinlupa_coord + manila_coord + pasig_coord + pasay_coord + malabon_coord + laspinas_coord\n",
        "cities_df = [\n",
        "    paranaque_df, \n",
        "    valenzuela_df, \n",
        "    taguig_df, \n",
        "    makati_df, \n",
        "    muntinlupa_df, \n",
        "    manila_df, \n",
        "    pasig_df, \n",
        "    pasay_df, \n",
        "    malabon_df, \n",
        "    las_Pinas_df]\n",
        "\n",
        "\n",
        "lpol_data = [\n",
        "    lpol_data_df[\"Paranaque_City\"],\n",
        "    lpol_data_df[\"Manila_City\"],\n",
        "    lpol_data_df[\"Taguig_City\"],\n",
        "    lpol_data_df[\"Pasig_City\"],\n",
        "    lpol_data_df[\"Las Pinas_City\"],\n",
        "    lpol_data_df[\"Muntinlupa_City\"],\n",
        "    lpol_data_df[\"Pasay_City\"],\n",
        "    lpol_data_df[\"Malabon_City\"],\n",
        "    lpol_data_df[\"Valenzuela_City\"],\n",
        "    lpol_data_df[\"Makati_City\"]\n",
        "]\n",
        "\n",
        "NCR_geopckg = get_gpk_fpath(\"grouped_study_area\")\n",
        "NCR_geopckg = gpd.read_file(NCR_geopckg)\n",
        "\n",
        "lpol_df_data = pd.concat(lpol_data)\n",
        "cities_df = pd.concat(cities_df)\n",
        "\n",
        "\n",
        "cities_df[\"LongLat\"] = g_coords\n",
        "cities_df[\"lpol_avg\"] = lpol_df_data"
      ],
      "metadata": {
        "id": "zLkJxa1TnoAo"
      },
      "execution_count": 11,
      "outputs": []
    },
    {
      "cell_type": "code",
      "source": [
        "#cities_df.to_csv(DATASET_DIRECTORY + 'grouped_samnples_pgkg_set.csv')"
      ],
      "metadata": {
        "id": "YVc9_aUsiq9f"
      },
      "execution_count": 12,
      "outputs": []
    },
    {
      "cell_type": "code",
      "source": [
        "paranaque_df.iloc[[paranaque_df[\"PS\"].idxmax()]]"
      ],
      "metadata": {
        "colab": {
          "base_uri": "https://localhost:8080/",
          "height": 81
        },
        "id": "Vy0EMcqTuSBN",
        "outputId": "2c149226-c296-4c1a-b267-cdf69efa6b45"
      },
      "execution_count": 118,
      "outputs": [
        {
          "output_type": "execute_result",
          "data": {
            "text/plain": [
              "          PS        T2M       QV2M     WS10M  PRECTOTCORR      Lat      Long\n",
              "3  98.866364  23.948049  17.596636  2.378178     0.250077  14.4793  121.0198"
            ],
            "text/html": [
              "\n",
              "  <div id=\"df-96ffafc9-6ca6-401d-93c4-2da1d82dd7ee\">\n",
              "    <div class=\"colab-df-container\">\n",
              "      <div>\n",
              "<style scoped>\n",
              "    .dataframe tbody tr th:only-of-type {\n",
              "        vertical-align: middle;\n",
              "    }\n",
              "\n",
              "    .dataframe tbody tr th {\n",
              "        vertical-align: top;\n",
              "    }\n",
              "\n",
              "    .dataframe thead th {\n",
              "        text-align: right;\n",
              "    }\n",
              "</style>\n",
              "<table border=\"1\" class=\"dataframe\">\n",
              "  <thead>\n",
              "    <tr style=\"text-align: right;\">\n",
              "      <th></th>\n",
              "      <th>PS</th>\n",
              "      <th>T2M</th>\n",
              "      <th>QV2M</th>\n",
              "      <th>WS10M</th>\n",
              "      <th>PRECTOTCORR</th>\n",
              "      <th>Lat</th>\n",
              "      <th>Long</th>\n",
              "    </tr>\n",
              "  </thead>\n",
              "  <tbody>\n",
              "    <tr>\n",
              "      <th>3</th>\n",
              "      <td>98.866364</td>\n",
              "      <td>23.948049</td>\n",
              "      <td>17.596636</td>\n",
              "      <td>2.378178</td>\n",
              "      <td>0.250077</td>\n",
              "      <td>14.4793</td>\n",
              "      <td>121.0198</td>\n",
              "    </tr>\n",
              "  </tbody>\n",
              "</table>\n",
              "</div>\n",
              "      <button class=\"colab-df-convert\" onclick=\"convertToInteractive('df-96ffafc9-6ca6-401d-93c4-2da1d82dd7ee')\"\n",
              "              title=\"Convert this dataframe to an interactive table.\"\n",
              "              style=\"display:none;\">\n",
              "        \n",
              "  <svg xmlns=\"http://www.w3.org/2000/svg\" height=\"24px\"viewBox=\"0 0 24 24\"\n",
              "       width=\"24px\">\n",
              "    <path d=\"M0 0h24v24H0V0z\" fill=\"none\"/>\n",
              "    <path d=\"M18.56 5.44l.94 2.06.94-2.06 2.06-.94-2.06-.94-.94-2.06-.94 2.06-2.06.94zm-11 1L8.5 8.5l.94-2.06 2.06-.94-2.06-.94L8.5 2.5l-.94 2.06-2.06.94zm10 10l.94 2.06.94-2.06 2.06-.94-2.06-.94-.94-2.06-.94 2.06-2.06.94z\"/><path d=\"M17.41 7.96l-1.37-1.37c-.4-.4-.92-.59-1.43-.59-.52 0-1.04.2-1.43.59L10.3 9.45l-7.72 7.72c-.78.78-.78 2.05 0 2.83L4 21.41c.39.39.9.59 1.41.59.51 0 1.02-.2 1.41-.59l7.78-7.78 2.81-2.81c.8-.78.8-2.07 0-2.86zM5.41 20L4 18.59l7.72-7.72 1.47 1.35L5.41 20z\"/>\n",
              "  </svg>\n",
              "      </button>\n",
              "      \n",
              "  <style>\n",
              "    .colab-df-container {\n",
              "      display:flex;\n",
              "      flex-wrap:wrap;\n",
              "      gap: 12px;\n",
              "    }\n",
              "\n",
              "    .colab-df-convert {\n",
              "      background-color: #E8F0FE;\n",
              "      border: none;\n",
              "      border-radius: 50%;\n",
              "      cursor: pointer;\n",
              "      display: none;\n",
              "      fill: #1967D2;\n",
              "      height: 32px;\n",
              "      padding: 0 0 0 0;\n",
              "      width: 32px;\n",
              "    }\n",
              "\n",
              "    .colab-df-convert:hover {\n",
              "      background-color: #E2EBFA;\n",
              "      box-shadow: 0px 1px 2px rgba(60, 64, 67, 0.3), 0px 1px 3px 1px rgba(60, 64, 67, 0.15);\n",
              "      fill: #174EA6;\n",
              "    }\n",
              "\n",
              "    [theme=dark] .colab-df-convert {\n",
              "      background-color: #3B4455;\n",
              "      fill: #D2E3FC;\n",
              "    }\n",
              "\n",
              "    [theme=dark] .colab-df-convert:hover {\n",
              "      background-color: #434B5C;\n",
              "      box-shadow: 0px 1px 3px 1px rgba(0, 0, 0, 0.15);\n",
              "      filter: drop-shadow(0px 1px 2px rgba(0, 0, 0, 0.3));\n",
              "      fill: #FFFFFF;\n",
              "    }\n",
              "  </style>\n",
              "\n",
              "      <script>\n",
              "        const buttonEl =\n",
              "          document.querySelector('#df-96ffafc9-6ca6-401d-93c4-2da1d82dd7ee button.colab-df-convert');\n",
              "        buttonEl.style.display =\n",
              "          google.colab.kernel.accessAllowed ? 'block' : 'none';\n",
              "\n",
              "        async function convertToInteractive(key) {\n",
              "          const element = document.querySelector('#df-96ffafc9-6ca6-401d-93c4-2da1d82dd7ee');\n",
              "          const dataTable =\n",
              "            await google.colab.kernel.invokeFunction('convertToInteractive',\n",
              "                                                     [key], {});\n",
              "          if (!dataTable) return;\n",
              "\n",
              "          const docLinkHtml = 'Like what you see? Visit the ' +\n",
              "            '<a target=\"_blank\" href=https://colab.research.google.com/notebooks/data_table.ipynb>data table notebook</a>'\n",
              "            + ' to learn more about interactive tables.';\n",
              "          element.innerHTML = '';\n",
              "          dataTable['output_type'] = 'display_data';\n",
              "          await google.colab.output.renderOutput(dataTable, element);\n",
              "          const docLink = document.createElement('div');\n",
              "          docLink.innerHTML = docLinkHtml;\n",
              "          element.appendChild(docLink);\n",
              "        }\n",
              "      </script>\n",
              "    </div>\n",
              "  </div>\n",
              "  "
            ]
          },
          "metadata": {},
          "execution_count": 118
        }
      ]
    },
    {
      "cell_type": "code",
      "source": [
        "#paranaque_df.iloc[[paranaque_df[\"PS\"].idxmax()]]\n",
        "#paranaque_df[\"PS\"].max()\n",
        "\n",
        "def get_min_max_param(df_arg, res_title_arg = \"NO TITLE\"):\n",
        "  param_val = [\"PS\", \"T2M\", \"QV2M\", \"WS10M\", \"PRECTOTCORR\"]\n",
        "\n",
        "  print(res_title_arg.center(90, \"=\"), \"\\n\")\n",
        "  for param in param_val:\n",
        "    _max_val = df_arg[param].max()\n",
        "    _min_val = df_arg[param].min()\n",
        "    \n",
        "    print((\"PARAMETER: \"+ param).center(78, \"=\"), \"\\n\")\n",
        "    \n",
        "    max_df_res = df_arg.loc[df_arg[param] == df_arg[param].min()]\n",
        "    min_df_res = df_arg.loc[df_arg[param] == df_arg[param].max()]\n",
        "\n",
        "    print(+ \"MIN || YEAR: \", min_df_res[\"YEAR\"], \" Value: \", min_df_res[param], \" \\n\")\n",
        "    print(\"MAX || YEAR: \", max_df_res[\"YEAR\"], \" Value: \", max_df_res[param], \" \\n\")\n",
        "\n",
        "  \n",
        "  print((res_title_arg + \" END\").center(90, \"=\"), \"\\n\")\n",
        "\n",
        "\n"
      ],
      "metadata": {
        "id": "RuQNKxSfeCM6"
      },
      "execution_count": 142,
      "outputs": []
    },
    {
      "cell_type": "code",
      "source": [
        "city_annual_data = ['manila_city', 'valenzuela_city', 'taguig_city', 'pasig_city', 'pasay_city', 'paranaque_city', 'muntinlupa_city', 'malabon_city', 'makati_city', 'laspinas_city']\n",
        "#nt_city_df_dict\n",
        "\n",
        "for _city in city_annual_data:\n",
        "  get_min_max_param(nt_city_df_dict[_city], _city)"
      ],
      "metadata": {
        "colab": {
          "base_uri": "https://localhost:8080/"
        },
        "id": "6WP9CfUpqfew",
        "outputId": "6cf3cd4f-d8f8-400d-9b40-e6721c204430"
      },
      "execution_count": 144,
      "outputs": [
        {
          "output_type": "stream",
          "name": "stdout",
          "text": [
            "=======================================manila_city======================================== \n",
            "\n",
            "================================PARAMETER: PS================================= \n",
            "\n",
            "     MIN || YEAR:  44917    2017\n",
            "Name: YEAR, dtype: int64  Value:  44917    99.77\n",
            "Name: PS, dtype: float64  \n",
            "\n",
            "     MAX || YEAR:  77705    2020\n",
            "Name: YEAR, dtype: int64  Value:  77705    96.82\n",
            "Name: PS, dtype: float64  \n",
            "\n",
            "================================PARAMETER: T2M================================ \n",
            "\n",
            "     MIN || YEAR:  82523    2021\n",
            "Name: YEAR, dtype: int64  Value:  82523    30.13\n",
            "Name: T2M, dtype: float64  \n",
            "\n",
            "     MAX || YEAR:  18116    2014\n",
            "Name: YEAR, dtype: int64  Value:  18116    16.01\n",
            "Name: T2M, dtype: float64  \n",
            "\n",
            "===============================PARAMETER: QV2M================================ \n",
            "\n",
            "     MIN || YEAR:  65052    2019\n",
            "65053    2019\n",
            "65246    2019\n",
            "65390    2019\n",
            "82529    2021\n",
            "Name: YEAR, dtype: int64  Value:  65052    21.73\n",
            "65053    21.73\n",
            "65246    21.73\n",
            "65390    21.73\n",
            "82529    21.73\n",
            "Name: QV2M, dtype: float64  \n",
            "\n",
            "     MAX || YEAR:  18113    2014\n",
            "18114    2014\n",
            "Name: YEAR, dtype: int64  Value:  18113    10.62\n",
            "18114    10.62\n",
            "Name: QV2M, dtype: float64  \n",
            "\n",
            "===============================PARAMETER: WS10M=============================== \n",
            "\n",
            "     MIN || YEAR:  77704    2020\n",
            "Name: YEAR, dtype: int64  Value:  77704    11.91\n",
            "Name: WS10M, dtype: float64  \n",
            "\n",
            "     MAX || YEAR:  65777    2019\n",
            "Name: YEAR, dtype: int64  Value:  65777    0.01\n",
            "Name: WS10M, dtype: float64  \n",
            "\n",
            "============================PARAMETER: PRECTOTCORR============================ \n",
            "\n",
            "     MIN || YEAR:  72206    2020\n",
            "Name: YEAR, dtype: int64  Value:  72206    19.93\n",
            "Name: PRECTOTCORR, dtype: float64  \n",
            "\n",
            "     MAX || YEAR:  492      2012\n",
            "493      2012\n",
            "494      2012\n",
            "495      2012\n",
            "496      2012\n",
            "         ... \n",
            "87636    2021\n",
            "87641    2021\n",
            "87642    2021\n",
            "87643    2021\n",
            "87644    2021\n",
            "Name: YEAR, Length: 5737, dtype: int64  Value:  492      0.0\n",
            "493      0.0\n",
            "494      0.0\n",
            "495      0.0\n",
            "496      0.0\n",
            "        ... \n",
            "87636    0.0\n",
            "87641    0.0\n",
            "87642    0.0\n",
            "87643    0.0\n",
            "87644    0.0\n",
            "Name: PRECTOTCORR, Length: 5737, dtype: float64  \n",
            "\n",
            "=====================================manila_city END====================================== \n",
            "\n",
            "=====================================valenzuela_city====================================== \n",
            "\n",
            "================================PARAMETER: PS================================= \n",
            "\n",
            "     MIN || YEAR:  44917    2017\n",
            "Name: YEAR, dtype: int64  Value:  44917    99.77\n",
            "Name: PS, dtype: float64  \n",
            "\n",
            "     MAX || YEAR:  77705    2020\n",
            "Name: YEAR, dtype: int64  Value:  77705    96.82\n",
            "Name: PS, dtype: float64  \n",
            "\n",
            "================================PARAMETER: T2M================================ \n",
            "\n",
            "     MIN || YEAR:  82523    2021\n",
            "Name: YEAR, dtype: int64  Value:  82523    30.13\n",
            "Name: T2M, dtype: float64  \n",
            "\n",
            "     MAX || YEAR:  18116    2014\n",
            "Name: YEAR, dtype: int64  Value:  18116    16.01\n",
            "Name: T2M, dtype: float64  \n",
            "\n",
            "===============================PARAMETER: QV2M================================ \n",
            "\n",
            "     MIN || YEAR:  65052    2019\n",
            "65053    2019\n",
            "65246    2019\n",
            "65390    2019\n",
            "82529    2021\n",
            "Name: YEAR, dtype: int64  Value:  65052    21.73\n",
            "65053    21.73\n",
            "65246    21.73\n",
            "65390    21.73\n",
            "82529    21.73\n",
            "Name: QV2M, dtype: float64  \n",
            "\n",
            "     MAX || YEAR:  18113    2014\n",
            "18114    2014\n",
            "Name: YEAR, dtype: int64  Value:  18113    10.62\n",
            "18114    10.62\n",
            "Name: QV2M, dtype: float64  \n",
            "\n",
            "===============================PARAMETER: WS10M=============================== \n",
            "\n",
            "     MIN || YEAR:  77704    2020\n",
            "Name: YEAR, dtype: int64  Value:  77704    11.91\n",
            "Name: WS10M, dtype: float64  \n",
            "\n",
            "     MAX || YEAR:  65777    2019\n",
            "Name: YEAR, dtype: int64  Value:  65777    0.01\n",
            "Name: WS10M, dtype: float64  \n",
            "\n",
            "============================PARAMETER: PRECTOTCORR============================ \n",
            "\n",
            "     MIN || YEAR:  72206    2020\n",
            "Name: YEAR, dtype: int64  Value:  72206    19.93\n",
            "Name: PRECTOTCORR, dtype: float64  \n",
            "\n",
            "     MAX || YEAR:  492      2012\n",
            "493      2012\n",
            "494      2012\n",
            "495      2012\n",
            "496      2012\n",
            "         ... \n",
            "87636    2021\n",
            "87641    2021\n",
            "87642    2021\n",
            "87643    2021\n",
            "87644    2021\n",
            "Name: YEAR, Length: 5737, dtype: int64  Value:  492      0.0\n",
            "493      0.0\n",
            "494      0.0\n",
            "495      0.0\n",
            "496      0.0\n",
            "        ... \n",
            "87636    0.0\n",
            "87641    0.0\n",
            "87642    0.0\n",
            "87643    0.0\n",
            "87644    0.0\n",
            "Name: PRECTOTCORR, Length: 5737, dtype: float64  \n",
            "\n",
            "===================================valenzuela_city END==================================== \n",
            "\n",
            "=======================================taguig_city======================================== \n",
            "\n",
            "================================PARAMETER: PS================================= \n",
            "\n",
            "     MIN || YEAR:  44917    2017\n",
            "Name: YEAR, dtype: int64  Value:  44917    99.77\n",
            "Name: PS, dtype: float64  \n",
            "\n",
            "     MAX || YEAR:  77705    2020\n",
            "Name: YEAR, dtype: int64  Value:  77705    96.82\n",
            "Name: PS, dtype: float64  \n",
            "\n",
            "================================PARAMETER: T2M================================ \n",
            "\n",
            "     MIN || YEAR:  82523    2021\n",
            "Name: YEAR, dtype: int64  Value:  82523    30.13\n",
            "Name: T2M, dtype: float64  \n",
            "\n",
            "     MAX || YEAR:  18116    2014\n",
            "Name: YEAR, dtype: int64  Value:  18116    16.01\n",
            "Name: T2M, dtype: float64  \n",
            "\n",
            "===============================PARAMETER: QV2M================================ \n",
            "\n",
            "     MIN || YEAR:  65052    2019\n",
            "65053    2019\n",
            "65246    2019\n",
            "65390    2019\n",
            "82529    2021\n",
            "Name: YEAR, dtype: int64  Value:  65052    21.73\n",
            "65053    21.73\n",
            "65246    21.73\n",
            "65390    21.73\n",
            "82529    21.73\n",
            "Name: QV2M, dtype: float64  \n",
            "\n",
            "     MAX || YEAR:  18113    2014\n",
            "18114    2014\n",
            "Name: YEAR, dtype: int64  Value:  18113    10.62\n",
            "18114    10.62\n",
            "Name: QV2M, dtype: float64  \n",
            "\n",
            "===============================PARAMETER: WS10M=============================== \n",
            "\n",
            "     MIN || YEAR:  77704    2020\n",
            "Name: YEAR, dtype: int64  Value:  77704    11.91\n",
            "Name: WS10M, dtype: float64  \n",
            "\n",
            "     MAX || YEAR:  65777    2019\n",
            "Name: YEAR, dtype: int64  Value:  65777    0.01\n",
            "Name: WS10M, dtype: float64  \n",
            "\n",
            "============================PARAMETER: PRECTOTCORR============================ \n",
            "\n",
            "     MIN || YEAR:  72206    2020\n",
            "Name: YEAR, dtype: int64  Value:  72206    19.93\n",
            "Name: PRECTOTCORR, dtype: float64  \n",
            "\n",
            "     MAX || YEAR:  492      2012\n",
            "493      2012\n",
            "494      2012\n",
            "495      2012\n",
            "496      2012\n",
            "         ... \n",
            "87636    2021\n",
            "87641    2021\n",
            "87642    2021\n",
            "87643    2021\n",
            "87644    2021\n",
            "Name: YEAR, Length: 5737, dtype: int64  Value:  492      0.0\n",
            "493      0.0\n",
            "494      0.0\n",
            "495      0.0\n",
            "496      0.0\n",
            "        ... \n",
            "87636    0.0\n",
            "87641    0.0\n",
            "87642    0.0\n",
            "87643    0.0\n",
            "87644    0.0\n",
            "Name: PRECTOTCORR, Length: 5737, dtype: float64  \n",
            "\n",
            "=====================================taguig_city END====================================== \n",
            "\n",
            "========================================pasig_city======================================== \n",
            "\n",
            "================================PARAMETER: PS================================= \n",
            "\n",
            "     MIN || YEAR:  44917    2017\n",
            "Name: YEAR, dtype: int64  Value:  44917    99.77\n",
            "Name: PS, dtype: float64  \n",
            "\n",
            "     MAX || YEAR:  77705    2020\n",
            "Name: YEAR, dtype: int64  Value:  77705    96.82\n",
            "Name: PS, dtype: float64  \n",
            "\n",
            "================================PARAMETER: T2M================================ \n",
            "\n",
            "     MIN || YEAR:  82523    2021\n",
            "Name: YEAR, dtype: int64  Value:  82523    30.13\n",
            "Name: T2M, dtype: float64  \n",
            "\n",
            "     MAX || YEAR:  18116    2014\n",
            "Name: YEAR, dtype: int64  Value:  18116    16.01\n",
            "Name: T2M, dtype: float64  \n",
            "\n",
            "===============================PARAMETER: QV2M================================ \n",
            "\n",
            "     MIN || YEAR:  65052    2019\n",
            "65053    2019\n",
            "65246    2019\n",
            "65390    2019\n",
            "82529    2021\n",
            "Name: YEAR, dtype: int64  Value:  65052    21.73\n",
            "65053    21.73\n",
            "65246    21.73\n",
            "65390    21.73\n",
            "82529    21.73\n",
            "Name: QV2M, dtype: float64  \n",
            "\n",
            "     MAX || YEAR:  18113    2014\n",
            "18114    2014\n",
            "Name: YEAR, dtype: int64  Value:  18113    10.62\n",
            "18114    10.62\n",
            "Name: QV2M, dtype: float64  \n",
            "\n",
            "===============================PARAMETER: WS10M=============================== \n",
            "\n",
            "     MIN || YEAR:  77704    2020\n",
            "Name: YEAR, dtype: int64  Value:  77704    11.91\n",
            "Name: WS10M, dtype: float64  \n",
            "\n",
            "     MAX || YEAR:  65777    2019\n",
            "Name: YEAR, dtype: int64  Value:  65777    0.01\n",
            "Name: WS10M, dtype: float64  \n",
            "\n",
            "============================PARAMETER: PRECTOTCORR============================ \n",
            "\n",
            "     MIN || YEAR:  72206    2020\n",
            "Name: YEAR, dtype: int64  Value:  72206    19.93\n",
            "Name: PRECTOTCORR, dtype: float64  \n",
            "\n",
            "     MAX || YEAR:  492      2012\n",
            "493      2012\n",
            "494      2012\n",
            "495      2012\n",
            "496      2012\n",
            "         ... \n",
            "87636    2021\n",
            "87641    2021\n",
            "87642    2021\n",
            "87643    2021\n",
            "87644    2021\n",
            "Name: YEAR, Length: 5737, dtype: int64  Value:  492      0.0\n",
            "493      0.0\n",
            "494      0.0\n",
            "495      0.0\n",
            "496      0.0\n",
            "        ... \n",
            "87636    0.0\n",
            "87641    0.0\n",
            "87642    0.0\n",
            "87643    0.0\n",
            "87644    0.0\n",
            "Name: PRECTOTCORR, Length: 5737, dtype: float64  \n",
            "\n",
            "======================================pasig_city END====================================== \n",
            "\n",
            "========================================pasay_city======================================== \n",
            "\n",
            "================================PARAMETER: PS================================= \n",
            "\n",
            "     MIN || YEAR:  44917    2017\n",
            "Name: YEAR, dtype: int64  Value:  44917    99.77\n",
            "Name: PS, dtype: float64  \n",
            "\n",
            "     MAX || YEAR:  77705    2020\n",
            "Name: YEAR, dtype: int64  Value:  77705    96.82\n",
            "Name: PS, dtype: float64  \n",
            "\n",
            "================================PARAMETER: T2M================================ \n",
            "\n",
            "     MIN || YEAR:  82523    2021\n",
            "Name: YEAR, dtype: int64  Value:  82523    30.13\n",
            "Name: T2M, dtype: float64  \n",
            "\n",
            "     MAX || YEAR:  18116    2014\n",
            "Name: YEAR, dtype: int64  Value:  18116    16.01\n",
            "Name: T2M, dtype: float64  \n",
            "\n",
            "===============================PARAMETER: QV2M================================ \n",
            "\n",
            "     MIN || YEAR:  65052    2019\n",
            "65053    2019\n",
            "65246    2019\n",
            "65390    2019\n",
            "82529    2021\n",
            "Name: YEAR, dtype: int64  Value:  65052    21.73\n",
            "65053    21.73\n",
            "65246    21.73\n",
            "65390    21.73\n",
            "82529    21.73\n",
            "Name: QV2M, dtype: float64  \n",
            "\n",
            "     MAX || YEAR:  18113    2014\n",
            "18114    2014\n",
            "Name: YEAR, dtype: int64  Value:  18113    10.62\n",
            "18114    10.62\n",
            "Name: QV2M, dtype: float64  \n",
            "\n",
            "===============================PARAMETER: WS10M=============================== \n",
            "\n",
            "     MIN || YEAR:  77704    2020\n",
            "Name: YEAR, dtype: int64  Value:  77704    11.91\n",
            "Name: WS10M, dtype: float64  \n",
            "\n",
            "     MAX || YEAR:  65777    2019\n",
            "Name: YEAR, dtype: int64  Value:  65777    0.01\n",
            "Name: WS10M, dtype: float64  \n",
            "\n",
            "============================PARAMETER: PRECTOTCORR============================ \n",
            "\n",
            "     MIN || YEAR:  72206    2020\n",
            "Name: YEAR, dtype: int64  Value:  72206    19.93\n",
            "Name: PRECTOTCORR, dtype: float64  \n",
            "\n",
            "     MAX || YEAR:  492      2012\n",
            "493      2012\n",
            "494      2012\n",
            "495      2012\n",
            "496      2012\n",
            "         ... \n",
            "87636    2021\n",
            "87641    2021\n",
            "87642    2021\n",
            "87643    2021\n",
            "87644    2021\n",
            "Name: YEAR, Length: 5737, dtype: int64  Value:  492      0.0\n",
            "493      0.0\n",
            "494      0.0\n",
            "495      0.0\n",
            "496      0.0\n",
            "        ... \n",
            "87636    0.0\n",
            "87641    0.0\n",
            "87642    0.0\n",
            "87643    0.0\n",
            "87644    0.0\n",
            "Name: PRECTOTCORR, Length: 5737, dtype: float64  \n",
            "\n",
            "======================================pasay_city END====================================== \n",
            "\n",
            "======================================paranaque_city====================================== \n",
            "\n",
            "================================PARAMETER: PS================================= \n",
            "\n",
            "     MIN || YEAR:  44917    2017\n",
            "Name: YEAR, dtype: int64  Value:  44917    99.77\n",
            "Name: PS, dtype: float64  \n",
            "\n",
            "     MAX || YEAR:  77705    2020\n",
            "Name: YEAR, dtype: int64  Value:  77705    96.82\n",
            "Name: PS, dtype: float64  \n",
            "\n",
            "================================PARAMETER: T2M================================ \n",
            "\n",
            "     MIN || YEAR:  82523    2021\n",
            "Name: YEAR, dtype: int64  Value:  82523    30.13\n",
            "Name: T2M, dtype: float64  \n",
            "\n",
            "     MAX || YEAR:  18116    2014\n",
            "Name: YEAR, dtype: int64  Value:  18116    16.01\n",
            "Name: T2M, dtype: float64  \n",
            "\n",
            "===============================PARAMETER: QV2M================================ \n",
            "\n",
            "     MIN || YEAR:  65052    2019\n",
            "65053    2019\n",
            "65246    2019\n",
            "65390    2019\n",
            "82529    2021\n",
            "Name: YEAR, dtype: int64  Value:  65052    21.73\n",
            "65053    21.73\n",
            "65246    21.73\n",
            "65390    21.73\n",
            "82529    21.73\n",
            "Name: QV2M, dtype: float64  \n",
            "\n",
            "     MAX || YEAR:  18113    2014\n",
            "18114    2014\n",
            "Name: YEAR, dtype: int64  Value:  18113    10.62\n",
            "18114    10.62\n",
            "Name: QV2M, dtype: float64  \n",
            "\n",
            "===============================PARAMETER: WS10M=============================== \n",
            "\n",
            "     MIN || YEAR:  77704    2020\n",
            "Name: YEAR, dtype: int64  Value:  77704    11.91\n",
            "Name: WS10M, dtype: float64  \n",
            "\n",
            "     MAX || YEAR:  65777    2019\n",
            "Name: YEAR, dtype: int64  Value:  65777    0.01\n",
            "Name: WS10M, dtype: float64  \n",
            "\n",
            "============================PARAMETER: PRECTOTCORR============================ \n",
            "\n",
            "     MIN || YEAR:  72206    2020\n",
            "Name: YEAR, dtype: int64  Value:  72206    19.93\n",
            "Name: PRECTOTCORR, dtype: float64  \n",
            "\n",
            "     MAX || YEAR:  492      2012\n",
            "493      2012\n",
            "494      2012\n",
            "495      2012\n",
            "496      2012\n",
            "         ... \n",
            "87636    2021\n",
            "87641    2021\n",
            "87642    2021\n",
            "87643    2021\n",
            "87644    2021\n",
            "Name: YEAR, Length: 5737, dtype: int64  Value:  492      0.0\n",
            "493      0.0\n",
            "494      0.0\n",
            "495      0.0\n",
            "496      0.0\n",
            "        ... \n",
            "87636    0.0\n",
            "87641    0.0\n",
            "87642    0.0\n",
            "87643    0.0\n",
            "87644    0.0\n",
            "Name: PRECTOTCORR, Length: 5737, dtype: float64  \n",
            "\n",
            "====================================paranaque_city END==================================== \n",
            "\n",
            "=====================================muntinlupa_city====================================== \n",
            "\n",
            "================================PARAMETER: PS================================= \n",
            "\n",
            "     MIN || YEAR:  44917    2017\n",
            "Name: YEAR, dtype: int64  Value:  44917    99.77\n",
            "Name: PS, dtype: float64  \n",
            "\n",
            "     MAX || YEAR:  77705    2020\n",
            "Name: YEAR, dtype: int64  Value:  77705    96.82\n",
            "Name: PS, dtype: float64  \n",
            "\n",
            "================================PARAMETER: T2M================================ \n",
            "\n",
            "     MIN || YEAR:  82523    2021\n",
            "Name: YEAR, dtype: int64  Value:  82523    30.13\n",
            "Name: T2M, dtype: float64  \n",
            "\n",
            "     MAX || YEAR:  18116    2014\n",
            "Name: YEAR, dtype: int64  Value:  18116    16.01\n",
            "Name: T2M, dtype: float64  \n",
            "\n",
            "===============================PARAMETER: QV2M================================ \n",
            "\n",
            "     MIN || YEAR:  65052    2019\n",
            "65053    2019\n",
            "65246    2019\n",
            "65390    2019\n",
            "82529    2021\n",
            "Name: YEAR, dtype: int64  Value:  65052    21.73\n",
            "65053    21.73\n",
            "65246    21.73\n",
            "65390    21.73\n",
            "82529    21.73\n",
            "Name: QV2M, dtype: float64  \n",
            "\n",
            "     MAX || YEAR:  18113    2014\n",
            "18114    2014\n",
            "Name: YEAR, dtype: int64  Value:  18113    10.62\n",
            "18114    10.62\n",
            "Name: QV2M, dtype: float64  \n",
            "\n",
            "===============================PARAMETER: WS10M=============================== \n",
            "\n",
            "     MIN || YEAR:  77704    2020\n",
            "Name: YEAR, dtype: int64  Value:  77704    11.91\n",
            "Name: WS10M, dtype: float64  \n",
            "\n",
            "     MAX || YEAR:  65777    2019\n",
            "Name: YEAR, dtype: int64  Value:  65777    0.01\n",
            "Name: WS10M, dtype: float64  \n",
            "\n",
            "============================PARAMETER: PRECTOTCORR============================ \n",
            "\n",
            "     MIN || YEAR:  72206    2020\n",
            "Name: YEAR, dtype: int64  Value:  72206    19.93\n",
            "Name: PRECTOTCORR, dtype: float64  \n",
            "\n",
            "     MAX || YEAR:  492      2012\n",
            "493      2012\n",
            "494      2012\n",
            "495      2012\n",
            "496      2012\n",
            "         ... \n",
            "87636    2021\n",
            "87641    2021\n",
            "87642    2021\n",
            "87643    2021\n",
            "87644    2021\n",
            "Name: YEAR, Length: 5737, dtype: int64  Value:  492      0.0\n",
            "493      0.0\n",
            "494      0.0\n",
            "495      0.0\n",
            "496      0.0\n",
            "        ... \n",
            "87636    0.0\n",
            "87641    0.0\n",
            "87642    0.0\n",
            "87643    0.0\n",
            "87644    0.0\n",
            "Name: PRECTOTCORR, Length: 5737, dtype: float64  \n",
            "\n",
            "===================================muntinlupa_city END==================================== \n",
            "\n",
            "=======================================malabon_city======================================= \n",
            "\n",
            "================================PARAMETER: PS================================= \n",
            "\n",
            "     MIN || YEAR:  44917    2017\n",
            "Name: YEAR, dtype: int64  Value:  44917    99.77\n",
            "Name: PS, dtype: float64  \n",
            "\n",
            "     MAX || YEAR:  77705    2020\n",
            "Name: YEAR, dtype: int64  Value:  77705    96.82\n",
            "Name: PS, dtype: float64  \n",
            "\n",
            "================================PARAMETER: T2M================================ \n",
            "\n",
            "     MIN || YEAR:  82523    2021\n",
            "Name: YEAR, dtype: int64  Value:  82523    30.13\n",
            "Name: T2M, dtype: float64  \n",
            "\n",
            "     MAX || YEAR:  18116    2014\n",
            "Name: YEAR, dtype: int64  Value:  18116    16.01\n",
            "Name: T2M, dtype: float64  \n",
            "\n",
            "===============================PARAMETER: QV2M================================ \n",
            "\n",
            "     MIN || YEAR:  65052    2019\n",
            "65053    2019\n",
            "65246    2019\n",
            "65390    2019\n",
            "82529    2021\n",
            "Name: YEAR, dtype: int64  Value:  65052    21.73\n",
            "65053    21.73\n",
            "65246    21.73\n",
            "65390    21.73\n",
            "82529    21.73\n",
            "Name: QV2M, dtype: float64  \n",
            "\n",
            "     MAX || YEAR:  18113    2014\n",
            "18114    2014\n",
            "Name: YEAR, dtype: int64  Value:  18113    10.62\n",
            "18114    10.62\n",
            "Name: QV2M, dtype: float64  \n",
            "\n",
            "===============================PARAMETER: WS10M=============================== \n",
            "\n",
            "     MIN || YEAR:  77704    2020\n",
            "Name: YEAR, dtype: int64  Value:  77704    11.91\n",
            "Name: WS10M, dtype: float64  \n",
            "\n",
            "     MAX || YEAR:  65777    2019\n",
            "Name: YEAR, dtype: int64  Value:  65777    0.01\n",
            "Name: WS10M, dtype: float64  \n",
            "\n",
            "============================PARAMETER: PRECTOTCORR============================ \n",
            "\n",
            "     MIN || YEAR:  72206    2020\n",
            "Name: YEAR, dtype: int64  Value:  72206    19.93\n",
            "Name: PRECTOTCORR, dtype: float64  \n",
            "\n",
            "     MAX || YEAR:  492      2012\n",
            "493      2012\n",
            "494      2012\n",
            "495      2012\n",
            "496      2012\n",
            "         ... \n",
            "87636    2021\n",
            "87641    2021\n",
            "87642    2021\n",
            "87643    2021\n",
            "87644    2021\n",
            "Name: YEAR, Length: 5737, dtype: int64  Value:  492      0.0\n",
            "493      0.0\n",
            "494      0.0\n",
            "495      0.0\n",
            "496      0.0\n",
            "        ... \n",
            "87636    0.0\n",
            "87641    0.0\n",
            "87642    0.0\n",
            "87643    0.0\n",
            "87644    0.0\n",
            "Name: PRECTOTCORR, Length: 5737, dtype: float64  \n",
            "\n",
            "=====================================malabon_city END===================================== \n",
            "\n",
            "=======================================makati_city======================================== \n",
            "\n",
            "================================PARAMETER: PS================================= \n",
            "\n",
            "     MIN || YEAR:  44917    2017\n",
            "Name: YEAR, dtype: int64  Value:  44917    99.77\n",
            "Name: PS, dtype: float64  \n",
            "\n",
            "     MAX || YEAR:  77705    2020\n",
            "Name: YEAR, dtype: int64  Value:  77705    96.82\n",
            "Name: PS, dtype: float64  \n",
            "\n",
            "================================PARAMETER: T2M================================ \n",
            "\n",
            "     MIN || YEAR:  82523    2021\n",
            "Name: YEAR, dtype: int64  Value:  82523    30.13\n",
            "Name: T2M, dtype: float64  \n",
            "\n",
            "     MAX || YEAR:  18116    2014\n",
            "Name: YEAR, dtype: int64  Value:  18116    16.01\n",
            "Name: T2M, dtype: float64  \n",
            "\n",
            "===============================PARAMETER: QV2M================================ \n",
            "\n",
            "     MIN || YEAR:  65052    2019\n",
            "65053    2019\n",
            "65246    2019\n",
            "65390    2019\n",
            "82529    2021\n",
            "Name: YEAR, dtype: int64  Value:  65052    21.73\n",
            "65053    21.73\n",
            "65246    21.73\n",
            "65390    21.73\n",
            "82529    21.73\n",
            "Name: QV2M, dtype: float64  \n",
            "\n",
            "     MAX || YEAR:  18113    2014\n",
            "18114    2014\n",
            "Name: YEAR, dtype: int64  Value:  18113    10.62\n",
            "18114    10.62\n",
            "Name: QV2M, dtype: float64  \n",
            "\n",
            "===============================PARAMETER: WS10M=============================== \n",
            "\n",
            "     MIN || YEAR:  77704    2020\n",
            "Name: YEAR, dtype: int64  Value:  77704    11.91\n",
            "Name: WS10M, dtype: float64  \n",
            "\n",
            "     MAX || YEAR:  65777    2019\n",
            "Name: YEAR, dtype: int64  Value:  65777    0.01\n",
            "Name: WS10M, dtype: float64  \n",
            "\n",
            "============================PARAMETER: PRECTOTCORR============================ \n",
            "\n",
            "     MIN || YEAR:  72206    2020\n",
            "Name: YEAR, dtype: int64  Value:  72206    19.93\n",
            "Name: PRECTOTCORR, dtype: float64  \n",
            "\n",
            "     MAX || YEAR:  492      2012\n",
            "493      2012\n",
            "494      2012\n",
            "495      2012\n",
            "496      2012\n",
            "         ... \n",
            "87636    2021\n",
            "87641    2021\n",
            "87642    2021\n",
            "87643    2021\n",
            "87644    2021\n",
            "Name: YEAR, Length: 5737, dtype: int64  Value:  492      0.0\n",
            "493      0.0\n",
            "494      0.0\n",
            "495      0.0\n",
            "496      0.0\n",
            "        ... \n",
            "87636    0.0\n",
            "87641    0.0\n",
            "87642    0.0\n",
            "87643    0.0\n",
            "87644    0.0\n",
            "Name: PRECTOTCORR, Length: 5737, dtype: float64  \n",
            "\n",
            "=====================================makati_city END====================================== \n",
            "\n",
            "======================================laspinas_city======================================= \n",
            "\n",
            "================================PARAMETER: PS================================= \n",
            "\n",
            "     MIN || YEAR:  44917    2017\n",
            "Name: YEAR, dtype: int64  Value:  44917    99.77\n",
            "Name: PS, dtype: float64  \n",
            "\n",
            "     MAX || YEAR:  77705    2020\n",
            "Name: YEAR, dtype: int64  Value:  77705    96.82\n",
            "Name: PS, dtype: float64  \n",
            "\n",
            "================================PARAMETER: T2M================================ \n",
            "\n",
            "     MIN || YEAR:  82523    2021\n",
            "Name: YEAR, dtype: int64  Value:  82523    30.13\n",
            "Name: T2M, dtype: float64  \n",
            "\n",
            "     MAX || YEAR:  18116    2014\n",
            "Name: YEAR, dtype: int64  Value:  18116    16.01\n",
            "Name: T2M, dtype: float64  \n",
            "\n",
            "===============================PARAMETER: QV2M================================ \n",
            "\n",
            "     MIN || YEAR:  65052    2019\n",
            "65053    2019\n",
            "65246    2019\n",
            "65390    2019\n",
            "82529    2021\n",
            "Name: YEAR, dtype: int64  Value:  65052    21.73\n",
            "65053    21.73\n",
            "65246    21.73\n",
            "65390    21.73\n",
            "82529    21.73\n",
            "Name: QV2M, dtype: float64  \n",
            "\n",
            "     MAX || YEAR:  18113    2014\n",
            "18114    2014\n",
            "Name: YEAR, dtype: int64  Value:  18113    10.62\n",
            "18114    10.62\n",
            "Name: QV2M, dtype: float64  \n",
            "\n",
            "===============================PARAMETER: WS10M=============================== \n",
            "\n",
            "     MIN || YEAR:  77704    2020\n",
            "Name: YEAR, dtype: int64  Value:  77704    11.91\n",
            "Name: WS10M, dtype: float64  \n",
            "\n",
            "     MAX || YEAR:  65777    2019\n",
            "Name: YEAR, dtype: int64  Value:  65777    0.01\n",
            "Name: WS10M, dtype: float64  \n",
            "\n",
            "============================PARAMETER: PRECTOTCORR============================ \n",
            "\n",
            "     MIN || YEAR:  72206    2020\n",
            "Name: YEAR, dtype: int64  Value:  72206    19.93\n",
            "Name: PRECTOTCORR, dtype: float64  \n",
            "\n",
            "     MAX || YEAR:  492      2012\n",
            "493      2012\n",
            "494      2012\n",
            "495      2012\n",
            "496      2012\n",
            "         ... \n",
            "87636    2021\n",
            "87641    2021\n",
            "87642    2021\n",
            "87643    2021\n",
            "87644    2021\n",
            "Name: YEAR, Length: 5737, dtype: int64  Value:  492      0.0\n",
            "493      0.0\n",
            "494      0.0\n",
            "495      0.0\n",
            "496      0.0\n",
            "        ... \n",
            "87636    0.0\n",
            "87641    0.0\n",
            "87642    0.0\n",
            "87643    0.0\n",
            "87644    0.0\n",
            "Name: PRECTOTCORR, Length: 5737, dtype: float64  \n",
            "\n",
            "====================================laspinas_city END===================================== \n",
            "\n"
          ]
        }
      ]
    },
    {
      "cell_type": "markdown",
      "source": [
        "<h1>DATA PROCESSING</h1>"
      ],
      "metadata": {
        "id": "1d3uO_lScPfd"
      }
    },
    {
      "cell_type": "markdown",
      "source": [
        "<h1>Multiple Linear Regression</h1>"
      ],
      "metadata": {
        "id": "my5Kc51N0m3A"
      }
    },
    {
      "cell_type": "code",
      "source": [
        "_x_val = paranaque_df.drop([\"Lat\", \"Long\", \"T2M\"], axis = 1)\n",
        "_x_val[\"lpol\"] = lpol_data_dict[\"Paranaque_City\"]\n",
        "_y_val = paranaque_df[\"T2M\"]\n",
        "\n",
        "MMREG_PROCS(_x_val, _y_val, \"Paranaque_City\").standard_proc()"
      ],
      "metadata": {
        "id": "ZG5arhaVVG1a",
        "colab": {
          "base_uri": "https://localhost:8080/",
          "height": 1000
        },
        "outputId": "64a495fd-dcd7-4f4b-8ace-0f8b3dcc1db7"
      },
      "execution_count": 14,
      "outputs": [
        {
          "output_type": "display_data",
          "data": {
            "text/plain": [
              "<Figure size 432x288 with 1 Axes>"
            ],
            "image/png": "[encoded data removed]"
          },
          "metadata": {
            "needs_background": "light"
          }
        },
        {
          "output_type": "stream",
          "name": "stdout",
          "text": [
            "============================================================================== '\n",
            "\n",
            "======Paranaque_City======\n",
            "============================================================================== '\n",
            "\n",
            "SCIKIT LEARN RESULT: \n",
            "Intercept:  -100.11097778735521\n",
            "Coefficients:  [ 1.146005    0.70135924 -0.71750512 -0.23077234  0.00690669]\n",
            "============================================================================== '\n",
            "\n",
            "                            OLS Regression Results                            \n",
            "==============================================================================\n",
            "Dep. Variable:                    T2M   R-squared:                       0.945\n",
            "Model:                            OLS   Adj. R-squared:                  0.877\n",
            "Method:                 Least Squares   F-statistic:                     13.86\n",
            "Date:                Mon, 03 Oct 2022   Prob (F-statistic):             0.0123\n",
            "Time:                        10:21:26   Log-Likelihood:                 18.450\n",
            "No. Observations:                  10   AIC:                            -24.90\n",
            "Df Residuals:                       4   BIC:                            -23.09\n",
            "Df Model:                           5                                         \n",
            "Covariance Type:            nonrobust                                         \n",
            "===============================================================================\n",
            "                  coef    std err          t      P>|t|      [0.025      0.975]\n",
            "-------------------------------------------------------------------------------\n",
            "const        -100.1110     61.213     -1.635      0.177    -270.066      69.844\n",
            "PS              1.1460      0.604      1.898      0.131      -0.531       2.823\n",
            "QV2M            0.7014      0.122      5.761      0.005       0.363       1.039\n",
            "WS10M          -0.7175      0.383     -1.875      0.134      -1.780       0.345\n",
            "PRECTOTCORR    -0.2308      0.151     -1.533      0.200      -0.649       0.187\n",
            "lpol            0.0069      0.007      0.928      0.406      -0.014       0.028\n",
            "==============================================================================\n",
            "Omnibus:                        0.359   Durbin-Watson:                   1.421\n",
            "Prob(Omnibus):                  0.836   Jarque-Bera (JB):                0.409\n",
            "Skew:                           0.333   Prob(JB):                        0.815\n",
            "Kurtosis:                       2.267   Cond. No.                     3.36e+05\n",
            "==============================================================================\n",
            "\n",
            "Notes:\n",
            "[1] Standard Errors assume that the covariance matrix of the errors is correctly specified.\n",
            "[2] The condition number is large, 3.36e+05. This might indicate that there are\n",
            "strong multicollinearity or other numerical problems.\n",
            "============================================================================== '\n",
            "\n",
            "PCT: \n",
            "          PS      QV2M     WS10M  PRECTOTCORR      lpol\n",
            "0       NaN       NaN       NaN          NaN       NaN\n",
            "1  0.000273 -0.001007 -0.038023     0.019821  0.086430\n",
            "2  0.000441 -0.023977  0.033263    -0.250099  0.009593\n",
            "3  0.000890  0.001256  0.006482     0.025261  0.116400\n",
            "4 -0.000567  0.037836 -0.018027     0.241739  0.025233\n",
            "5 -0.000425 -0.007488 -0.010134     0.195693  0.073312\n",
            "6 -0.000310 -0.008701  0.077956    -0.163108  0.039878\n",
            "7  0.000617 -0.003727 -0.055559    -0.250258  0.051941\n",
            "8 -0.000180  0.022608 -0.023403     2.605492 -0.099763\n",
            "9 -0.000491 -0.005015  0.076347    -0.613269  0.012575         T2M\n",
            "0       NaN\n",
            "1  0.007495\n",
            "2 -0.010573\n",
            "3  0.002034\n",
            "4  0.018688\n",
            "5 -0.006014\n",
            "6 -0.011339\n",
            "7  0.007728\n",
            "8  0.006265\n",
            "9 -0.002449\n",
            "============================================================================== '\n",
            "\n"
          ]
        },
        {
          "output_type": "stream",
          "name": "stderr",
          "text": [
            "/usr/local/lib/python3.7/dist-packages/statsmodels/tsa/tsatools.py:142: FutureWarning: In a future version of pandas all arguments of concat except for the argument 'objs' will be keyword-only\n",
            "  x = pd.concat(x[::order], 1)\n",
            "/usr/local/lib/python3.7/dist-packages/scipy/stats/stats.py:1542: UserWarning: kurtosistest only valid for n>=20 ... continuing anyway, n=10\n",
            "  \"anyway, n=%i\" % int(n))\n"
          ]
        }
      ]
    },
    {
      "cell_type": "code",
      "source": [
        "_x_val = valenzuela_df.drop([\"Lat\", \"Long\", \"T2M\"], axis = 1)\n",
        "_x_val[\"lpol\"] = lpol_data_dict[\"Valenzuela_City\"]\n",
        "_y_val = valenzuela_df[\"T2M\"]\n",
        "\n",
        "MMREG_PROCS(_x_val, _y_val, \"Valenzuela_City\").standard_proc()"
      ],
      "metadata": {
        "id": "CzzgSXnsIukW",
        "colab": {
          "base_uri": "https://localhost:8080/",
          "height": 1000
        },
        "outputId": "dc07b9a5-f2a4-4378-9262-d292fe422ac1"
      },
      "execution_count": 15,
      "outputs": [
        {
          "output_type": "display_data",
          "data": {
            "text/plain": [
              "<Figure size 432x288 with 1 Axes>"
            ],
            "image/png": "[encoded data removed]"
          },
          "metadata": {
            "needs_background": "light"
          }
        },
        {
          "output_type": "stream",
          "name": "stdout",
          "text": [
            "============================================================================== '\n",
            "\n",
            "=====Valenzuela_City======\n",
            "============================================================================== '\n",
            "\n",
            "SCIKIT LEARN RESULT: \n",
            "Intercept:  -93.40289070926057\n",
            "Coefficients:  [ 1.08426489  0.68931795 -0.91469365 -0.29071803  0.02017882]\n",
            "============================================================================== '\n",
            "\n",
            "                            OLS Regression Results                            \n",
            "==============================================================================\n",
            "Dep. Variable:                    T2M   R-squared:                       0.960\n",
            "Model:                            OLS   Adj. R-squared:                  0.909\n",
            "Method:                 Least Squares   F-statistic:                     19.04\n",
            "Date:                Mon, 03 Oct 2022   Prob (F-statistic):            0.00683\n",
            "Time:                        10:21:26   Log-Likelihood:                 19.962\n",
            "No. Observations:                  10   AIC:                            -27.92\n",
            "Df Residuals:                       4   BIC:                            -26.11\n",
            "Df Model:                           5                                         \n",
            "Covariance Type:            nonrobust                                         \n",
            "===============================================================================\n",
            "                  coef    std err          t      P>|t|      [0.025      0.975]\n",
            "-------------------------------------------------------------------------------\n",
            "const         -93.4029     49.572     -1.884      0.133    -231.037      44.231\n",
            "PS              1.0843      0.489      2.219      0.091      -0.272       2.441\n",
            "QV2M            0.6893      0.101      6.832      0.002       0.409       0.969\n",
            "WS10M          -0.9147      0.368     -2.485      0.068      -1.937       0.107\n",
            "PRECTOTCORR    -0.2907      0.136     -2.139      0.099      -0.668       0.087\n",
            "lpol            0.0202      0.013      1.606      0.184      -0.015       0.055\n",
            "==============================================================================\n",
            "Omnibus:                        0.222   Durbin-Watson:                   1.509\n",
            "Prob(Omnibus):                  0.895   Jarque-Bera (JB):                0.388\n",
            "Skew:                           0.161   Prob(JB):                        0.824\n",
            "Kurtosis:                       2.090   Cond. No.                     3.06e+05\n",
            "==============================================================================\n",
            "\n",
            "Notes:\n",
            "[1] Standard Errors assume that the covariance matrix of the errors is correctly specified.\n",
            "[2] The condition number is large, 3.06e+05. This might indicate that there are\n",
            "strong multicollinearity or other numerical problems.\n",
            "============================================================================== '\n",
            "\n",
            "PCT: \n",
            "          PS      QV2M     WS10M  PRECTOTCORR      lpol\n",
            "0       NaN       NaN       NaN          NaN       NaN\n",
            "1  0.000273 -0.001007 -0.038023     0.019821  0.048683\n",
            "2  0.000441 -0.023977  0.033263    -0.250099  0.020878\n",
            "3  0.000890  0.001256  0.006482     0.025261  0.079641\n",
            "4 -0.000567  0.037836 -0.018027     0.241739  0.008124\n",
            "5 -0.000425 -0.007488 -0.010134     0.195693 -0.005690\n",
            "6 -0.000310 -0.008701  0.077956    -0.163108  0.145184\n",
            "7  0.000617 -0.003727 -0.055559    -0.250258  0.086061\n",
            "8 -0.000180  0.022608 -0.023403     2.605492 -0.051572\n",
            "9 -0.000491 -0.005015  0.076347    -0.613269  0.045520         T2M\n",
            "0       NaN\n",
            "1  0.007495\n",
            "2 -0.010573\n",
            "3  0.002034\n",
            "4  0.018688\n",
            "5 -0.006014\n",
            "6 -0.011339\n",
            "7  0.007728\n",
            "8  0.006265\n",
            "9 -0.002449\n",
            "============================================================================== '\n",
            "\n"
          ]
        },
        {
          "output_type": "stream",
          "name": "stderr",
          "text": [
            "/usr/local/lib/python3.7/dist-packages/statsmodels/tsa/tsatools.py:142: FutureWarning: In a future version of pandas all arguments of concat except for the argument 'objs' will be keyword-only\n",
            "  x = pd.concat(x[::order], 1)\n",
            "/usr/local/lib/python3.7/dist-packages/scipy/stats/stats.py:1542: UserWarning: kurtosistest only valid for n>=20 ... continuing anyway, n=10\n",
            "  \"anyway, n=%i\" % int(n))\n"
          ]
        }
      ]
    },
    {
      "cell_type": "code",
      "source": [
        "_x_val = taguig_df.drop([\"Lat\", \"Long\", \"T2M\"], axis = 1)\n",
        "_x_val[\"lpol\"] = lpol_data_dict[\"Taguig_City\"]\n",
        "_y_val = taguig_df[\"T2M\"]\n",
        "\n",
        "MMREG_PROCS(_x_val, _y_val, \"Taguig_City\").standard_proc()"
      ],
      "metadata": {
        "id": "Eqew3j81IuYH",
        "colab": {
          "base_uri": "https://localhost:8080/",
          "height": 1000
        },
        "outputId": "f377c1ac-a511-48e6-c540-fb308b69de49"
      },
      "execution_count": 16,
      "outputs": [
        {
          "output_type": "display_data",
          "data": {
            "text/plain": [
              "<Figure size 432x288 with 1 Axes>"
            ],
            "image/png": "[encoded data removed]"
          },
          "metadata": {
            "needs_background": "light"
          }
        },
        {
          "output_type": "stream",
          "name": "stdout",
          "text": [
            "============================================================================== '\n",
            "\n",
            "=======Taguig_City========\n",
            "============================================================================== '\n",
            "\n",
            "SCIKIT LEARN RESULT: \n",
            "Intercept:  -97.40721945029216\n",
            "Coefficients:  [ 1.12073248  0.6881778  -0.71849206 -0.25162987  0.01064409]\n",
            "============================================================================== '\n",
            "\n",
            "                            OLS Regression Results                            \n",
            "==============================================================================\n",
            "Dep. Variable:                    T2M   R-squared:                       0.946\n",
            "Model:                            OLS   Adj. R-squared:                  0.878\n",
            "Method:                 Least Squares   F-statistic:                     13.91\n",
            "Date:                Mon, 03 Oct 2022   Prob (F-statistic):             0.0122\n",
            "Time:                        10:21:27   Log-Likelihood:                 18.465\n",
            "No. Observations:                  10   AIC:                            -24.93\n",
            "Df Residuals:                       4   BIC:                            -23.12\n",
            "Df Model:                           5                                         \n",
            "Covariance Type:            nonrobust                                         \n",
            "===============================================================================\n",
            "                  coef    std err          t      P>|t|      [0.025      0.975]\n",
            "-------------------------------------------------------------------------------\n",
            "const         -97.4072     62.675     -1.554      0.195    -271.421      76.606\n",
            "PS              1.1207      0.617      1.816      0.144      -0.593       2.834\n",
            "QV2M            0.6882      0.129      5.353      0.006       0.331       1.045\n",
            "WS10M          -0.7185      0.382     -1.882      0.133      -1.779       0.342\n",
            "PRECTOTCORR    -0.2516      0.153     -1.643      0.176      -0.677       0.174\n",
            "lpol            0.0106      0.011      0.936      0.402      -0.021       0.042\n",
            "==============================================================================\n",
            "Omnibus:                        0.294   Durbin-Watson:                   1.475\n",
            "Prob(Omnibus):                  0.863   Jarque-Bera (JB):                0.427\n",
            "Skew:                           0.196   Prob(JB):                        0.808\n",
            "Kurtosis:                       2.067   Cond. No.                     3.38e+05\n",
            "==============================================================================\n",
            "\n",
            "Notes:\n",
            "[1] Standard Errors assume that the covariance matrix of the errors is correctly specified.\n",
            "[2] The condition number is large, 3.38e+05. This might indicate that there are\n",
            "strong multicollinearity or other numerical problems.\n",
            "============================================================================== '\n",
            "\n",
            "PCT: \n",
            "          PS      QV2M     WS10M  PRECTOTCORR      lpol\n",
            "0       NaN       NaN       NaN          NaN       NaN\n",
            "1  0.000273 -0.001007 -0.038023     0.019821  0.038511\n",
            "2  0.000441 -0.023977  0.033263    -0.250099  0.012827\n",
            "3  0.000890  0.001256  0.006482     0.025261  0.112526\n",
            "4 -0.000567  0.037836 -0.018027     0.241739  0.035487\n",
            "5 -0.000425 -0.007488 -0.010134     0.195693  0.110656\n",
            "6 -0.000310 -0.008701  0.077956    -0.163108 -0.038571\n",
            "7  0.000617 -0.003727 -0.055559    -0.250258  0.036136\n",
            "8 -0.000180  0.022608 -0.023403     2.605492 -0.008512\n",
            "9 -0.000491 -0.005015  0.076347    -0.613269 -0.017028         T2M\n",
            "0       NaN\n",
            "1  0.007495\n",
            "2 -0.010573\n",
            "3  0.002034\n",
            "4  0.018688\n",
            "5 -0.006014\n",
            "6 -0.011339\n",
            "7  0.007728\n",
            "8  0.006265\n",
            "9 -0.002449\n",
            "============================================================================== '\n",
            "\n"
          ]
        },
        {
          "output_type": "stream",
          "name": "stderr",
          "text": [
            "/usr/local/lib/python3.7/dist-packages/statsmodels/tsa/tsatools.py:142: FutureWarning: In a future version of pandas all arguments of concat except for the argument 'objs' will be keyword-only\n",
            "  x = pd.concat(x[::order], 1)\n",
            "/usr/local/lib/python3.7/dist-packages/scipy/stats/stats.py:1542: UserWarning: kurtosistest only valid for n>=20 ... continuing anyway, n=10\n",
            "  \"anyway, n=%i\" % int(n))\n"
          ]
        }
      ]
    },
    {
      "cell_type": "code",
      "source": [
        "_x_val = makati_df.drop([\"Lat\", \"Long\", \"T2M\"], axis = 1)\n",
        "_x_val[\"lpol\"] = lpol_data_dict[\"Makati_City\"]\n",
        "_y_val = makati_df[\"T2M\"]\n",
        "\n",
        "MMREG_PROCS(_x_val, _y_val, \"Makati_City\").standard_proc()"
      ],
      "metadata": {
        "id": "isyi4xwOIuM8",
        "colab": {
          "base_uri": "https://localhost:8080/",
          "height": 1000
        },
        "outputId": "bebba5fd-38e1-4399-8256-8ad4bdaccceb"
      },
      "execution_count": 17,
      "outputs": [
        {
          "output_type": "display_data",
          "data": {
            "text/plain": [
              "<Figure size 432x288 with 1 Axes>"
            ],
            "image/png": "[encoded data removed]"
          },
          "metadata": {
            "needs_background": "light"
          }
        },
        {
          "output_type": "stream",
          "name": "stdout",
          "text": [
            "============================================================================== '\n",
            "\n",
            "=======Makati_City========\n",
            "============================================================================== '\n",
            "\n",
            "SCIKIT LEARN RESULT: \n",
            "Intercept:  -148.18033758124815\n",
            "Coefficients:  [ 1.62683251  0.77980168 -0.71611504 -0.35844287 -0.0113356 ]\n",
            "============================================================================== '\n",
            "\n",
            "                            OLS Regression Results                            \n",
            "==============================================================================\n",
            "Dep. Variable:                    T2M   R-squared:                       0.958\n",
            "Model:                            OLS   Adj. R-squared:                  0.905\n",
            "Method:                 Least Squares   F-statistic:                     18.07\n",
            "Date:                Mon, 03 Oct 2022   Prob (F-statistic):            0.00753\n",
            "Time:                        10:21:27   Log-Likelihood:                 19.711\n",
            "No. Observations:                  10   AIC:                            -27.42\n",
            "Df Residuals:                       4   BIC:                            -25.61\n",
            "Df Model:                           5                                         \n",
            "Covariance Type:            nonrobust                                         \n",
            "===============================================================================\n",
            "                  coef    std err          t      P>|t|      [0.025      0.975]\n",
            "-------------------------------------------------------------------------------\n",
            "const        -148.1803     45.382     -3.265      0.031    -274.181     -22.180\n",
            "PS              1.6268      0.452      3.603      0.023       0.373       2.881\n",
            "QV2M            0.7798      0.096      8.107      0.001       0.513       1.047\n",
            "WS10M          -0.7161      0.313     -2.287      0.084      -1.585       0.153\n",
            "PRECTOTCORR    -0.3584      0.160     -2.237      0.089      -0.803       0.087\n",
            "lpol           -0.0113      0.008     -1.502      0.207      -0.032       0.010\n",
            "==============================================================================\n",
            "Omnibus:                        6.032   Durbin-Watson:                   1.497\n",
            "Prob(Omnibus):                  0.049   Jarque-Bera (JB):                2.603\n",
            "Skew:                          -1.231   Prob(JB):                        0.272\n",
            "Kurtosis:                       3.425   Cond. No.                     3.04e+05\n",
            "==============================================================================\n",
            "\n",
            "Notes:\n",
            "[1] Standard Errors assume that the covariance matrix of the errors is correctly specified.\n",
            "[2] The condition number is large, 3.04e+05. This might indicate that there are\n",
            "strong multicollinearity or other numerical problems.\n",
            "============================================================================== '\n",
            "\n",
            "PCT: \n",
            "          PS      QV2M     WS10M  PRECTOTCORR      lpol\n",
            "0       NaN       NaN       NaN          NaN       NaN\n",
            "1  0.000273 -0.001007 -0.038023     0.019821  0.011601\n",
            "2  0.000441 -0.023977  0.033263    -0.250099 -0.038397\n",
            "3  0.000890  0.001256  0.006482     0.025261  0.052334\n",
            "4 -0.000567  0.037836 -0.018027     0.241739  0.025137\n",
            "5 -0.000425 -0.007488 -0.010134     0.195693  0.003000\n",
            "6 -0.000310 -0.008701  0.077956    -0.163108 -0.006265\n",
            "7  0.000617 -0.003727 -0.055559    -0.250258  0.003936\n",
            "8 -0.000180  0.022608 -0.023403     2.605492 -0.123298\n",
            "9 -0.000491 -0.005015  0.076347    -0.613269 -0.042670         T2M\n",
            "0       NaN\n",
            "1  0.007495\n",
            "2 -0.010573\n",
            "3  0.002034\n",
            "4  0.018688\n",
            "5 -0.006014\n",
            "6 -0.011339\n",
            "7  0.007728\n",
            "8  0.006265\n",
            "9 -0.002449\n",
            "============================================================================== '\n",
            "\n"
          ]
        },
        {
          "output_type": "stream",
          "name": "stderr",
          "text": [
            "/usr/local/lib/python3.7/dist-packages/statsmodels/tsa/tsatools.py:142: FutureWarning: In a future version of pandas all arguments of concat except for the argument 'objs' will be keyword-only\n",
            "  x = pd.concat(x[::order], 1)\n",
            "/usr/local/lib/python3.7/dist-packages/scipy/stats/stats.py:1542: UserWarning: kurtosistest only valid for n>=20 ... continuing anyway, n=10\n",
            "  \"anyway, n=%i\" % int(n))\n"
          ]
        }
      ]
    },
    {
      "cell_type": "code",
      "source": [
        "_x_val = muntinlupa_df.drop([\"Lat\", \"Long\", \"T2M\"], axis = 1)\n",
        "_x_val[\"lpol\"] = lpol_data_dict[\"Muntinlupa_City\"]\n",
        "_y_val = muntinlupa_df[\"T2M\"]\n",
        "\n",
        "MMREG_PROCS(_x_val, _y_val, \"Muntinlupa_City\").standard_proc()"
      ],
      "metadata": {
        "id": "pJ8gDkg0IuB5",
        "colab": {
          "base_uri": "https://localhost:8080/",
          "height": 1000
        },
        "outputId": "8f21fc8b-a3bb-4d0e-e1ba-5b7430598a0e"
      },
      "execution_count": 18,
      "outputs": [
        {
          "output_type": "display_data",
          "data": {
            "text/plain": [
              "<Figure size 432x288 with 1 Axes>"
            ],
            "image/png": "[encoded data removed]"
          },
          "metadata": {
            "needs_background": "light"
          }
        },
        {
          "output_type": "stream",
          "name": "stdout",
          "text": [
            "============================================================================== '\n",
            "\n",
            "=====Muntinlupa_City======\n",
            "============================================================================== '\n",
            "\n",
            "SCIKIT LEARN RESULT: \n",
            "Intercept:  -161.7007658059731\n",
            "Coefficients:  [ 1.75225292  0.78941992 -0.44889877 -0.24761657 -0.01438271]\n",
            "============================================================================== '\n",
            "\n",
            "                            OLS Regression Results                            \n",
            "==============================================================================\n",
            "Dep. Variable:                    T2M   R-squared:                       0.937\n",
            "Model:                            OLS   Adj. R-squared:                  0.858\n",
            "Method:                 Least Squares   F-statistic:                     11.89\n",
            "Date:                Mon, 03 Oct 2022   Prob (F-statistic):             0.0163\n",
            "Time:                        10:21:27   Log-Likelihood:                 17.729\n",
            "No. Observations:                  10   AIC:                            -23.46\n",
            "Df Residuals:                       4   BIC:                            -21.64\n",
            "Df Model:                           5                                         \n",
            "Covariance Type:            nonrobust                                         \n",
            "===============================================================================\n",
            "                  coef    std err          t      P>|t|      [0.025      0.975]\n",
            "-------------------------------------------------------------------------------\n",
            "const        -161.7008     83.187     -1.944      0.124    -392.666      69.264\n",
            "PS              1.7523      0.826      2.121      0.101      -0.542       4.046\n",
            "QV2M            0.7894      0.138      5.703      0.005       0.405       1.174\n",
            "WS10M          -0.4489      0.397     -1.130      0.322      -1.552       0.654\n",
            "PRECTOTCORR    -0.2476      0.170     -1.454      0.220      -0.720       0.225\n",
            "lpol           -0.0144      0.031     -0.457      0.671      -0.102       0.073\n",
            "==============================================================================\n",
            "Omnibus:                        2.439   Durbin-Watson:                   1.613\n",
            "Prob(Omnibus):                  0.295   Jarque-Bera (JB):                1.049\n",
            "Skew:                          -0.791   Prob(JB):                        0.592\n",
            "Kurtosis:                       2.870   Cond. No.                     4.15e+05\n",
            "==============================================================================\n",
            "\n",
            "Notes:\n",
            "[1] Standard Errors assume that the covariance matrix of the errors is correctly specified.\n",
            "[2] The condition number is large, 4.15e+05. This might indicate that there are\n",
            "strong multicollinearity or other numerical problems.\n",
            "============================================================================== '\n",
            "\n",
            "PCT: \n",
            "          PS      QV2M     WS10M  PRECTOTCORR      lpol\n",
            "0       NaN       NaN       NaN          NaN       NaN\n",
            "1  0.000273 -0.001007 -0.038023     0.019821  0.020785\n",
            "2  0.000441 -0.023977  0.033263    -0.250099 -0.022817\n",
            "3  0.000890  0.001256  0.006482     0.025261  0.130442\n",
            "4 -0.000567  0.037836 -0.018027     0.241739 -0.009316\n",
            "5 -0.000425 -0.007488 -0.010134     0.195693 -0.012429\n",
            "6 -0.000310 -0.008701  0.077956    -0.163108  0.029460\n",
            "7  0.000617 -0.003727 -0.055559    -0.250258  0.004935\n",
            "8 -0.000180  0.022608 -0.023403     2.605492 -0.073658\n",
            "9 -0.000491 -0.005015  0.076347    -0.613269 -0.009030         T2M\n",
            "0       NaN\n",
            "1  0.007495\n",
            "2 -0.010573\n",
            "3  0.002034\n",
            "4  0.018688\n",
            "5 -0.006014\n",
            "6 -0.011339\n",
            "7  0.007728\n",
            "8  0.006265\n",
            "9 -0.002449\n",
            "============================================================================== '\n",
            "\n"
          ]
        },
        {
          "output_type": "stream",
          "name": "stderr",
          "text": [
            "/usr/local/lib/python3.7/dist-packages/statsmodels/tsa/tsatools.py:142: FutureWarning: In a future version of pandas all arguments of concat except for the argument 'objs' will be keyword-only\n",
            "  x = pd.concat(x[::order], 1)\n",
            "/usr/local/lib/python3.7/dist-packages/scipy/stats/stats.py:1542: UserWarning: kurtosistest only valid for n>=20 ... continuing anyway, n=10\n",
            "  \"anyway, n=%i\" % int(n))\n"
          ]
        }
      ]
    },
    {
      "cell_type": "code",
      "source": [
        "_x_val = manila_df.drop([\"Lat\", \"Long\", \"T2M\"], axis = 1)\n",
        "_x_val[\"lpol\"] = lpol_data_dict[\"Manila_City\"]\n",
        "_y_val = manila_df[\"T2M\"]\n",
        "\n",
        "MMREG_PROCS(_x_val, _y_val, \"Manila_City\").standard_proc()"
      ],
      "metadata": {
        "id": "xoO6yKIaIt21",
        "colab": {
          "base_uri": "https://localhost:8080/",
          "height": 1000
        },
        "outputId": "62b662ab-ba94-4ecb-dcc4-173494e74b0b"
      },
      "execution_count": 19,
      "outputs": [
        {
          "output_type": "display_data",
          "data": {
            "text/plain": [
              "<Figure size 432x288 with 1 Axes>"
            ],
            "image/png": "[encoded data removed]"
          },
          "metadata": {
            "needs_background": "light"
          }
        },
        {
          "output_type": "stream",
          "name": "stdout",
          "text": [
            "============================================================================== '\n",
            "\n",
            "=======Manila_City========\n",
            "============================================================================== '\n",
            "\n",
            "SCIKIT LEARN RESULT: \n",
            "Intercept:  -136.21841477806257\n",
            "Coefficients:  [ 1.49967938  0.74356187 -0.5314185  -0.20005221  0.0036962 ]\n",
            "============================================================================== '\n",
            "\n",
            "                            OLS Regression Results                            \n",
            "==============================================================================\n",
            "Dep. Variable:                    T2M   R-squared:                       0.934\n",
            "Model:                            OLS   Adj. R-squared:                  0.852\n",
            "Method:                 Least Squares   F-statistic:                     11.39\n",
            "Date:                Mon, 03 Oct 2022   Prob (F-statistic):             0.0176\n",
            "Time:                        10:21:28   Log-Likelihood:                 17.526\n",
            "No. Observations:                  10   AIC:                            -23.05\n",
            "Df Residuals:                       4   BIC:                            -21.24\n",
            "Df Model:                           5                                         \n",
            "Covariance Type:            nonrobust                                         \n",
            "===============================================================================\n",
            "                  coef    std err          t      P>|t|      [0.025      0.975]\n",
            "-------------------------------------------------------------------------------\n",
            "const        -136.2184     57.611     -2.364      0.077    -296.171      23.734\n",
            "PS              1.4997      0.573      2.619      0.059      -0.090       3.090\n",
            "QV2M            0.7436      0.129      5.743      0.005       0.384       1.103\n",
            "WS10M          -0.5314      0.359     -1.480      0.213      -1.528       0.465\n",
            "PRECTOTCORR    -0.2001      0.200     -1.002      0.373      -0.755       0.355\n",
            "lpol            0.0037      0.018      0.204      0.848      -0.047       0.054\n",
            "==============================================================================\n",
            "Omnibus:                        0.454   Durbin-Watson:                   1.653\n",
            "Prob(Omnibus):                  0.797   Jarque-Bera (JB):                0.221\n",
            "Skew:                          -0.305   Prob(JB):                        0.895\n",
            "Kurtosis:                       2.601   Cond. No.                     3.04e+05\n",
            "==============================================================================\n",
            "\n",
            "Notes:\n",
            "[1] Standard Errors assume that the covariance matrix of the errors is correctly specified.\n",
            "[2] The condition number is large, 3.04e+05. This might indicate that there are\n",
            "strong multicollinearity or other numerical problems.\n",
            "============================================================================== '\n",
            "\n",
            "PCT: \n",
            "          PS      QV2M     WS10M  PRECTOTCORR      lpol\n",
            "0       NaN       NaN       NaN          NaN       NaN\n",
            "1  0.000273 -0.001007 -0.038023     0.019821  0.029202\n",
            "2  0.000441 -0.023977  0.033263    -0.250099 -0.093732\n",
            "3  0.000890  0.001256  0.006482     0.025261  0.040351\n",
            "4 -0.000567  0.037836 -0.018027     0.241739 -0.002136\n",
            "5 -0.000425 -0.007488 -0.010134     0.195693  0.012858\n",
            "6 -0.000310 -0.008701  0.077956    -0.163108  0.016764\n",
            "7  0.000617 -0.003727 -0.055559    -0.250258  0.038794\n",
            "8 -0.000180  0.022608 -0.023403     2.605492 -0.087803\n",
            "9 -0.000491 -0.005015  0.076347    -0.613269  0.081136         T2M\n",
            "0       NaN\n",
            "1  0.007495\n",
            "2 -0.010573\n",
            "3  0.002034\n",
            "4  0.018688\n",
            "5 -0.006014\n",
            "6 -0.011339\n",
            "7  0.007728\n",
            "8  0.006265\n",
            "9 -0.002449\n",
            "============================================================================== '\n",
            "\n"
          ]
        },
        {
          "output_type": "stream",
          "name": "stderr",
          "text": [
            "/usr/local/lib/python3.7/dist-packages/statsmodels/tsa/tsatools.py:142: FutureWarning: In a future version of pandas all arguments of concat except for the argument 'objs' will be keyword-only\n",
            "  x = pd.concat(x[::order], 1)\n",
            "/usr/local/lib/python3.7/dist-packages/scipy/stats/stats.py:1542: UserWarning: kurtosistest only valid for n>=20 ... continuing anyway, n=10\n",
            "  \"anyway, n=%i\" % int(n))\n"
          ]
        }
      ]
    },
    {
      "cell_type": "code",
      "source": [
        "_x_val = pasig_df.drop([\"Lat\", \"Long\", \"T2M\"], axis = 1)\n",
        "_x_val[\"lpol\"] = lpol_data_dict[\"Pasig_City\"]\n",
        "_y_val = pasig_df[\"T2M\"]\n",
        "\n",
        "MMREG_PROCS(_x_val, _y_val, \"Pasig_City\").standard_proc()"
      ],
      "metadata": {
        "id": "PUfcOkpuIts4",
        "colab": {
          "base_uri": "https://localhost:8080/",
          "height": 1000
        },
        "outputId": "bfb3b543-e250-48b4-948c-403cf947a523"
      },
      "execution_count": 20,
      "outputs": [
        {
          "output_type": "display_data",
          "data": {
            "text/plain": [
              "<Figure size 432x288 with 1 Axes>"
            ],
            "image/png": "[encoded data removed]"
          },
          "metadata": {
            "needs_background": "light"
          }
        },
        {
          "output_type": "stream",
          "name": "stdout",
          "text": [
            "============================================================================== '\n",
            "\n",
            "========Pasig_City========\n",
            "============================================================================== '\n",
            "\n",
            "SCIKIT LEARN RESULT: \n",
            "Intercept:  -115.48683165746783\n",
            "Coefficients:  [ 1.29699124  0.71411318 -0.65205723 -0.21324124  0.00756015]\n",
            "============================================================================== '\n",
            "\n",
            "                            OLS Regression Results                            \n",
            "==============================================================================\n",
            "Dep. Variable:                    T2M   R-squared:                       0.940\n",
            "Model:                            OLS   Adj. R-squared:                  0.864\n",
            "Method:                 Least Squares   F-statistic:                     12.47\n",
            "Date:                Mon, 03 Oct 2022   Prob (F-statistic):             0.0150\n",
            "Time:                        10:21:28   Log-Likelihood:                 17.952\n",
            "No. Observations:                  10   AIC:                            -23.90\n",
            "Df Residuals:                       4   BIC:                            -22.09\n",
            "Df Model:                           5                                         \n",
            "Covariance Type:            nonrobust                                         \n",
            "===============================================================================\n",
            "                  coef    std err          t      P>|t|      [0.025      0.975]\n",
            "-------------------------------------------------------------------------------\n",
            "const        -115.4868     59.320     -1.947      0.123    -280.185      49.212\n",
            "PS              1.2970      0.586      2.215      0.091      -0.329       2.923\n",
            "QV2M            0.7141      0.130      5.505      0.005       0.354       1.074\n",
            "WS10M          -0.6521      0.392     -1.664      0.171      -1.740       0.436\n",
            "PRECTOTCORR    -0.2132      0.159     -1.343      0.250      -0.654       0.228\n",
            "lpol            0.0076      0.012      0.633      0.561      -0.026       0.041\n",
            "==============================================================================\n",
            "Omnibus:                        0.118   Durbin-Watson:                   1.525\n",
            "Prob(Omnibus):                  0.943   Jarque-Bera (JB):                0.127\n",
            "Skew:                           0.120   Prob(JB):                        0.939\n",
            "Kurtosis:                       2.504   Cond. No.                     3.16e+05\n",
            "==============================================================================\n",
            "\n",
            "Notes:\n",
            "[1] Standard Errors assume that the covariance matrix of the errors is correctly specified.\n",
            "[2] The condition number is large, 3.16e+05. This might indicate that there are\n",
            "strong multicollinearity or other numerical problems.\n",
            "============================================================================== '\n",
            "\n",
            "PCT: \n",
            "          PS      QV2M     WS10M  PRECTOTCORR      lpol\n",
            "0       NaN       NaN       NaN          NaN       NaN\n",
            "1  0.000273 -0.001007 -0.038023     0.019821  0.023756\n",
            "2  0.000441 -0.023977  0.033263    -0.250099 -0.032067\n",
            "3  0.000890  0.001256  0.006482     0.025261  0.060600\n",
            "4 -0.000567  0.037836 -0.018027     0.241739  0.026155\n",
            "5 -0.000425 -0.007488 -0.010134     0.195693  0.012567\n",
            "6 -0.000310 -0.008701  0.077956    -0.163108  0.051221\n",
            "7  0.000617 -0.003727 -0.055559    -0.250258  0.046507\n",
            "8 -0.000180  0.022608 -0.023403     2.605492 -0.090475\n",
            "9 -0.000491 -0.005015  0.076347    -0.613269  0.025806         T2M\n",
            "0       NaN\n",
            "1  0.007495\n",
            "2 -0.010573\n",
            "3  0.002034\n",
            "4  0.018688\n",
            "5 -0.006014\n",
            "6 -0.011339\n",
            "7  0.007728\n",
            "8  0.006265\n",
            "9 -0.002449\n",
            "============================================================================== '\n",
            "\n"
          ]
        },
        {
          "output_type": "stream",
          "name": "stderr",
          "text": [
            "/usr/local/lib/python3.7/dist-packages/statsmodels/tsa/tsatools.py:142: FutureWarning: In a future version of pandas all arguments of concat except for the argument 'objs' will be keyword-only\n",
            "  x = pd.concat(x[::order], 1)\n",
            "/usr/local/lib/python3.7/dist-packages/scipy/stats/stats.py:1542: UserWarning: kurtosistest only valid for n>=20 ... continuing anyway, n=10\n",
            "  \"anyway, n=%i\" % int(n))\n"
          ]
        }
      ]
    },
    {
      "cell_type": "code",
      "source": [
        "_x_val = las_Pinas_df.drop([\"Lat\", \"Long\", \"T2M\"], axis = 1)\n",
        "_x_val[\"lpol\"] = lpol_data_dict[\"Las Pinas_City\"]\n",
        "_y_val = las_Pinas_df[\"T2M\"]\n",
        "\n",
        "MMREG_PROCS(_x_val, _y_val, \"Las Pinas_City\").standard_proc()"
      ],
      "metadata": {
        "id": "zWaZvz4XItY7",
        "colab": {
          "base_uri": "https://localhost:8080/",
          "height": 1000
        },
        "outputId": "5d40d19b-fd12-4583-bd76-d2bab3849c0b"
      },
      "execution_count": 21,
      "outputs": [
        {
          "output_type": "display_data",
          "data": {
            "text/plain": [
              "<Figure size 432x288 with 1 Axes>"
            ],
            "image/png": "[encoded data removed]"
          },
          "metadata": {
            "needs_background": "light"
          }
        },
        {
          "output_type": "stream",
          "name": "stdout",
          "text": [
            "============================================================================== '\n",
            "\n",
            "======Las Pinas_City======\n",
            "============================================================================== '\n",
            "\n",
            "SCIKIT LEARN RESULT: \n",
            "Intercept:  -121.53105784490194\n",
            "Coefficients:  [ 1.35503991  0.73169856 -0.63569524 -0.2465969   0.01338437]\n",
            "============================================================================== '\n",
            "\n",
            "                            OLS Regression Results                            \n",
            "==============================================================================\n",
            "Dep. Variable:                    T2M   R-squared:                       0.940\n",
            "Model:                            OLS   Adj. R-squared:                  0.866\n",
            "Method:                 Least Squares   F-statistic:                     12.61\n",
            "Date:                Mon, 03 Oct 2022   Prob (F-statistic):             0.0147\n",
            "Time:                        10:21:28   Log-Likelihood:                 18.004\n",
            "No. Observations:                  10   AIC:                            -24.01\n",
            "Df Residuals:                       4   BIC:                            -22.19\n",
            "Df Model:                           5                                         \n",
            "Covariance Type:            nonrobust                                         \n",
            "===============================================================================\n",
            "                  coef    std err          t      P>|t|      [0.025      0.975]\n",
            "-------------------------------------------------------------------------------\n",
            "const        -121.5311     55.035     -2.208      0.092    -274.334      31.271\n",
            "PS              1.3550      0.545      2.486      0.068      -0.158       2.868\n",
            "QV2M            0.7317      0.117      6.232      0.003       0.406       1.058\n",
            "WS10M          -0.6357      0.375     -1.696      0.165      -1.676       0.405\n",
            "PRECTOTCORR    -0.2466      0.161     -1.531      0.201      -0.694       0.201\n",
            "lpol            0.0134      0.020      0.668      0.541      -0.042       0.069\n",
            "==============================================================================\n",
            "Omnibus:                        0.103   Durbin-Watson:                   1.519\n",
            "Prob(Omnibus):                  0.950   Jarque-Bera (JB):                0.106\n",
            "Skew:                           0.076   Prob(JB):                        0.948\n",
            "Kurtosis:                       2.520   Cond. No.                     2.81e+05\n",
            "==============================================================================\n",
            "\n",
            "Notes:\n",
            "[1] Standard Errors assume that the covariance matrix of the errors is correctly specified.\n",
            "[2] The condition number is large, 2.81e+05. This might indicate that there are\n",
            "strong multicollinearity or other numerical problems.\n",
            "============================================================================== '\n",
            "\n",
            "PCT: \n",
            "          PS      QV2M     WS10M  PRECTOTCORR      lpol\n",
            "0       NaN       NaN       NaN          NaN       NaN\n",
            "1  0.000273 -0.001007 -0.038023     0.019821  0.012570\n",
            "2  0.000441 -0.023977  0.033263    -0.250099 -0.017838\n",
            "3  0.000890  0.001256  0.006482     0.025261  0.037733\n",
            "4 -0.000567  0.037836 -0.018027     0.241739  0.003000\n",
            "5 -0.000425 -0.007488 -0.010134     0.195693  0.055803\n",
            "6 -0.000310 -0.008701  0.077956    -0.163108  0.042802\n",
            "7  0.000617 -0.003727 -0.055559    -0.250258  0.061972\n",
            "8 -0.000180  0.022608 -0.023403     2.605492 -0.055767\n",
            "9 -0.000491 -0.005015  0.076347    -0.613269 -0.027772         T2M\n",
            "0       NaN\n",
            "1  0.007495\n",
            "2 -0.010573\n",
            "3  0.002034\n",
            "4  0.018688\n",
            "5 -0.006014\n",
            "6 -0.011339\n",
            "7  0.007728\n",
            "8  0.006265\n",
            "9 -0.002449\n",
            "============================================================================== '\n",
            "\n"
          ]
        },
        {
          "output_type": "stream",
          "name": "stderr",
          "text": [
            "/usr/local/lib/python3.7/dist-packages/statsmodels/tsa/tsatools.py:142: FutureWarning: In a future version of pandas all arguments of concat except for the argument 'objs' will be keyword-only\n",
            "  x = pd.concat(x[::order], 1)\n",
            "/usr/local/lib/python3.7/dist-packages/scipy/stats/stats.py:1542: UserWarning: kurtosistest only valid for n>=20 ... continuing anyway, n=10\n",
            "  \"anyway, n=%i\" % int(n))\n"
          ]
        }
      ]
    },
    {
      "cell_type": "code",
      "source": [
        "_x_val = pasay_df.drop([\"Lat\", \"Long\", \"T2M\"], axis = 1)\n",
        "_x_val[\"lpol\"] = lpol_data_dict[\"Pasay_City\"]\n",
        "_y_val = pasay_df[\"T2M\"]\n",
        "\n",
        "MMREG_PROCS(_x_val, _y_val, \"Pasay_City\").standard_proc()"
      ],
      "metadata": {
        "id": "Q5yE8yMEItNU",
        "colab": {
          "base_uri": "https://localhost:8080/",
          "height": 1000
        },
        "outputId": "e1826c54-7eca-4525-e5a0-64dba1def1f9"
      },
      "execution_count": 22,
      "outputs": [
        {
          "output_type": "display_data",
          "data": {
            "text/plain": [
              "<Figure size 432x288 with 1 Axes>"
            ],
            "image/png": "[encoded data removed]"
          },
          "metadata": {
            "needs_background": "light"
          }
        },
        {
          "output_type": "stream",
          "name": "stdout",
          "text": [
            "============================================================================== '\n",
            "\n",
            "========Pasay_City========\n",
            "============================================================================== '\n",
            "\n",
            "SCIKIT LEARN RESULT: \n",
            "Intercept:  -144.20958349529906\n",
            "Coefficients:  [ 1.57874697  0.7652473  -0.49766138 -0.23108724 -0.00191244]\n",
            "============================================================================== '\n",
            "\n",
            "                            OLS Regression Results                            \n",
            "==============================================================================\n",
            "Dep. Variable:                    T2M   R-squared:                       0.935\n",
            "Model:                            OLS   Adj. R-squared:                  0.853\n",
            "Method:                 Least Squares   F-statistic:                     11.41\n",
            "Date:                Mon, 03 Oct 2022   Prob (F-statistic):             0.0176\n",
            "Time:                        10:21:28   Log-Likelihood:                 17.537\n",
            "No. Observations:                  10   AIC:                            -23.07\n",
            "Df Residuals:                       4   BIC:                            -21.26\n",
            "Df Model:                           5                                         \n",
            "Covariance Type:            nonrobust                                         \n",
            "===============================================================================\n",
            "                  coef    std err          t      P>|t|      [0.025      0.975]\n",
            "-------------------------------------------------------------------------------\n",
            "const        -144.2096     75.236     -1.917      0.128    -353.099      64.680\n",
            "PS              1.5787      0.748      2.110      0.102      -0.499       3.656\n",
            "QV2M            0.7652      0.127      6.019      0.004       0.412       1.118\n",
            "WS10M          -0.4977      0.393     -1.268      0.274      -1.588       0.592\n",
            "PRECTOTCORR    -0.2311      0.169     -1.371      0.242      -0.699       0.237\n",
            "lpol           -0.0019      0.009     -0.224      0.834      -0.026       0.022\n",
            "==============================================================================\n",
            "Omnibus:                        1.119   Durbin-Watson:                   1.625\n",
            "Prob(Omnibus):                  0.572   Jarque-Bera (JB):                0.564\n",
            "Skew:                          -0.549   Prob(JB):                        0.754\n",
            "Kurtosis:                       2.616   Cond. No.                     4.13e+05\n",
            "==============================================================================\n",
            "\n",
            "Notes:\n",
            "[1] Standard Errors assume that the covariance matrix of the errors is correctly specified.\n",
            "[2] The condition number is large, 4.13e+05. This might indicate that there are\n",
            "strong multicollinearity or other numerical problems.\n",
            "============================================================================== '\n",
            "\n",
            "PCT: \n",
            "          PS      QV2M     WS10M  PRECTOTCORR      lpol\n",
            "0       NaN       NaN       NaN          NaN       NaN\n",
            "1  0.000273 -0.001007 -0.038023     0.019821  0.005591\n",
            "2  0.000441 -0.023977  0.033263    -0.250099  0.013978\n",
            "3  0.000890  0.001256  0.006482     0.025261  0.116731\n",
            "4 -0.000567  0.037836 -0.018027     0.241739 -0.017060\n",
            "5 -0.000425 -0.007488 -0.010134     0.195693  0.003344\n",
            "6 -0.000310 -0.008701  0.077956    -0.163108  0.036738\n",
            "7  0.000617 -0.003727 -0.055559    -0.250258  0.030404\n",
            "8 -0.000180  0.022608 -0.023403     2.605492 -0.108260\n",
            "9 -0.000491 -0.005015  0.076347    -0.613269 -0.023885         T2M\n",
            "0       NaN\n",
            "1  0.007495\n",
            "2 -0.010573\n",
            "3  0.002034\n",
            "4  0.018688\n",
            "5 -0.006014\n",
            "6 -0.011339\n",
            "7  0.007728\n",
            "8  0.006265\n",
            "9 -0.002449\n",
            "============================================================================== '\n",
            "\n"
          ]
        },
        {
          "output_type": "stream",
          "name": "stderr",
          "text": [
            "/usr/local/lib/python3.7/dist-packages/statsmodels/tsa/tsatools.py:142: FutureWarning: In a future version of pandas all arguments of concat except for the argument 'objs' will be keyword-only\n",
            "  x = pd.concat(x[::order], 1)\n",
            "/usr/local/lib/python3.7/dist-packages/scipy/stats/stats.py:1542: UserWarning: kurtosistest only valid for n>=20 ... continuing anyway, n=10\n",
            "  \"anyway, n=%i\" % int(n))\n"
          ]
        }
      ]
    },
    {
      "cell_type": "code",
      "source": [
        "_x_val = malabon_df.drop([\"Lat\", \"Long\", \"T2M\"], axis = 1)\n",
        "_x_val[\"lpol\"] = lpol_data_dict[\"Malabon_City\"]\n",
        "_y_val = malabon_df[\"T2M\"]\n",
        "\n",
        "MMREG_PROCS(_x_val, _y_val, \"Malabon_City\").standard_proc()"
      ],
      "metadata": {
        "id": "FSBnIb1aIs6H",
        "colab": {
          "base_uri": "https://localhost:8080/",
          "height": 1000
        },
        "outputId": "fc0d8822-8e9a-4bff-e18c-9d53670cd5dc"
      },
      "execution_count": 23,
      "outputs": [
        {
          "output_type": "display_data",
          "data": {
            "text/plain": [
              "<Figure size 432x288 with 1 Axes>"
            ],
            "image/png": "[encoded data removed]"
          },
          "metadata": {
            "needs_background": "light"
          }
        },
        {
          "output_type": "stream",
          "name": "stdout",
          "text": [
            "============================================================================== '\n",
            "\n",
            "=======Malabon_City=======\n",
            "============================================================================== '\n",
            "\n",
            "SCIKIT LEARN RESULT: \n",
            "Intercept:  -105.6126819889536\n",
            "Coefficients:  [ 1.20689927  0.687824   -0.83969259 -0.30256568  0.01592971]\n",
            "============================================================================== '\n",
            "\n",
            "                            OLS Regression Results                            \n",
            "==============================================================================\n",
            "Dep. Variable:                    T2M   R-squared:                       0.962\n",
            "Model:                            OLS   Adj. R-squared:                  0.915\n",
            "Method:                 Least Squares   F-statistic:                     20.45\n",
            "Date:                Mon, 03 Oct 2022   Prob (F-statistic):            0.00597\n",
            "Time:                        10:21:29   Log-Likelihood:                 20.305\n",
            "No. Observations:                  10   AIC:                            -28.61\n",
            "Df Residuals:                       4   BIC:                            -26.80\n",
            "Df Model:                           5                                         \n",
            "Covariance Type:            nonrobust                                         \n",
            "===============================================================================\n",
            "                  coef    std err          t      P>|t|      [0.025      0.975]\n",
            "-------------------------------------------------------------------------------\n",
            "const        -105.6127     44.451     -2.376      0.076    -229.028      17.803\n",
            "PS              1.2069      0.439      2.752      0.051      -0.011       2.425\n",
            "QV2M            0.6878      0.097      7.085      0.002       0.418       0.957\n",
            "WS10M          -0.8397      0.324     -2.595      0.060      -1.738       0.059\n",
            "PRECTOTCORR    -0.3026      0.133     -2.276      0.085      -0.672       0.066\n",
            "lpol            0.0159      0.009      1.745      0.156      -0.009       0.041\n",
            "==============================================================================\n",
            "Omnibus:                        0.063   Durbin-Watson:                   1.629\n",
            "Prob(Omnibus):                  0.969   Jarque-Bera (JB):                0.293\n",
            "Skew:                           0.033   Prob(JB):                        0.864\n",
            "Kurtosis:                       2.165   Cond. No.                     2.85e+05\n",
            "==============================================================================\n",
            "\n",
            "Notes:\n",
            "[1] Standard Errors assume that the covariance matrix of the errors is correctly specified.\n",
            "[2] The condition number is large, 2.85e+05. This might indicate that there are\n",
            "strong multicollinearity or other numerical problems.\n",
            "============================================================================== '\n",
            "\n",
            "PCT: \n",
            "          PS      QV2M     WS10M  PRECTOTCORR      lpol\n",
            "0       NaN       NaN       NaN          NaN       NaN\n",
            "1  0.000273 -0.001007 -0.038023     0.019821  0.098307\n",
            "2  0.000441 -0.023977  0.033263    -0.250099 -0.056887\n",
            "3  0.000890  0.001256  0.006482     0.025261  0.057366\n",
            "4 -0.000567  0.037836 -0.018027     0.241739  0.048669\n",
            "5 -0.000425 -0.007488 -0.010134     0.195693 -0.011698\n",
            "6 -0.000310 -0.008701  0.077956    -0.163108  0.142706\n",
            "7  0.000617 -0.003727 -0.055559    -0.250258  0.146105\n",
            "8 -0.000180  0.022608 -0.023403     2.605492 -0.015577\n",
            "9 -0.000491 -0.005015  0.076347    -0.613269  0.027915         T2M\n",
            "0       NaN\n",
            "1  0.007495\n",
            "2 -0.010573\n",
            "3  0.002034\n",
            "4  0.018688\n",
            "5 -0.006014\n",
            "6 -0.011339\n",
            "7  0.007728\n",
            "8  0.006265\n",
            "9 -0.002449\n",
            "============================================================================== '\n",
            "\n"
          ]
        },
        {
          "output_type": "stream",
          "name": "stderr",
          "text": [
            "/usr/local/lib/python3.7/dist-packages/statsmodels/tsa/tsatools.py:142: FutureWarning: In a future version of pandas all arguments of concat except for the argument 'objs' will be keyword-only\n",
            "  x = pd.concat(x[::order], 1)\n",
            "/usr/local/lib/python3.7/dist-packages/scipy/stats/stats.py:1542: UserWarning: kurtosistest only valid for n>=20 ... continuing anyway, n=10\n",
            "  \"anyway, n=%i\" % int(n))\n"
          ]
        }
      ]
    },
    {
      "cell_type": "markdown",
      "source": [
        "<h1>Geographical Weighted Regression</h1>"
      ],
      "metadata": {
        "id": "EG6YeE4u0fzc"
      }
    },
    {
      "cell_type": "code",
      "source": [
        "g_y = cities_df['T2M'].values.reshape((-1,1)) #T2M\n",
        "cities_df[\"lpol\"] = cities_df['lpol_avg']\n",
        "g_X = cities_df[['QV2M', \"PS\", \"WS10M\", \"PRECTOTCORR\", \"lpol_avg\"]].values\n",
        "g_coords = list(g_coords)\n",
        "\n",
        "#normalize\n",
        "g_X = (g_X - g_X.mean(axis=0)) / g_X.std(axis=0)\n",
        "g_y = g_y.reshape((-1,1))\n",
        "g_y = (g_y - g_y.mean(axis=0)) / g_y.std(axis=0)"
      ],
      "metadata": {
        "id": "hzbu97r5RVrS"
      },
      "execution_count": 24,
      "outputs": []
    },
    {
      "cell_type": "code",
      "source": [
        "g_X[np.isnan(g_X)] = 0\n",
        "g_y[np.isnan(g_y)] = 0"
      ],
      "metadata": {
        "id": "KbmCsUtcWdZJ"
      },
      "execution_count": 25,
      "outputs": []
    },
    {
      "cell_type": "code",
      "source": [
        "gwr_selector = Sel_BW(g_coords, g_y, g_X, kernel = \"gaussian\", fixed = False, spherical=True) \n",
        "gwr_bw = gwr_selector.search(bw_min = 2)\n",
        "gwr_bw"
      ],
      "metadata": {
        "id": "zCysEN81WbsQ",
        "colab": {
          "base_uri": "https://localhost:8080/"
        },
        "outputId": "e0071708-e2f9-40b0-919c-c0524995253a"
      },
      "execution_count": 26,
      "outputs": [
        {
          "output_type": "execute_result",
          "data": {
            "text/plain": [
              "91.0"
            ]
          },
          "metadata": {},
          "execution_count": 26
        }
      ]
    },
    {
      "cell_type": "code",
      "source": [
        "gwr_results = GWR(g_coords, g_y, g_X, gwr_bw).fit()"
      ],
      "metadata": {
        "id": "jxZZutFnuJcE"
      },
      "execution_count": 27,
      "outputs": []
    },
    {
      "cell_type": "code",
      "source": [
        "gwr_results.summary()"
      ],
      "metadata": {
        "id": "l8B2qvu2tkFt"
      },
      "execution_count": null,
      "outputs": []
    },
    {
      "cell_type": "code",
      "source": [
        "gwr_filtered_t = gwr_results.filter_tvals()"
      ],
      "metadata": {
        "id": "94_u-ajc3hIj"
      },
      "execution_count": 29,
      "outputs": []
    },
    {
      "cell_type": "code",
      "source": [
        "def show_plot_by_res_index(res_arg, var_ind_title):\n",
        "  fig, ax = plt.subplots(nrows=1, ncols=1, figsize=(15,7))\n",
        "  ax.set_title(\"Variable \" + var_ind_title + \"  \" + 'GWR Intercept Surface (BW: ' + str(gwr_bw) +')', fontsize=12)\n",
        "\n",
        "  cmap = plt.cm.seismic\n",
        "\n",
        "  gwr_min = res_arg.min()\n",
        "  gwr_max = res_arg.max()\n",
        "  vmin = np.min([gwr_min])\n",
        "  vmax = np.max([gwr_max])\n",
        "\n",
        "  #If all values are negative use the negative half of the colormap\n",
        "  if (vmin < 0) & (vmax < 0):\n",
        "      cmap = truncate_colormap(cmap, 0.0, 0.5)\n",
        "  #If all values are positive use the positive half of the colormap\n",
        "  elif (vmin > 0) & (vmax > 0):\n",
        "      cmap = truncate_colormap(cmap, 0.5, 1.0)\n",
        "  #Otherwise, there are positive and negative values so the colormap so zero is the midpoint\n",
        "  else:\n",
        "      cmap = shift_colormap(cmap, start=0.0, midpoint=1 - vmax/(vmax + abs(vmin)), stop=1.)\n",
        "\n",
        "  sm = plt.cm.ScalarMappable(cmap=cmap, norm=plt.Normalize(vmin=vmin, vmax=vmax))\n",
        "  NCR_geopckg.plot(cmap=sm.cmap, ax=ax, vmin=vmin, vmax=vmax, **{'edgecolor':'black', 'alpha':1})\n",
        "\n",
        "\n",
        "  fig.tight_layout()    \n",
        "  sm._A = []\n",
        "  cbar = fig.colorbar(sm)\n",
        "  cbar.ax.tick_params(labelsize=12) \n",
        "  ax.get_xaxis().set_visible(False)\n",
        "  ax.get_yaxis().set_visible(False)\n",
        "  plt.style.use('seaborn-pastel')\n",
        "  plt.show()"
      ],
      "metadata": {
        "id": "kROAYNo_zLaS"
      },
      "execution_count": 30,
      "outputs": []
    },
    {
      "cell_type": "code",
      "source": [
        "#show_plot_by_res_index(gwr_results.params[:,0], \"X0\")"
      ],
      "metadata": {
        "id": "2k61yaa6zgvp"
      },
      "execution_count": 31,
      "outputs": []
    },
    {
      "cell_type": "code",
      "source": [
        "#show_plot_by_res_index(gwr_results.params[:,1], \"X1\")"
      ],
      "metadata": {
        "id": "UUHIMJv8zmV6"
      },
      "execution_count": 32,
      "outputs": []
    },
    {
      "cell_type": "code",
      "source": [
        "#show_plot_by_res_index(gwr_results.params[:,2], \"X2\")"
      ],
      "metadata": {
        "id": "XoiJyR1vzvDi"
      },
      "execution_count": 33,
      "outputs": []
    },
    {
      "cell_type": "code",
      "source": [
        "#show_plot_by_res_index(gwr_results.params[:,3], \"X3\")"
      ],
      "metadata": {
        "id": "CYBBKUQjzvbW"
      },
      "execution_count": 34,
      "outputs": []
    },
    {
      "cell_type": "code",
      "source": [
        "#show_plot_by_res_index(gwr_results.params[:,4], \"X4\")"
      ],
      "metadata": {
        "id": "wbop3a_FzwCJ"
      },
      "execution_count": 35,
      "outputs": []
    },
    {
      "cell_type": "code",
      "source": [
        "#show_plot_by_res_index(gwr_results.params[:,5], \"X5\")"
      ],
      "metadata": {
        "id": "34SWdQEjWqWx"
      },
      "execution_count": 36,
      "outputs": []
    },
    {
      "cell_type": "markdown",
      "source": [
        "<h1>Multi Scale Goegraphical Weighted Regression </h1>"
      ],
      "metadata": {
        "id": "bBzttdeP9j-G"
      }
    },
    {
      "cell_type": "code",
      "source": [
        "mgwr_selector = Sel_BW(g_coords, g_y, g_X, kernel = \"bisquare\", fixed = False, spherical=True, multi = True) \n",
        "mgwr_bw = mgwr_selector.search(multi_bw_min = [2])\n",
        "mgwr_bw"
      ],
      "metadata": {
        "colab": {
          "base_uri": "https://localhost:8080/",
          "height": 66,
          "referenced_widgets": [
            "3247c678a10d4956bb73dcf463bdd162",
            "68365f8d1bd848f6b42dbde77968143d",
            "8badc385bb9a4c81a59c61a09aa43f4d",
            "a51d75b733ea4284845ef97208656f26",
            "d1e2a0ca81614501805d0794a109ab47",
            "6c167a9375274f0f977351bed254fc9e",
            "739922726ab04b0dab7338f267832ae4",
            "f3b62b842db14704adabb4d91da683fd",
            "0849902ea02644bb84854a8acee9ce12",
            "ab96bc3def324d8b91462ee84c4b5a79",
            "78f419d905f34e42951354bc69c4b5e0"
          ]
        },
        "id": "bBEXoC1g9cNZ",
        "outputId": "17486d5e-6bbf-4685-c3a9-3bfe74527352"
      },
      "execution_count": 37,
      "outputs": [
        {
          "output_type": "display_data",
          "data": {
            "text/plain": [
              "Backfitting:   0%|          | 0/200 [00:00<?, ?it/s]"
            ],
            "application/vnd.jupyter.widget-view+json": {
              "version_major": 2,
              "version_minor": 0,
              "model_id": "3247c678a10d4956bb73dcf463bdd162"
            }
          },
          "metadata": {}
        },
        {
          "output_type": "execute_result",
          "data": {
            "text/plain": [
              "array([91., 91., 91., 91., 91., 91.])"
            ]
          },
          "metadata": {},
          "execution_count": 37
        }
      ]
    },
    {
      "cell_type": "code",
      "source": [
        "mgwr_results = MGWR(g_coords, g_y, g_X, mgwr_selector).fit()\n",
        "mgwr_results.summary()"
      ],
      "metadata": {
        "id": "LBReRvos-R5M"
      },
      "execution_count": null,
      "outputs": []
    },
    {
      "cell_type": "code",
      "source": [
        "mgwr_filtered_t = mgwr_results.filter_tvals()"
      ],
      "metadata": {
        "id": "GFLCR1c8C_Ly"
      },
      "execution_count": 39,
      "outputs": []
    },
    {
      "cell_type": "code",
      "source": [
        "def MGWR_plot(res_arg, var_ind_title):\n",
        "  fig, ax = plt.subplots(nrows=1, ncols=1, figsize=(15,7))\n",
        "  ax.set_title(var_ind_title + \"  \" + '(BW: ' + str(gwr_bw) +')', fontsize=12)\n",
        "\n",
        "  cmap = plt.cm.seismic\n",
        "\n",
        "  gwr_min = res_arg.min()\n",
        "  gwr_max = res_arg.max()\n",
        "  vmin = np.min([gwr_min])\n",
        "  vmax = np.max([gwr_max])\n",
        "\n",
        "  #If all values are negative use the negative half of the colormap\n",
        "  if (vmin < 0) & (vmax < 0):\n",
        "      cmap = truncate_colormap(cmap, 0.0, 0.5)\n",
        "  #If all values are positive use the positive half of the colormap\n",
        "  elif (vmin > 0) & (vmax > 0):\n",
        "      cmap = truncate_colormap(cmap, 0.5, 1.0)\n",
        "  #Otherwise, there are positive and negative values so the colormap so zero is the midpoint\n",
        "  else:\n",
        "      cmap = shift_colormap(cmap, start=0.0, midpoint=1 - vmax/(vmax + abs(vmin)), stop=1.)\n",
        "\n",
        "  sm = plt.cm.ScalarMappable(cmap=cmap, norm=plt.Normalize(vmin=vmin, vmax=vmax))\n",
        "  #NCR_geopckg.plot(cmap=sm.cmap, ax=ax, vmin=vmin, vmax=vmax, **{'edgecolor':'black', 'alpha':1})\n",
        "\n",
        "  #Plot MGWR parameters\n",
        "  NCR_geopckg.plot(cmap=sm.cmap, ax=ax, vmin=vmin, vmax=vmax, **{'edgecolor':'black', 'alpha':1})\n",
        "\n",
        "\n",
        "\n",
        "  fig.tight_layout()    \n",
        "  sm._A = []\n",
        "  cbar = fig.colorbar(sm)\n",
        "  cbar.ax.tick_params(labelsize=12) \n",
        "  ax.get_xaxis().set_visible(False)\n",
        "  ax.get_yaxis().set_visible(False)\n",
        "  plt.style.use('seaborn-pastel')\n",
        "  plt.show()"
      ],
      "metadata": {
        "id": "wUlQV1F994-R"
      },
      "execution_count": 40,
      "outputs": []
    },
    {
      "cell_type": "code",
      "source": [
        "MGWR_plot(gwr_results.params[:,0], \"Change in WS |\")\n",
        "MGWR_plot(gwr_results.params[:,1], \"Change in QV g/kg |\")\n",
        "MGWR_plot(gwr_results.params[:,2], \"Change in PS |\")\n",
        "MGWR_plot(gwr_results.params[:,3], \"Change in WS m/s |\")\n",
        "MGWR_plot(gwr_results.params[:,4], \"Change in PRECTOTCORR mm/hr |\")\n",
        "MGWR_plot(gwr_results.params[:,5], \"Change in Light pol |\")"
      ],
      "metadata": {
        "colab": {
          "base_uri": "https://localhost:8080/",
          "height": 1000
        },
        "id": "tDo2UYmIxeQG",
        "outputId": "36db620a-7b7d-439b-ce55-4b526940d00f"
      },
      "execution_count": 41,
      "outputs": [
        {
          "output_type": "display_data",
          "data": {
            "text/plain": [
              "<Figure size 1080x504 with 2 Axes>"
            ],
            "image/png": "[encoded data removed]"
          },
          "metadata": {
            "needs_background": "light"
          }
        },
        {
          "output_type": "display_data",
          "data": {
            "text/plain": [
              "<Figure size 1080x504 with 2 Axes>"
            ],
            "image/png": "[encoded data removed]"
          },
          "metadata": {
            "needs_background": "light"
          }
        },
        {
          "output_type": "display_data",
          "data": {
            "text/plain": [
              "<Figure size 1080x504 with 2 Axes>"
            ],
            "image/png": "[encoded data removed]"
          },
          "metadata": {
            "needs_background": "light"
          }
        },
        {
          "output_type": "display_data",
          "data": {
            "text/plain": [
              "<Figure size 1080x504 with 2 Axes>"
            ],
            "image/png": "[encoded data removed]"
          },
          "metadata": {
            "needs_background": "light"
          }
        },
        {
          "output_type": "display_data",
          "data": {
            "text/plain": [
              "<Figure size 1080x504 with 2 Axes>"
            ],
            "image/png": "[encoded data removed]"
          },
          "metadata": {
            "needs_background": "light"
          }
        },
        {
          "output_type": "display_data",
          "data": {
            "text/plain": [
              "<Figure size 1080x504 with 2 Axes>"
            ],
            "image/png": "[encoded data removed]"
          },
          "metadata": {
            "needs_background": "light"
          }
        }
      ]
    },
    {
      "cell_type": "code",
      "source": [
        "def plot_MGWR_GWR(mgwr_res_arg, gwr_res_arg, mgwr_bw_ind, Title):\n",
        "  #Comparison maps of GWR vs. MGWR parameter surfaces where the grey units pertain to statistically insignificant parameters\n",
        "\n",
        "  #Prep plot and add axes\n",
        "  fig, axes = plt.subplots(nrows=1, ncols=2, figsize=(45,20))\n",
        "  ax0 = axes[0]\n",
        "  ax0.set_title( Title + '  GWR Intercept Surface (BW: ' + str(gwr_bw) +') ', fontsize=40)\n",
        "  ax1 = axes[1]\n",
        "  ax1.set_title(Title + '  MGWR Intercept Surface (BW: ' + str(mgwr_bw[mgwr_bw_ind]) +')', fontsize=40)\n",
        "\n",
        "  #Set color map\n",
        "  cmap = plt.cm.seismic\n",
        "\n",
        "  #Find min and max values of the two combined datasets\n",
        "  gwr_min = gwr_res_arg.min()\n",
        "  gwr_max = gwr_res_arg.max()\n",
        "  mgwr_min = mgwr_res_arg.min()\n",
        "  mgwr_max = mgwr_res_arg.max()\n",
        "  vmin = np.min([gwr_min, mgwr_min])\n",
        "  vmax = np.max([gwr_max, mgwr_max])\n",
        "\n",
        "  #If all values are negative use the negative half of the colormap\n",
        "  if (vmin < 0) & (vmax < 0):\n",
        "      cmap = truncate_colormap(cmap, 0.0, 0.5)\n",
        "  #If all values are positive use the positive half of the colormap\n",
        "  elif (vmin > 0) & (vmax > 0):\n",
        "      cmap = truncate_colormap(cmap, 0.5, 1.0)\n",
        "  #Otherwise, there are positive and negative values so the colormap so zero is the midpoint\n",
        "  else:\n",
        "      cmap = shift_colormap(cmap, start=0.0, midpoint=1 - vmax/(vmax + abs(vmin)), stop=1.)\n",
        "\n",
        "  #Create scalar mappable for colorbar and stretch colormap across range of data values\n",
        "  sm = plt.cm.ScalarMappable(cmap=cmap, norm=plt.Normalize(vmin=vmin, vmax=vmax))\n",
        "\n",
        "  #Plot GWR parameters\n",
        "  NCR_geopckg.plot(cmap=sm.cmap, ax=ax0, vmin=vmin, vmax=vmax, **{'edgecolor':'black', 'alpha':1})\n",
        "  #If there are insignificnt parameters plot gray polygons over them\n",
        "  #if (gwr_filtered_t[:,0] == 0).any():\n",
        "    #  NCR_geopckg[gwr_filtered_t[:,0] == 0].plot(color='lightgrey', ax=ax0, **{'edgecolor':'black'})\n",
        "\n",
        "  #Plot MGWR parameters\n",
        "  NCR_geopckg.plot(cmap=sm.cmap, ax=ax1, vmin=vmin, vmax=vmax, **{'edgecolor':'black', 'alpha':1})\n",
        "  #If there are insignificnt parameters plot gray polygons over them\n",
        "  #if (mgwr_filtered_t[:,0] == 0).any():\n",
        "   #   NCR_geopckg[mgwr_filtered_t[:,0] == 0].plot(color='lightgrey', ax=ax1, **{'edgecolor':'black'})\n",
        "  \n",
        "\n",
        "  #Set figure options and plot \n",
        "  fig.tight_layout()    \n",
        "  fig.subplots_adjust(right=0.9)\n",
        "  cax = fig.add_axes([0.92, 0.14, 0.03, 0.75])\n",
        "  sm._A = []\n",
        "  cbar = fig.colorbar(sm, cax=cax)\n",
        "  cbar.ax.tick_params(labelsize=50) \n",
        "  ax0.get_xaxis().set_visible(False)\n",
        "  ax0.get_yaxis().set_visible(False)\n",
        "  ax1.get_xaxis().set_visible(False)\n",
        "  ax1.get_yaxis().set_visible(False)\n",
        "  plt.show()"
      ],
      "metadata": {
        "id": "8tQabCDTAHjt"
      },
      "execution_count": 42,
      "outputs": []
    },
    {
      "cell_type": "code",
      "source": [
        "plot_MGWR_GWR(mgwr_results.params[:,0], gwr_results.params[:,0], 0, \"Change in specific humidity g/kg\")"
      ],
      "metadata": {
        "id": "3nmCWpAKB_cT"
      },
      "execution_count": null,
      "outputs": []
    },
    {
      "cell_type": "code",
      "source": [
        "plot_MGWR_GWR(mgwr_results.params[:,1], gwr_results.params[:,1], 1)"
      ],
      "metadata": {
        "id": "B05f-dfBDRws",
        "colab": {
          "base_uri": "https://localhost:8080/",
          "height": 166
        },
        "outputId": "ff9553a3-265c-4d10-a6be-cfbcda6b7f16"
      },
      "execution_count": 44,
      "outputs": [
        {
          "output_type": "error",
          "ename": "TypeError",
          "evalue": "ignored",
          "traceback": [
            "\u001b[0;31m---------------------------------------------------------------------------\u001b[0m",
            "\u001b[0;31mTypeError\u001b[0m                                 Traceback (most recent call last)",
            "\u001b[0;32m<ipython-input-44-9ef058505630>\u001b[0m in \u001b[0;36m<module>\u001b[0;34m\u001b[0m\n\u001b[0;32m----> 1\u001b[0;31m \u001b[0mplot_MGWR_GWR\u001b[0m\u001b[0;34m(\u001b[0m\u001b[0mmgwr_results\u001b[0m\u001b[0;34m.\u001b[0m\u001b[0mparams\u001b[0m\u001b[0;34m[\u001b[0m\u001b[0;34m:\u001b[0m\u001b[0;34m,\u001b[0m\u001b[0;36m1\u001b[0m\u001b[0;34m]\u001b[0m\u001b[0;34m,\u001b[0m \u001b[0mgwr_results\u001b[0m\u001b[0;34m.\u001b[0m\u001b[0mparams\u001b[0m\u001b[0;34m[\u001b[0m\u001b[0;34m:\u001b[0m\u001b[0;34m,\u001b[0m\u001b[0;36m1\u001b[0m\u001b[0;34m]\u001b[0m\u001b[0;34m,\u001b[0m \u001b[0;36m1\u001b[0m\u001b[0;34m)\u001b[0m\u001b[0;34m\u001b[0m\u001b[0;34m\u001b[0m\u001b[0m\n\u001b[0m",
            "\u001b[0;31mTypeError\u001b[0m: plot_MGWR_GWR() missing 1 required positional argument: 'Title'"
          ]
        }
      ]
    },
    {
      "cell_type": "code",
      "source": [
        "plot_MGWR_GWR(mgwr_results.params[:,2], gwr_results.params[:,2], 2)"
      ],
      "metadata": {
        "id": "5l6qiCl6DVCz"
      },
      "execution_count": null,
      "outputs": []
    },
    {
      "cell_type": "code",
      "source": [
        "plot_MGWR_GWR(mgwr_results.params[:,3], gwr_results.params[:,3], 3)"
      ],
      "metadata": {
        "id": "Hdh38z14Dgf4"
      },
      "execution_count": null,
      "outputs": []
    },
    {
      "cell_type": "code",
      "source": [
        "plot_MGWR_GWR(mgwr_results.params[:,4], gwr_results.params[:,4], 4)"
      ],
      "metadata": {
        "id": "ZE2gWioUDh9r"
      },
      "execution_count": null,
      "outputs": []
    },
    {
      "cell_type": "code",
      "source": [
        "plot_MGWR_GWR(mgwr_results.params[:,5], gwr_results.params[:,5], 5)"
      ],
      "metadata": {
        "id": "IgU7cDvADibU"
      },
      "execution_count": null,
      "outputs": []
    }
  ]
}