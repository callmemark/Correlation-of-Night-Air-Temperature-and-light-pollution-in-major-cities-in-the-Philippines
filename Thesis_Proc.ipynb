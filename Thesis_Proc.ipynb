{
  "nbformat": 4,
  "nbformat_minor": 0,
  "metadata": {
    "colab": {
      "provenance": [],
      "collapsed_sections": [],
      "authorship_tag": "ABX9TyNzwFFbGASFwyjNhvPQbgah",
      "include_colab_link": true
    },
    "kernelspec": {
      "name": "python3",
      "display_name": "Python 3"
    },
    "language_info": {
      "name": "python"
    },
    "widgets": {
      "application/vnd.jupyter.widget-state+json": {
        "5fbacd72ef954fb6b8ac246e33942758": {
          "model_module": "@jupyter-widgets/controls",
          "model_name": "HBoxModel",
          "model_module_version": "1.5.0",
          "state": {
            "_dom_classes": [],
            "_model_module": "@jupyter-widgets/controls",
            "_model_module_version": "1.5.0",
            "_model_name": "HBoxModel",
            "_view_count": null,
            "_view_module": "@jupyter-widgets/controls",
            "_view_module_version": "1.5.0",
            "_view_name": "HBoxView",
            "box_style": "",
            "children": [
              "IPY_MODEL_4ada98a6051545eeafd69fa048696c41",
              "IPY_MODEL_87bff765831144e4bd5a9a824f4c27f4",
              "IPY_MODEL_a30594a7dd82491f88a4a07adad784bf"
            ],
            "layout": "IPY_MODEL_aa1c4eab0ba44f548b847fd18278ab4a"
          }
        },
        "4ada98a6051545eeafd69fa048696c41": {
          "model_module": "@jupyter-widgets/controls",
          "model_name": "HTMLModel",
          "model_module_version": "1.5.0",
          "state": {
            "_dom_classes": [],
            "_model_module": "@jupyter-widgets/controls",
            "_model_module_version": "1.5.0",
            "_model_name": "HTMLModel",
            "_view_count": null,
            "_view_module": "@jupyter-widgets/controls",
            "_view_module_version": "1.5.0",
            "_view_name": "HTMLView",
            "description": "",
            "description_tooltip": null,
            "layout": "IPY_MODEL_2ff5746f684544ebb5bdd73f4a5c8614",
            "placeholder": "​",
            "style": "IPY_MODEL_ec002b9f49a1471fb1b951631f213e3d",
            "value": "Backfitting:   1%"
          }
        },
        "87bff765831144e4bd5a9a824f4c27f4": {
          "model_module": "@jupyter-widgets/controls",
          "model_name": "FloatProgressModel",
          "model_module_version": "1.5.0",
          "state": {
            "_dom_classes": [],
            "_model_module": "@jupyter-widgets/controls",
            "_model_module_version": "1.5.0",
            "_model_name": "FloatProgressModel",
            "_view_count": null,
            "_view_module": "@jupyter-widgets/controls",
            "_view_module_version": "1.5.0",
            "_view_name": "ProgressView",
            "bar_style": "danger",
            "description": "",
            "description_tooltip": null,
            "layout": "IPY_MODEL_a3ac1c8494e24eeb8cc97f490d8b8c3a",
            "max": 200,
            "min": 0,
            "orientation": "horizontal",
            "style": "IPY_MODEL_9a66b0df6bb340a7959199c12fa3d7a5",
            "value": 2
          }
        },
        "a30594a7dd82491f88a4a07adad784bf": {
          "model_module": "@jupyter-widgets/controls",
          "model_name": "HTMLModel",
          "model_module_version": "1.5.0",
          "state": {
            "_dom_classes": [],
            "_model_module": "@jupyter-widgets/controls",
            "_model_module_version": "1.5.0",
            "_model_name": "HTMLModel",
            "_view_count": null,
            "_view_module": "@jupyter-widgets/controls",
            "_view_module_version": "1.5.0",
            "_view_name": "HTMLView",
            "description": "",
            "description_tooltip": null,
            "layout": "IPY_MODEL_6777a02fb3e4489994cb7a5966996fa2",
            "placeholder": "​",
            "style": "IPY_MODEL_d3684c2c277e4db1b47ef4e8a7866f85",
            "value": " 2/200 [00:02&lt;02:16,  1.45it/s]"
          }
        },
        "aa1c4eab0ba44f548b847fd18278ab4a": {
          "model_module": "@jupyter-widgets/base",
          "model_name": "LayoutModel",
          "model_module_version": "1.2.0",
          "state": {
            "_model_module": "@jupyter-widgets/base",
            "_model_module_version": "1.2.0",
            "_model_name": "LayoutModel",
            "_view_count": null,
            "_view_module": "@jupyter-widgets/base",
            "_view_module_version": "1.2.0",
            "_view_name": "LayoutView",
            "align_content": null,
            "align_items": null,
            "align_self": null,
            "border": null,
            "bottom": null,
            "display": null,
            "flex": null,
            "flex_flow": null,
            "grid_area": null,
            "grid_auto_columns": null,
            "grid_auto_flow": null,
            "grid_auto_rows": null,
            "grid_column": null,
            "grid_gap": null,
            "grid_row": null,
            "grid_template_areas": null,
            "grid_template_columns": null,
            "grid_template_rows": null,
            "height": null,
            "justify_content": null,
            "justify_items": null,
            "left": null,
            "margin": null,
            "max_height": null,
            "max_width": null,
            "min_height": null,
            "min_width": null,
            "object_fit": null,
            "object_position": null,
            "order": null,
            "overflow": null,
            "overflow_x": null,
            "overflow_y": null,
            "padding": null,
            "right": null,
            "top": null,
            "visibility": null,
            "width": null
          }
        },
        "2ff5746f684544ebb5bdd73f4a5c8614": {
          "model_module": "@jupyter-widgets/base",
          "model_name": "LayoutModel",
          "model_module_version": "1.2.0",
          "state": {
            "_model_module": "@jupyter-widgets/base",
            "_model_module_version": "1.2.0",
            "_model_name": "LayoutModel",
            "_view_count": null,
            "_view_module": "@jupyter-widgets/base",
            "_view_module_version": "1.2.0",
            "_view_name": "LayoutView",
            "align_content": null,
            "align_items": null,
            "align_self": null,
            "border": null,
            "bottom": null,
            "display": null,
            "flex": null,
            "flex_flow": null,
            "grid_area": null,
            "grid_auto_columns": null,
            "grid_auto_flow": null,
            "grid_auto_rows": null,
            "grid_column": null,
            "grid_gap": null,
            "grid_row": null,
            "grid_template_areas": null,
            "grid_template_columns": null,
            "grid_template_rows": null,
            "height": null,
            "justify_content": null,
            "justify_items": null,
            "left": null,
            "margin": null,
            "max_height": null,
            "max_width": null,
            "min_height": null,
            "min_width": null,
            "object_fit": null,
            "object_position": null,
            "order": null,
            "overflow": null,
            "overflow_x": null,
            "overflow_y": null,
            "padding": null,
            "right": null,
            "top": null,
            "visibility": null,
            "width": null
          }
        },
        "ec002b9f49a1471fb1b951631f213e3d": {
          "model_module": "@jupyter-widgets/controls",
          "model_name": "DescriptionStyleModel",
          "model_module_version": "1.5.0",
          "state": {
            "_model_module": "@jupyter-widgets/controls",
            "_model_module_version": "1.5.0",
            "_model_name": "DescriptionStyleModel",
            "_view_count": null,
            "_view_module": "@jupyter-widgets/base",
            "_view_module_version": "1.2.0",
            "_view_name": "StyleView",
            "description_width": ""
          }
        },
        "a3ac1c8494e24eeb8cc97f490d8b8c3a": {
          "model_module": "@jupyter-widgets/base",
          "model_name": "LayoutModel",
          "model_module_version": "1.2.0",
          "state": {
            "_model_module": "@jupyter-widgets/base",
            "_model_module_version": "1.2.0",
            "_model_name": "LayoutModel",
            "_view_count": null,
            "_view_module": "@jupyter-widgets/base",
            "_view_module_version": "1.2.0",
            "_view_name": "LayoutView",
            "align_content": null,
            "align_items": null,
            "align_self": null,
            "border": null,
            "bottom": null,
            "display": null,
            "flex": null,
            "flex_flow": null,
            "grid_area": null,
            "grid_auto_columns": null,
            "grid_auto_flow": null,
            "grid_auto_rows": null,
            "grid_column": null,
            "grid_gap": null,
            "grid_row": null,
            "grid_template_areas": null,
            "grid_template_columns": null,
            "grid_template_rows": null,
            "height": null,
            "justify_content": null,
            "justify_items": null,
            "left": null,
            "margin": null,
            "max_height": null,
            "max_width": null,
            "min_height": null,
            "min_width": null,
            "object_fit": null,
            "object_position": null,
            "order": null,
            "overflow": null,
            "overflow_x": null,
            "overflow_y": null,
            "padding": null,
            "right": null,
            "top": null,
            "visibility": null,
            "width": null
          }
        },
        "9a66b0df6bb340a7959199c12fa3d7a5": {
          "model_module": "@jupyter-widgets/controls",
          "model_name": "ProgressStyleModel",
          "model_module_version": "1.5.0",
          "state": {
            "_model_module": "@jupyter-widgets/controls",
            "_model_module_version": "1.5.0",
            "_model_name": "ProgressStyleModel",
            "_view_count": null,
            "_view_module": "@jupyter-widgets/base",
            "_view_module_version": "1.2.0",
            "_view_name": "StyleView",
            "bar_color": null,
            "description_width": ""
          }
        },
        "6777a02fb3e4489994cb7a5966996fa2": {
          "model_module": "@jupyter-widgets/base",
          "model_name": "LayoutModel",
          "model_module_version": "1.2.0",
          "state": {
            "_model_module": "@jupyter-widgets/base",
            "_model_module_version": "1.2.0",
            "_model_name": "LayoutModel",
            "_view_count": null,
            "_view_module": "@jupyter-widgets/base",
            "_view_module_version": "1.2.0",
            "_view_name": "LayoutView",
            "align_content": null,
            "align_items": null,
            "align_self": null,
            "border": null,
            "bottom": null,
            "display": null,
            "flex": null,
            "flex_flow": null,
            "grid_area": null,
            "grid_auto_columns": null,
            "grid_auto_flow": null,
            "grid_auto_rows": null,
            "grid_column": null,
            "grid_gap": null,
            "grid_row": null,
            "grid_template_areas": null,
            "grid_template_columns": null,
            "grid_template_rows": null,
            "height": null,
            "justify_content": null,
            "justify_items": null,
            "left": null,
            "margin": null,
            "max_height": null,
            "max_width": null,
            "min_height": null,
            "min_width": null,
            "object_fit": null,
            "object_position": null,
            "order": null,
            "overflow": null,
            "overflow_x": null,
            "overflow_y": null,
            "padding": null,
            "right": null,
            "top": null,
            "visibility": null,
            "width": null
          }
        },
        "d3684c2c277e4db1b47ef4e8a7866f85": {
          "model_module": "@jupyter-widgets/controls",
          "model_name": "DescriptionStyleModel",
          "model_module_version": "1.5.0",
          "state": {
            "_model_module": "@jupyter-widgets/controls",
            "_model_module_version": "1.5.0",
            "_model_name": "DescriptionStyleModel",
            "_view_count": null,
            "_view_module": "@jupyter-widgets/base",
            "_view_module_version": "1.2.0",
            "_view_name": "StyleView",
            "description_width": ""
          }
        },
        "2bce1f48eac3460d8204bcf2bf350371": {
          "model_module": "@jupyter-widgets/controls",
          "model_name": "HBoxModel",
          "model_module_version": "1.5.0",
          "state": {
            "_dom_classes": [],
            "_model_module": "@jupyter-widgets/controls",
            "_model_module_version": "1.5.0",
            "_model_name": "HBoxModel",
            "_view_count": null,
            "_view_module": "@jupyter-widgets/controls",
            "_view_module_version": "1.5.0",
            "_view_name": "HBoxView",
            "box_style": "",
            "children": [
              "IPY_MODEL_27653515a52f4be79ad694b4d750f325",
              "IPY_MODEL_b5d6787c31184a6b8d29f492be579ab7",
              "IPY_MODEL_99f4ac0ba696431eb668085aceabb6fa"
            ],
            "layout": "IPY_MODEL_f7ae71b1a2c041b396b4d660ab072c65"
          }
        },
        "27653515a52f4be79ad694b4d750f325": {
          "model_module": "@jupyter-widgets/controls",
          "model_name": "HTMLModel",
          "model_module_version": "1.5.0",
          "state": {
            "_dom_classes": [],
            "_model_module": "@jupyter-widgets/controls",
            "_model_module_version": "1.5.0",
            "_model_name": "HTMLModel",
            "_view_count": null,
            "_view_module": "@jupyter-widgets/controls",
            "_view_module_version": "1.5.0",
            "_view_name": "HTMLView",
            "description": "",
            "description_tooltip": null,
            "layout": "IPY_MODEL_5727228767d74c7d82a32c5f4325b21b",
            "placeholder": "​",
            "style": "IPY_MODEL_3b2e54f8f4f84dfebf7c372a1a031843",
            "value": "Inference: 100%"
          }
        },
        "b5d6787c31184a6b8d29f492be579ab7": {
          "model_module": "@jupyter-widgets/controls",
          "model_name": "FloatProgressModel",
          "model_module_version": "1.5.0",
          "state": {
            "_dom_classes": [],
            "_model_module": "@jupyter-widgets/controls",
            "_model_module_version": "1.5.0",
            "_model_name": "FloatProgressModel",
            "_view_count": null,
            "_view_module": "@jupyter-widgets/controls",
            "_view_module_version": "1.5.0",
            "_view_name": "ProgressView",
            "bar_style": "success",
            "description": "",
            "description_tooltip": null,
            "layout": "IPY_MODEL_6c543c93bf0a46589309b44f06140127",
            "max": 1,
            "min": 0,
            "orientation": "horizontal",
            "style": "IPY_MODEL_c07370f706b64ea591b11a3178ed8147",
            "value": 1
          }
        },
        "99f4ac0ba696431eb668085aceabb6fa": {
          "model_module": "@jupyter-widgets/controls",
          "model_name": "HTMLModel",
          "model_module_version": "1.5.0",
          "state": {
            "_dom_classes": [],
            "_model_module": "@jupyter-widgets/controls",
            "_model_module_version": "1.5.0",
            "_model_name": "HTMLModel",
            "_view_count": null,
            "_view_module": "@jupyter-widgets/controls",
            "_view_module_version": "1.5.0",
            "_view_name": "HTMLView",
            "description": "",
            "description_tooltip": null,
            "layout": "IPY_MODEL_1396272fb12b4614a14453be30ba3f0b",
            "placeholder": "​",
            "style": "IPY_MODEL_5e6af64c3f454d5c9aa56ae2c7c0b74b",
            "value": " 1/1 [00:00&lt;00:00,  4.06it/s]"
          }
        },
        "f7ae71b1a2c041b396b4d660ab072c65": {
          "model_module": "@jupyter-widgets/base",
          "model_name": "LayoutModel",
          "model_module_version": "1.2.0",
          "state": {
            "_model_module": "@jupyter-widgets/base",
            "_model_module_version": "1.2.0",
            "_model_name": "LayoutModel",
            "_view_count": null,
            "_view_module": "@jupyter-widgets/base",
            "_view_module_version": "1.2.0",
            "_view_name": "LayoutView",
            "align_content": null,
            "align_items": null,
            "align_self": null,
            "border": null,
            "bottom": null,
            "display": null,
            "flex": null,
            "flex_flow": null,
            "grid_area": null,
            "grid_auto_columns": null,
            "grid_auto_flow": null,
            "grid_auto_rows": null,
            "grid_column": null,
            "grid_gap": null,
            "grid_row": null,
            "grid_template_areas": null,
            "grid_template_columns": null,
            "grid_template_rows": null,
            "height": null,
            "justify_content": null,
            "justify_items": null,
            "left": null,
            "margin": null,
            "max_height": null,
            "max_width": null,
            "min_height": null,
            "min_width": null,
            "object_fit": null,
            "object_position": null,
            "order": null,
            "overflow": null,
            "overflow_x": null,
            "overflow_y": null,
            "padding": null,
            "right": null,
            "top": null,
            "visibility": null,
            "width": null
          }
        },
        "5727228767d74c7d82a32c5f4325b21b": {
          "model_module": "@jupyter-widgets/base",
          "model_name": "LayoutModel",
          "model_module_version": "1.2.0",
          "state": {
            "_model_module": "@jupyter-widgets/base",
            "_model_module_version": "1.2.0",
            "_model_name": "LayoutModel",
            "_view_count": null,
            "_view_module": "@jupyter-widgets/base",
            "_view_module_version": "1.2.0",
            "_view_name": "LayoutView",
            "align_content": null,
            "align_items": null,
            "align_self": null,
            "border": null,
            "bottom": null,
            "display": null,
            "flex": null,
            "flex_flow": null,
            "grid_area": null,
            "grid_auto_columns": null,
            "grid_auto_flow": null,
            "grid_auto_rows": null,
            "grid_column": null,
            "grid_gap": null,
            "grid_row": null,
            "grid_template_areas": null,
            "grid_template_columns": null,
            "grid_template_rows": null,
            "height": null,
            "justify_content": null,
            "justify_items": null,
            "left": null,
            "margin": null,
            "max_height": null,
            "max_width": null,
            "min_height": null,
            "min_width": null,
            "object_fit": null,
            "object_position": null,
            "order": null,
            "overflow": null,
            "overflow_x": null,
            "overflow_y": null,
            "padding": null,
            "right": null,
            "top": null,
            "visibility": null,
            "width": null
          }
        },
        "3b2e54f8f4f84dfebf7c372a1a031843": {
          "model_module": "@jupyter-widgets/controls",
          "model_name": "DescriptionStyleModel",
          "model_module_version": "1.5.0",
          "state": {
            "_model_module": "@jupyter-widgets/controls",
            "_model_module_version": "1.5.0",
            "_model_name": "DescriptionStyleModel",
            "_view_count": null,
            "_view_module": "@jupyter-widgets/base",
            "_view_module_version": "1.2.0",
            "_view_name": "StyleView",
            "description_width": ""
          }
        },
        "6c543c93bf0a46589309b44f06140127": {
          "model_module": "@jupyter-widgets/base",
          "model_name": "LayoutModel",
          "model_module_version": "1.2.0",
          "state": {
            "_model_module": "@jupyter-widgets/base",
            "_model_module_version": "1.2.0",
            "_model_name": "LayoutModel",
            "_view_count": null,
            "_view_module": "@jupyter-widgets/base",
            "_view_module_version": "1.2.0",
            "_view_name": "LayoutView",
            "align_content": null,
            "align_items": null,
            "align_self": null,
            "border": null,
            "bottom": null,
            "display": null,
            "flex": null,
            "flex_flow": null,
            "grid_area": null,
            "grid_auto_columns": null,
            "grid_auto_flow": null,
            "grid_auto_rows": null,
            "grid_column": null,
            "grid_gap": null,
            "grid_row": null,
            "grid_template_areas": null,
            "grid_template_columns": null,
            "grid_template_rows": null,
            "height": null,
            "justify_content": null,
            "justify_items": null,
            "left": null,
            "margin": null,
            "max_height": null,
            "max_width": null,
            "min_height": null,
            "min_width": null,
            "object_fit": null,
            "object_position": null,
            "order": null,
            "overflow": null,
            "overflow_x": null,
            "overflow_y": null,
            "padding": null,
            "right": null,
            "top": null,
            "visibility": null,
            "width": null
          }
        },
        "c07370f706b64ea591b11a3178ed8147": {
          "model_module": "@jupyter-widgets/controls",
          "model_name": "ProgressStyleModel",
          "model_module_version": "1.5.0",
          "state": {
            "_model_module": "@jupyter-widgets/controls",
            "_model_module_version": "1.5.0",
            "_model_name": "ProgressStyleModel",
            "_view_count": null,
            "_view_module": "@jupyter-widgets/base",
            "_view_module_version": "1.2.0",
            "_view_name": "StyleView",
            "bar_color": null,
            "description_width": ""
          }
        },
        "1396272fb12b4614a14453be30ba3f0b": {
          "model_module": "@jupyter-widgets/base",
          "model_name": "LayoutModel",
          "model_module_version": "1.2.0",
          "state": {
            "_model_module": "@jupyter-widgets/base",
            "_model_module_version": "1.2.0",
            "_model_name": "LayoutModel",
            "_view_count": null,
            "_view_module": "@jupyter-widgets/base",
            "_view_module_version": "1.2.0",
            "_view_name": "LayoutView",
            "align_content": null,
            "align_items": null,
            "align_self": null,
            "border": null,
            "bottom": null,
            "display": null,
            "flex": null,
            "flex_flow": null,
            "grid_area": null,
            "grid_auto_columns": null,
            "grid_auto_flow": null,
            "grid_auto_rows": null,
            "grid_column": null,
            "grid_gap": null,
            "grid_row": null,
            "grid_template_areas": null,
            "grid_template_columns": null,
            "grid_template_rows": null,
            "height": null,
            "justify_content": null,
            "justify_items": null,
            "left": null,
            "margin": null,
            "max_height": null,
            "max_width": null,
            "min_height": null,
            "min_width": null,
            "object_fit": null,
            "object_position": null,
            "order": null,
            "overflow": null,
            "overflow_x": null,
            "overflow_y": null,
            "padding": null,
            "right": null,
            "top": null,
            "visibility": null,
            "width": null
          }
        },
        "5e6af64c3f454d5c9aa56ae2c7c0b74b": {
          "model_module": "@jupyter-widgets/controls",
          "model_name": "DescriptionStyleModel",
          "model_module_version": "1.5.0",
          "state": {
            "_model_module": "@jupyter-widgets/controls",
            "_model_module_version": "1.5.0",
            "_model_name": "DescriptionStyleModel",
            "_view_count": null,
            "_view_module": "@jupyter-widgets/base",
            "_view_module_version": "1.2.0",
            "_view_name": "StyleView",
            "description_width": ""
          }
        }
      }
    }
  },
  "cells": [
    {
      "cell_type": "markdown",
      "metadata": {
        "id": "view-in-github",
        "colab_type": "text"
      },
      "source": [
        "<a href=\"https://colab.research.google.com/github/callmemark/Correlation-of-Night-Air-Temperature-and-light-pollution-in-major-cities-in-the-Philippines/blob/main/Thesis_Proc.ipynb\" target=\"_parent\"><img src=\"https://colab.research.google.com/assets/colab-badge.svg\" alt=\"Open In Colab\"/></a>"
      ]
    },
    {
      "cell_type": "markdown",
      "source": [
        "<h1> Correlation of Night Air Temperature and light pollution in major cities in the Philippines </h1>\n",
        "</br></br></br>\n",
        "\n",
        "\n",
        "> Fernandez, Jaron Rix\n",
        "</br>\n",
        "Velmonte, Mark john A.\n",
        "\n",
        "\n",
        "\n",
        "<br>\n",
        "<br>\n",
        "<br>\n",
        "\n",
        "---\n",
        "\n",
        "\n",
        "\n",
        "\n",
        "\n",
        "\n"
      ],
      "metadata": {
        "id": "RABrvrp2qX4p"
      }
    },
    {
      "cell_type": "markdown",
      "source": [
        "<h1>Preperation 1: Install Libraries</h1>\n",
        "\n",
        "> Install neccesary libraries"
      ],
      "metadata": {
        "id": "Sy9S6BtAqfyX"
      }
    },
    {
      "cell_type": "code",
      "source": [
        "# Install GDAL and Geopandas\n",
        "!apt install gdal-bin python-gdal python3-gdal --quiet\n",
        "!apt install python3-rtree --quiet\n",
        "!pip install --upgrade pip --quiet\n",
        "!pip install git+git://github.com/geopandas/geopandas.git --quiet\n",
        "!pip install descartes --quiet\n",
        "!pip install ipywidgets --quiet\n",
        "\n",
        "# Install other libraries\n",
        "!pip install splot --quiet\n",
        "!pip install -U mgwr --quiet\n",
        "\n",
        "#!pip freeze"
      ],
      "metadata": {
        "id": "LdXV1hAsnuyB"
      },
      "execution_count": null,
      "outputs": []
    },
    {
      "cell_type": "markdown",
      "source": [
        "<h1>Preperation 2: Import Libraries</h1>\n",
        "\n",
        "> after installation we procced to import the libraries"
      ],
      "metadata": {
        "id": "YJrBnv2Zqszf"
      }
    },
    {
      "cell_type": "code",
      "execution_count": null,
      "metadata": {
        "id": "9oawj62ciWQo"
      },
      "outputs": [],
      "source": [
        "#import libraries\n",
        "\n",
        "import numpy as np\n",
        "import pandas as pd\n",
        "import geopandas as gpd\n",
        "import seaborn as sns\n",
        "import matplotlib.pyplot as plt\n",
        "import matplotlib as mpl\n",
        "import libpysal as ps\n",
        "from mgwr.gwr import GWR, MGWR\n",
        "from mgwr.sel_bw import Sel_BW\n",
        "from mgwr.utils import shift_colormap, truncate_colormap\n",
        "from google.colab import drive\n",
        "from os import path, getcwd\n",
        "import itertools\n",
        "from sklearn.model_selection import train_test_split\n",
        "from sklearn.linear_model import LinearRegression\n",
        "from sklearn import linear_model\n",
        "import statsmodels.api as sm\n",
        "from statsmodels.stats.outliers_influence import variance_inflation_factor"
      ]
    },
    {
      "cell_type": "markdown",
      "source": [
        "<h1> Preperation 3: Moun Drive </h1>\n",
        "\n",
        "> To access data from google drive, We need to give permission to mount the drive and gain access to folders and files"
      ],
      "metadata": {
        "id": "XiqsCfH7q9Bn"
      }
    },
    {
      "cell_type": "code",
      "source": [
        "#mount the google drive used\n",
        "from google.colab import drive\n",
        "drive.mount('/content/drive')"
      ],
      "metadata": {
        "id": "2DUnJhipl4Jq",
        "colab": {
          "base_uri": "https://localhost:8080/"
        },
        "outputId": "528289ac-aef1-42c4-faeb-26e993574e82"
      },
      "execution_count": null,
      "outputs": [
        {
          "output_type": "stream",
          "name": "stdout",
          "text": [
            "Mounted at /content/drive\n"
          ]
        }
      ]
    },
    {
      "cell_type": "markdown",
      "source": [
        "<h1>Preperation 4: File Reference </h1>\n",
        "\n",
        "> Create a dictionary to use for file path reference and for process automation"
      ],
      "metadata": {
        "id": "_IWQb6eara_5"
      }
    },
    {
      "cell_type": "code",
      "source": [
        "GPKG_DATASET_DIRECTORY = \"/content/drive/My Drive/COLLEGE_THESIS_FOLDER/GPKG_FILES/\"\n",
        "\n",
        "\n",
        "gpkg_files_dict = {\n",
        "    \"Manila_City\" : \"Manila_City.gpkg\",\n",
        "    \"Taguig_City\" : \"Taguig_City.gpkg\",\n",
        "    \"Pasig_City\" : \"Pasig_City.gpkg\",\n",
        "    \"Paranaque_City\" : \"Paranaque_City.gpkg\",\n",
        "    \"Makati_City\" : \"Makati_City.gpkg\",\n",
        "    \"LasPinas_City\" : \"LasPinas_City.gpkg\",\n",
        "    \"Muntinlupa_City\" : \"Muntinlupa_City.gpkg\",\n",
        "    \"Pasay_City\" : \"Pasay_City.gpkg\",\n",
        "    \"Malabon_City\" : \"Malabon_City.gpkg\",\n",
        "    \"Butuan_City\" : \"Butuan_City.gpkg\",\n",
        "    \"grouped_study_area\" : \"grouped_study_area.gpkg\"  \n",
        "}\n",
        "\n",
        "\n",
        "\n",
        "DATASET_DIRECTORY = \"/content/drive/My Drive/COLLEGE_THESIS_FOLDER/DataSet/climactic_factor_dataset_v2/\"\n",
        "\n",
        "CITY_NAME= [\n",
        "    \"manila_city\",\n",
        "    \"valenzuela_city\",\n",
        "    \"taguig_city\",\n",
        "    \"pasig_city\",\n",
        "    \"pasay_city\",\n",
        "    \"paranaque_city\",\n",
        "    \"muntinlupa_city\",\n",
        "    \"malabon_city\",\n",
        "    \"makati_city\",\n",
        "    \"laspinas_city\"\n",
        "]\n",
        "\n",
        "\n",
        "LIGHTPOL_DIRECTORY = \"/content/drive/My Drive/COLLEGE_THESIS_FOLDER/DataSet/Light_pol_data/\"\n",
        "\n",
        "y_ext = [\"2012\", \"2013\", \"2014\", \"2015\", \"2016\", \"2017\", \"2018\", \"2019\", \"2020\", \"2021\"]\n",
        "lpol_cname = [\n",
        "  \"manila_lpol_data_\",\n",
        "  \"taguig_lpol_data_\",\n",
        "  \"pasig_lpol_data_\",\n",
        "  \"paranaque_lpol_data_\",\n",
        "  \"makati_lpol_data_\",\n",
        "  \"laspinas_lpol_data_\",\n",
        "  \"muntinlupa_lpol_data_\",\n",
        "  \"pasay_lpol_data_\",\n",
        "  \"malabon_lpol_data_\",\n",
        "  \"valenzuela_lpol_data_\",\n",
        "]"
      ],
      "metadata": {
        "id": "cyo_qF39lvu_"
      },
      "execution_count": null,
      "outputs": []
    },
    {
      "cell_type": "markdown",
      "source": [
        "<h1>Preperation 5: Create helper function and class</h1>\n",
        "\n",
        "> Create function and classes methods that will be use repeatedly"
      ],
      "metadata": {
        "id": "2AbD9A_aZgRQ"
      }
    },
    {
      "cell_type": "code",
      "source": [
        "# Helper functions and Classes\n",
        "def get_gpk_fpath(city_name_arg = str):\n",
        "  try:\n",
        "    return GPKG_DATASET_DIRECTORY + gpkg_files_dict[city_name_arg]\n",
        "  except:\n",
        "    raise Exception(\"error in get_gpk_fpath func | No City in dataset\")\n",
        "    \n",
        "\n",
        "def get_file_path(city_name_arg):\n",
        "  _fstr = DATASET_DIRECTORY + city_name_arg + \".csv\"\n",
        "  return _fstr\n"
      ],
      "metadata": {
        "id": "Bg4kUtWzpXys"
      },
      "execution_count": null,
      "outputs": []
    },
    {
      "cell_type": "code",
      "source": [
        "class MMREG_PROCS():\n",
        "  def __init__(self, x_arg, y_arg, title_arg = \"Data Analysis\"):\n",
        "    self.x_sample = x_arg\n",
        "    self.y_sample = y_arg\n",
        "    self.proc_title = title_arg\n",
        "  \n",
        "\n",
        "  def standard_proc(self, _show_plot_arg = True):\n",
        "    self.scikit_train_proc(show_plot_arg = _show_plot_arg)\n",
        "    self.disp_res_header()\n",
        "    self.scikit_proc()\n",
        "    self.statmod_proc()\n",
        "    self.calc_pct()\n",
        "\n",
        "  \n",
        "  def disp_res_header(self):\n",
        "    print((\"===\" * 26), \"'\\n\")\n",
        "    print(self.proc_title.center(26, \"=\"))\n",
        "\n",
        "\n",
        "  def calc_pct(self):\n",
        "    x_axis_pct_chage = pd.DataFrame(self.x_sample).pct_change()\n",
        "    y_axis_pct_chage = pd.DataFrame(self.y_sample).pct_change()\n",
        "\n",
        "    print((\"===\" * 26), \"'\\n\")\n",
        "    print(\"PCT: \\n\", x_axis_pct_chage, y_axis_pct_chage)\n",
        "    print((\"===\" * 26), \"'\\n\")\n",
        "    return [x_axis_pct_chage, y_axis_pct_chage]\n",
        "\n",
        "\n",
        "  def scikit_train_proc(self, test_size_arg = 0.3, random_state_arg = 0, show_plot_arg = True):\n",
        "    self.lr_model = LinearRegression()\n",
        "    self.X_train, self.X_test, self.y_train, self.y_test = train_test_split(self.x_sample, self.y_sample, test_size = test_size_arg, random_state = random_state_arg)\n",
        "    self.lr_model.fit(self.X_train, self.y_train)\n",
        "    self.y_pred = self.lr_model.predict(self.X_train)\n",
        "    \n",
        "    if show_plot_arg:\n",
        "      plt.scatter(self.y_train, self.y_pred, color = \"black\")\n",
        "      sns.regplot(x = self.y_train, y = self.y_pred , ci=None, color ='orange')\n",
        "\n",
        "      plt.style.use('seaborn-pastel')\n",
        "      plt.ylabel(\"Factors\")\n",
        "      plt.xlabel(\"N.Time Temp\")\n",
        "      plt.title(self.proc_title)\n",
        "\n",
        "      plt.show()\n",
        "    \n",
        "    return [self.y_train, self.y_pred]\n",
        "\n",
        "\n",
        "  def scikit_proc(self):\n",
        "    regr = linear_model.LinearRegression()\n",
        "    fitted_model = regr.fit(self.x_sample, self.y_sample)\n",
        "    print((\"===\" * 26), \"'\\n\")\n",
        "    print(\"SCIKIT LEARN RESULT: \")\n",
        "    print(\"Intercept: \", fitted_model.intercept_)\n",
        "    print('Coefficients: ', fitted_model.coef_)\n",
        "    print((\"===\" * 26), \"'\\n\")\n",
        "\n",
        "    return fitted_model\n",
        "\n",
        "\n",
        "  def statmod_proc(self):\n",
        "    _x = sm.add_constant(self.x_sample)\n",
        " \n",
        "    model = sm.OLS(self.y_sample, _x).fit()\n",
        "    predictions = model.predict(_x) \n",
        "    \n",
        "    reg_ressult = model.summary()\n",
        "    print(reg_ressult)\n",
        "\n",
        "    return reg_ressult\n",
        "  \n",
        "\n",
        "  def vif(self, print_output = True):\n",
        "    _result = [variance_inflation_factor(self.x_sample.values, i) for i in range(len(self.x_sample.columns))]\n",
        "    return _result"
      ],
      "metadata": {
        "id": "E15rZqedKmMD"
      },
      "execution_count": null,
      "outputs": []
    },
    {
      "cell_type": "markdown",
      "source": [
        "<h1>Procedures</h1>\n",
        "\n",
        "> 1. get light pollution annual average per city\n",
        "<br>\n",
        "> 2. filter data to obtains night time information (7pm-4am)\n",
        "<br>\n",
        "> 3. Calculate the annaul average of every parameter for every city\n",
        "<br>\n",
        "> 4. Create new Data frame for every city obtaining the night time annual average value of parameters\n",
        "<br>\n",
        "> 5. Combine all the processed data into a single dataset "
      ],
      "metadata": {
        "id": "pbPtMz0BZ7qN"
      }
    },
    {
      "cell_type": "markdown",
      "source": [
        "<h1>Procedure 1</h1>\n",
        "\n",
        "> 1. get light pollution annual average per city\n",
        "\n"
      ],
      "metadata": {
        "id": "LPDMOKz2biBu"
      }
    },
    {
      "cell_type": "code",
      "source": [
        "dict_keys = ['Manila_City', 'Taguig_City', 'Pasig_City', 'Paranaque_City', 'Makati_City', 'Las Pinas_City', 'Muntinlupa_City', 'Pasay_City', 'Malabon_City', 'Valenzuela_City']\n",
        "lpol_data_dict = {}\n",
        "\n",
        "for _index in range(len(lpol_cname)):\n",
        "  _avg_init_list = []\n",
        "  for _year in y_ext:\n",
        "    fname = lpol_cname[_index] + _year\n",
        "\n",
        "    avg_val = np.average(np.array(pd.read_csv(LIGHTPOL_DIRECTORY + fname + \".csv\", skiprows = 1))) # open csv || skip headder >> convert to numpy >> get avg\n",
        "    _avg_init_list.append(avg_val)\n",
        "\n",
        "  lpol_data_dict[dict_keys[_index]] = _avg_init_list\n",
        "  print(dict_keys[_index], \": Data Process complete\")\n",
        "\n",
        "lpol_data_df = pd.DataFrame(lpol_data_dict)"
      ],
      "metadata": {
        "id": "u_piBR72dTBA",
        "colab": {
          "base_uri": "https://localhost:8080/"
        },
        "outputId": "dde73f29-c838-4abe-954f-7c69c2803b52"
      },
      "execution_count": null,
      "outputs": [
        {
          "output_type": "stream",
          "name": "stdout",
          "text": [
            "Manila_City : Data Process complete\n",
            "Taguig_City : Data Process complete\n",
            "Pasig_City : Data Process complete\n",
            "Paranaque_City : Data Process complete\n",
            "Makati_City : Data Process complete\n",
            "Las Pinas_City : Data Process complete\n",
            "Muntinlupa_City : Data Process complete\n",
            "Pasay_City : Data Process complete\n",
            "Malabon_City : Data Process complete\n",
            "Valenzuela_City : Data Process complete\n"
          ]
        }
      ]
    },
    {
      "cell_type": "markdown",
      "source": [
        "<h1>Procedures 2</h1>\n",
        "\n",
        "> 2. filter data to obtains night time information (7pm-4am)\n"
      ],
      "metadata": {
        "id": "XLmFe88Sb7Bv"
      }
    },
    {
      "cell_type": "code",
      "source": [
        "# create a empty dictionary\n",
        "nt_city_df_dict = {}\n",
        "\n",
        "# loop through the list\n",
        "for city in CITY_NAME:\n",
        "  dict_key = city\n",
        "  city_df = pd.read_csv(get_file_path(city), skiprows = 13)\n",
        "  \n",
        "  # filter data from t-19 to t-04\n",
        "  print(\"Proc city: \", city)\n",
        "  nightime_data = city_df.loc[(city_df[\"HR\"] <= 4) | (city_df[\"HR\"] >= 19)]\n",
        "\n",
        "  # create new dictinary item and add new data\n",
        "  nt_city_df_dict[dict_key] = nightime_data\n",
        "\n",
        "\n",
        "print(nt_city_df_dict.keys())"
      ],
      "metadata": {
        "id": "Pu1kWyc6pas5",
        "colab": {
          "base_uri": "https://localhost:8080/"
        },
        "outputId": "e93ea537-e630-46e6-d9ca-4e9a2db65209"
      },
      "execution_count": null,
      "outputs": [
        {
          "output_type": "stream",
          "name": "stdout",
          "text": [
            "Proc city:  manila_city\n",
            "Proc city:  valenzuela_city\n",
            "Proc city:  taguig_city\n",
            "Proc city:  pasig_city\n",
            "Proc city:  pasay_city\n",
            "Proc city:  paranaque_city\n",
            "Proc city:  muntinlupa_city\n",
            "Proc city:  malabon_city\n",
            "Proc city:  makati_city\n",
            "Proc city:  laspinas_city\n",
            "dict_keys(['manila_city', 'valenzuela_city', 'taguig_city', 'pasig_city', 'pasay_city', 'paranaque_city', 'muntinlupa_city', 'malabon_city', 'makati_city', 'laspinas_city'])\n"
          ]
        }
      ]
    },
    {
      "cell_type": "markdown",
      "source": [
        "<h1>Procedures 3</h1>\n",
        "\n",
        "\n",
        "> 3. Calculate the annaul average of every parameter for every city\n"
      ],
      "metadata": {
        "id": "_-xnFiVab_Wm"
      }
    },
    {
      "cell_type": "code",
      "source": [
        "# year 2011-2020\n",
        "year_range = [i for i in range(2012, 2022)]\n",
        "# climactic factors\n",
        "df_params = [\"PS\", \"T2M\", \"QV2M\", \"WS10M\", \"PRECTOTCORR\", \"Lat\", \"Long\"]\n",
        "\n",
        "# initialize empty dictionary\n",
        "cities_yparam_avg_val = {}\n",
        "\n",
        "# loop through the cities \n",
        "for city_name in CITY_NAME: # or CITY_NAME_2010_2010 || Same value\n",
        "  city_dict_key = city_name\n",
        "  cities_yparam_avg_val[city_dict_key] = {}\n",
        "  \n",
        "  # loop through the climatic factors\n",
        "  for param_name in df_params:\n",
        "    # initialize new empty list every iteration\n",
        "    initial_param_avg_list = []\n",
        "\n",
        "    # loop through the year\n",
        "    for _year in year_range:\n",
        "      # get the average value of the current iterated climatic factor\n",
        "\n",
        "      tgt_y = nt_city_df_dict[city_dict_key].loc[nt_city_df_dict[city_dict_key][\"YEAR\"] == _year][param_name]\n",
        "      param_avg_val = np.average(np.array(tgt_y))\n",
        "\n",
        "      # appent to empty list\n",
        "      initial_param_avg_list.append(param_avg_val)\n",
        "\n",
        "      # add new dictionary key and its value\n",
        "      cities_yparam_avg_val[city_dict_key][param_name] = np.array(initial_param_avg_list)\n",
        "\n",
        "\n",
        "print(cities_yparam_avg_val.keys())"
      ],
      "metadata": {
        "id": "sSrV2XzfpdVG",
        "colab": {
          "base_uri": "https://localhost:8080/"
        },
        "outputId": "2e85d7c7-03c0-48c9-9f0b-4aa3fbcd2cca"
      },
      "execution_count": null,
      "outputs": [
        {
          "output_type": "stream",
          "name": "stdout",
          "text": [
            "dict_keys(['manila_city', 'valenzuela_city', 'taguig_city', 'pasig_city', 'pasay_city', 'paranaque_city', 'muntinlupa_city', 'malabon_city', 'makati_city', 'laspinas_city'])\n"
          ]
        }
      ]
    },
    {
      "cell_type": "markdown",
      "source": [
        "<h1>Procedures 4</h1>\n",
        "\n",
        "> 4. Create new Data frame for every city obtaining the night time annual average value of parameters\n",
        " "
      ],
      "metadata": {
        "id": "N218ndbFcEDD"
      }
    },
    {
      "cell_type": "code",
      "source": [
        "paranaque_df = pd.DataFrame(cities_yparam_avg_val[\"paranaque_city\"])\n",
        "valenzuela_df = pd.DataFrame(cities_yparam_avg_val[\"valenzuela_city\"])\n",
        "taguig_df = pd.DataFrame(cities_yparam_avg_val[\"taguig_city\"])\n",
        "makati_df = pd.DataFrame(cities_yparam_avg_val[\"makati_city\"])\n",
        "muntinlupa_df = pd.DataFrame(cities_yparam_avg_val[\"muntinlupa_city\"])\n",
        "manila_df = pd.DataFrame(cities_yparam_avg_val[\"manila_city\"])\n",
        "pasig_df = pd.DataFrame(cities_yparam_avg_val[\"pasig_city\"])\n",
        "las_Pinas_df = pd.DataFrame(cities_yparam_avg_val[\"laspinas_city\"])\n",
        "pasay_df = pd.DataFrame(cities_yparam_avg_val[\"pasay_city\"])\n",
        "malabon_df = pd.DataFrame(cities_yparam_avg_val[\"malabon_city\"])"
      ],
      "metadata": {
        "id": "5dhQ5NN16Hui"
      },
      "execution_count": 120,
      "outputs": []
    },
    {
      "cell_type": "markdown",
      "source": [
        "<h1>Procedures 5</h1>\n",
        "\n",
        "> 5. Combine all the processed data into a single dataset "
      ],
      "metadata": {
        "id": "p1OzgEiHcG1A"
      }
    },
    {
      "cell_type": "code",
      "source": [
        "# (long, lat)\n",
        "paranque_coord = [(nt_city_df_dict[\"paranaque_city\"][\"Long\"].iloc[0], nt_city_df_dict[\"paranaque_city\"][\"Lat\"].iloc[0])] * 10\n",
        "valenzuela_coord = [(nt_city_df_dict[\"valenzuela_city\"][\"Long\"].iloc[0], nt_city_df_dict[\"valenzuela_city\"][\"Lat\"].iloc[0])] * 10\n",
        "taguig_coord = [(nt_city_df_dict[\"taguig_city\"][\"Long\"].iloc[0], nt_city_df_dict[\"taguig_city\"][\"Lat\"].iloc[0])] * 10\n",
        "makati_coord = [(nt_city_df_dict[\"makati_city\"][\"Long\"].iloc[0], nt_city_df_dict[\"makati_city\"][\"Lat\"].iloc[0])] * 10\n",
        "muntinlupa_coord = [(nt_city_df_dict[\"muntinlupa_city\"][\"Long\"].iloc[0], nt_city_df_dict[\"muntinlupa_city\"][\"Lat\"].iloc[0])] * 10\n",
        "manila_coord = [(nt_city_df_dict[\"manila_city\"][\"Long\"].iloc[0], nt_city_df_dict[\"manila_city\"][\"Lat\"].iloc[0])] * 10\n",
        "pasig_coord = [(nt_city_df_dict[\"pasig_city\"][\"Long\"].iloc[0], nt_city_df_dict[\"pasig_city\"][\"Lat\"].iloc[0])] * 10\n",
        "pasay_coord = [(nt_city_df_dict[\"pasay_city\"][\"Long\"].iloc[0], nt_city_df_dict[\"pasay_city\"][\"Lat\"].iloc[0])] * 10\n",
        "malabon_coord = [(nt_city_df_dict[\"malabon_city\"][\"Long\"].iloc[0], nt_city_df_dict[\"malabon_city\"][\"Lat\"].iloc[0])] * 10\n",
        "laspinas_coord = [(nt_city_df_dict[\"laspinas_city\"][\"Long\"].iloc[0], nt_city_df_dict[\"laspinas_city\"][\"Lat\"].iloc[0])] * 10\n",
        "\n",
        "\n",
        "g_coords = paranque_coord + valenzuela_coord + taguig_coord + makati_coord + muntinlupa_coord + manila_coord + pasig_coord + pasay_coord + malabon_coord + laspinas_coord\n",
        "cities_df = [\n",
        "    paranaque_df, \n",
        "    valenzuela_df, \n",
        "    taguig_df, \n",
        "    makati_df, \n",
        "    muntinlupa_df, \n",
        "    manila_df, \n",
        "    pasig_df, \n",
        "    pasay_df, \n",
        "    malabon_df, \n",
        "    las_Pinas_df]\n",
        "\n",
        "\n",
        "lpol_data = [\n",
        "    lpol_data_df[\"Paranaque_City\"],\n",
        "    lpol_data_df[\"Manila_City\"],\n",
        "    lpol_data_df[\"Taguig_City\"],\n",
        "    lpol_data_df[\"Pasig_City\"],\n",
        "    lpol_data_df[\"Las Pinas_City\"],\n",
        "    lpol_data_df[\"Muntinlupa_City\"],\n",
        "    lpol_data_df[\"Pasay_City\"],\n",
        "    lpol_data_df[\"Malabon_City\"],\n",
        "    lpol_data_df[\"Valenzuela_City\"],\n",
        "    lpol_data_df[\"Makati_City\"]\n",
        "]\n",
        "\n",
        "NCR_geopckg = get_gpk_fpath(\"grouped_study_area\")\n",
        "NCR_geopckg = gpd.read_file(NCR_geopckg)\n",
        "\n",
        "lpol_df_data = pd.concat(lpol_data)\n",
        "cities_df = pd.concat(cities_df)\n",
        "\n",
        "\n",
        "cities_df[\"LongLat\"] = g_coords\n",
        "cities_df[\"lpol_avg\"] = lpol_df_data"
      ],
      "metadata": {
        "id": "zLkJxa1TnoAo"
      },
      "execution_count": 121,
      "outputs": []
    },
    {
      "cell_type": "code",
      "source": [
        "#cities_df.to_csv(DATASET_DIRECTORY + 'grouped_samnples_pgkg_set.csv')"
      ],
      "metadata": {
        "id": "YVc9_aUsiq9f"
      },
      "execution_count": null,
      "outputs": []
    },
    {
      "cell_type": "code",
      "source": [
        "valenzuela_coord"
      ],
      "metadata": {
        "id": "RuQNKxSfeCM6",
        "outputId": "bba91319-ce6e-45a2-8178-01fee18ffcfd",
        "colab": {
          "base_uri": "https://localhost:8080/"
        }
      },
      "execution_count": null,
      "outputs": [
        {
          "output_type": "execute_result",
          "data": {
            "text/plain": [
              "[(120.983, 14.7011),\n",
              " (120.983, 14.7011),\n",
              " (120.983, 14.7011),\n",
              " (120.983, 14.7011),\n",
              " (120.983, 14.7011),\n",
              " (120.983, 14.7011),\n",
              " (120.983, 14.7011),\n",
              " (120.983, 14.7011),\n",
              " (120.983, 14.7011),\n",
              " (120.983, 14.7011)]"
            ]
          },
          "metadata": {},
          "execution_count": 37
        }
      ]
    },
    {
      "cell_type": "markdown",
      "source": [
        "<h1>DATA PROCESSING</h1>"
      ],
      "metadata": {
        "id": "1d3uO_lScPfd"
      }
    },
    {
      "cell_type": "markdown",
      "source": [
        "<h1>Multiple Linear Regression</h1>"
      ],
      "metadata": {
        "id": "my5Kc51N0m3A"
      }
    },
    {
      "cell_type": "code",
      "source": [
        "_x_val = paranaque_df.drop([\"Lat\", \"Long\", \"T2M\"], axis = 1)\n",
        "_x_val[\"lpol\"] = lpol_data_dict[\"Paranaque_City\"]\n",
        "_y_val = paranaque_df[\"T2M\"]\n",
        "\n",
        "MMREG_PROCS(_x_val, _y_val, \"Paranaque_City\").standard_proc()"
      ],
      "metadata": {
        "id": "ZG5arhaVVG1a"
      },
      "execution_count": null,
      "outputs": []
    },
    {
      "cell_type": "code",
      "source": [
        "_x_val = valenzuela_df.drop([\"Lat\", \"Long\", \"T2M\"], axis = 1)\n",
        "_x_val[\"lpol\"] = lpol_data_dict[\"Valenzuela_City\"]\n",
        "_y_val = valenzuela_df[\"T2M\"]\n",
        "\n",
        "MMREG_PROCS(_x_val, _y_val, \"Valenzuela_City\").standard_proc()"
      ],
      "metadata": {
        "id": "CzzgSXnsIukW"
      },
      "execution_count": null,
      "outputs": []
    },
    {
      "cell_type": "code",
      "source": [
        "_x_val = taguig_df.drop([\"Lat\", \"Long\", \"T2M\"], axis = 1)\n",
        "_x_val[\"lpol\"] = lpol_data_dict[\"Taguig_City\"]\n",
        "_y_val = taguig_df[\"T2M\"]\n",
        "\n",
        "MMREG_PROCS(_x_val, _y_val, \"Taguig_City\").standard_proc()"
      ],
      "metadata": {
        "id": "Eqew3j81IuYH"
      },
      "execution_count": null,
      "outputs": []
    },
    {
      "cell_type": "code",
      "source": [
        "_x_val = makati_df.drop([\"Lat\", \"Long\", \"T2M\"], axis = 1)\n",
        "_x_val[\"lpol\"] = lpol_data_dict[\"Makati_City\"]\n",
        "_y_val = makati_df[\"T2M\"]\n",
        "\n",
        "MMREG_PROCS(_x_val, _y_val, \"Makati_City\").standard_proc()"
      ],
      "metadata": {
        "id": "isyi4xwOIuM8"
      },
      "execution_count": null,
      "outputs": []
    },
    {
      "cell_type": "code",
      "source": [
        "_x_val = muntinlupa_df.drop([\"Lat\", \"Long\", \"T2M\"], axis = 1)\n",
        "_x_val[\"lpol\"] = lpol_data_dict[\"Muntinlupa_City\"]\n",
        "_y_val = muntinlupa_df[\"T2M\"]\n",
        "\n",
        "MMREG_PROCS(_x_val, _y_val, \"Muntinlupa_City\").standard_proc()"
      ],
      "metadata": {
        "id": "pJ8gDkg0IuB5"
      },
      "execution_count": null,
      "outputs": []
    },
    {
      "cell_type": "code",
      "source": [
        "_x_val = manila_df.drop([\"Lat\", \"Long\", \"T2M\"], axis = 1)\n",
        "_x_val[\"lpol\"] = lpol_data_dict[\"Manila_City\"]\n",
        "_y_val = manila_df[\"T2M\"]\n",
        "\n",
        "MMREG_PROCS(_x_val, _y_val, \"Manila_City\").standard_proc()"
      ],
      "metadata": {
        "id": "xoO6yKIaIt21"
      },
      "execution_count": null,
      "outputs": []
    },
    {
      "cell_type": "code",
      "source": [
        "_x_val = pasig_df.drop([\"Lat\", \"Long\", \"T2M\"], axis = 1)\n",
        "_x_val[\"lpol\"] = lpol_data_dict[\"Pasig_City\"]\n",
        "_y_val = pasig_df[\"T2M\"]\n",
        "\n",
        "MMREG_PROCS(_x_val, _y_val, \"Pasig_City\").standard_proc()"
      ],
      "metadata": {
        "id": "PUfcOkpuIts4"
      },
      "execution_count": null,
      "outputs": []
    },
    {
      "cell_type": "code",
      "source": [
        "_x_val = las_Pinas_df.drop([\"Lat\", \"Long\", \"T2M\"], axis = 1)\n",
        "_x_val[\"lpol\"] = lpol_data_dict[\"Las Pinas_City\"]\n",
        "_y_val = las_Pinas_df[\"T2M\"]\n",
        "\n",
        "MMREG_PROCS(_x_val, _y_val, \"Las Pinas_City\").standard_proc()"
      ],
      "metadata": {
        "id": "zWaZvz4XItY7"
      },
      "execution_count": null,
      "outputs": []
    },
    {
      "cell_type": "code",
      "source": [
        "_x_val = pasay_df.drop([\"Lat\", \"Long\", \"T2M\"], axis = 1)\n",
        "_x_val[\"lpol\"] = lpol_data_dict[\"Pasay_City\"]\n",
        "_y_val = pasay_df[\"T2M\"]\n",
        "\n",
        "MMREG_PROCS(_x_val, _y_val, \"Pasay_City\").standard_proc()"
      ],
      "metadata": {
        "id": "Q5yE8yMEItNU"
      },
      "execution_count": null,
      "outputs": []
    },
    {
      "cell_type": "code",
      "source": [
        "_x_val = malabon_df.drop([\"Lat\", \"Long\", \"T2M\"], axis = 1)\n",
        "_x_val[\"lpol\"] = lpol_data_dict[\"Malabon_City\"]\n",
        "_y_val = malabon_df[\"T2M\"]\n",
        "\n",
        "MMREG_PROCS(_x_val, _y_val, \"Malabon_City\").standard_proc()"
      ],
      "metadata": {
        "id": "FSBnIb1aIs6H"
      },
      "execution_count": null,
      "outputs": []
    },
    {
      "cell_type": "markdown",
      "source": [
        "<h1>Geographical Weighted Regression</h1>"
      ],
      "metadata": {
        "id": "EG6YeE4u0fzc"
      }
    },
    {
      "cell_type": "code",
      "source": [
        "g_y = cities_df['T2M'].values.reshape((-1,1)) #T2M\n",
        "cities_df[\"lpol\"] = cities_df['lpol_avg']\n",
        "g_X = cities_df[['QV2M', \"PS\", \"WS10M\", \"PRECTOTCORR\", \"lpol_avg\"]].values\n",
        "g_coords = list(g_coords)\n",
        "\n",
        "#normalize\n",
        "g_X = (g_X - g_X.mean(axis=0)) / g_X.std(axis=0)\n",
        "g_y = g_y.reshape((-1,1))\n",
        "g_y = (g_y - g_y.mean(axis=0)) / g_y.std(axis=0)"
      ],
      "metadata": {
        "id": "hzbu97r5RVrS"
      },
      "execution_count": 245,
      "outputs": []
    },
    {
      "cell_type": "code",
      "source": [
        "g_X[np.isnan(g_X)] = 0\n",
        "g_y[np.isnan(g_y)] = 0"
      ],
      "metadata": {
        "id": "KbmCsUtcWdZJ"
      },
      "execution_count": 222,
      "outputs": []
    },
    {
      "cell_type": "code",
      "source": [
        "gwr_selector = Sel_BW(g_coords, g_y, g_X, kernel = \"gaussian\", fixed = False, spherical=True) \n",
        "gwr_bw = gwr_selector.search(bw_min = 2)\n",
        "gwr_bw"
      ],
      "metadata": {
        "id": "zCysEN81WbsQ",
        "colab": {
          "base_uri": "https://localhost:8080/"
        },
        "outputId": "cdee69dc-5248-4745-d75d-7e342d3a0e60"
      },
      "execution_count": 223,
      "outputs": [
        {
          "output_type": "execute_result",
          "data": {
            "text/plain": [
              "91.0"
            ]
          },
          "metadata": {},
          "execution_count": 223
        }
      ]
    },
    {
      "cell_type": "code",
      "source": [
        "gwr_results = GWR(g_coords, g_y, g_X, gwr_bw).fit()"
      ],
      "metadata": {
        "id": "jxZZutFnuJcE"
      },
      "execution_count": 224,
      "outputs": []
    },
    {
      "cell_type": "code",
      "source": [
        "gwr_results.summary()"
      ],
      "metadata": {
        "id": "l8B2qvu2tkFt",
        "colab": {
          "base_uri": "https://localhost:8080/"
        },
        "outputId": "51d1fe68-d806-48ab-cbc6-e60f9205a87f"
      },
      "execution_count": 225,
      "outputs": [
        {
          "output_type": "stream",
          "name": "stdout",
          "text": [
            "===========================================================================\n",
            "Model type                                                         Gaussian\n",
            "Number of observations:                                                 100\n",
            "Number of covariates:                                                     6\n",
            "\n",
            "Global Regression Results\n",
            "---------------------------------------------------------------------------\n",
            "Residual sum of squares:                                              6.629\n",
            "Log-likelihood:                                                      -6.209\n",
            "AIC:                                                                 24.418\n",
            "AICc:                                                                27.636\n",
            "BIC:                                                               -426.257\n",
            "R2:                                                                   0.934\n",
            "Adj. R2:                                                              0.930\n",
            "\n",
            "Variable                              Est.         SE  t(Est/SE)    p-value\n",
            "------------------------------- ---------- ---------- ---------- ----------\n",
            "X0                                   0.000      0.027      0.000      1.000\n",
            "X1                                   1.109      0.036     30.838      0.000\n",
            "X2                                   0.394      0.031     12.914      0.000\n",
            "X3                                  -0.213      0.030     -7.170      0.000\n",
            "X4                                  -0.228      0.035     -6.523      0.000\n",
            "X5                                   0.005      0.027      0.193      0.847\n",
            "\n",
            "Geographically Weighted Regression (GWR) Results\n",
            "---------------------------------------------------------------------------\n",
            "Spatial kernel:                                           Adaptive bisquare\n",
            "Bandwidth used:                                                      91.000\n",
            "\n",
            "Diagnostic information\n",
            "---------------------------------------------------------------------------\n",
            "Residual sum of squares:                                              6.627\n",
            "Effective number of parameters (trace(S)):                           11.486\n",
            "Degree of freedom (n - trace(S)):                                    88.514\n",
            "Sigma estimate:                                                       0.274\n",
            "Log-likelihood:                                                      -6.194\n",
            "AIC:                                                                 37.362\n",
            "AICc:                                                                41.254\n",
            "BIC:                                                                 69.890\n",
            "R2:                                                                   0.934\n",
            "Adjusted R2:                                                          0.925\n",
            "Adj. alpha (95%):                                                     0.026\n",
            "Adj. critical t value (95%):                                          2.258\n",
            "\n",
            "Summary Statistics For GWR Parameter Estimates\n",
            "---------------------------------------------------------------------------\n",
            "Variable                   Mean        STD        Min     Median        Max\n",
            "-------------------- ---------- ---------- ---------- ---------- ----------\n",
            "X0                        0.000      0.001     -0.001      0.000      0.001\n",
            "X1                        1.109      0.000      1.108      1.109      1.109\n",
            "X2                        0.394      0.000      0.394      0.394      0.394\n",
            "X3                       -0.213      0.000     -0.213     -0.213     -0.213\n",
            "X4                       -0.228      0.000     -0.228     -0.228     -0.228\n",
            "X5                        0.007      0.001      0.005      0.007      0.010\n",
            "===========================================================================\n",
            "\n"
          ]
        }
      ]
    },
    {
      "cell_type": "code",
      "source": [
        "gwr_filtered_t = gwr_results.filter_tvals()"
      ],
      "metadata": {
        "id": "94_u-ajc3hIj"
      },
      "execution_count": 226,
      "outputs": []
    },
    {
      "cell_type": "code",
      "source": [
        "def show_plot_by_res_index(res_arg, var_ind_title):\n",
        "  fig, ax = plt.subplots(nrows=1, ncols=1, figsize=(15,7))\n",
        "  ax.set_title(\"Variable \" + var_ind_title + \"  \" + 'GWR Intercept Surface (BW: ' + str(gwr_bw) +')', fontsize=12)\n",
        "\n",
        "  cmap = plt.cm.seismic\n",
        "\n",
        "  gwr_min = res_arg.min()\n",
        "  gwr_max = res_arg.max()\n",
        "  vmin = np.min([gwr_min])\n",
        "  vmax = np.max([gwr_max])\n",
        "\n",
        "  #If all values are negative use the negative half of the colormap\n",
        "  if (vmin < 0) & (vmax < 0):\n",
        "      cmap = truncate_colormap(cmap, 0.0, 0.5)\n",
        "  #If all values are positive use the positive half of the colormap\n",
        "  elif (vmin > 0) & (vmax > 0):\n",
        "      cmap = truncate_colormap(cmap, 0.5, 1.0)\n",
        "  #Otherwise, there are positive and negative values so the colormap so zero is the midpoint\n",
        "  else:\n",
        "      cmap = shift_colormap(cmap, start=0.0, midpoint=1 - vmax/(vmax + abs(vmin)), stop=1.)\n",
        "\n",
        "  sm = plt.cm.ScalarMappable(cmap=cmap, norm=plt.Normalize(vmin=vmin, vmax=vmax))\n",
        "  NCR_geopckg.plot(cmap=sm.cmap, ax=ax, vmin=vmin, vmax=vmax, **{'edgecolor':'black', 'alpha':1})\n",
        "\n",
        "\n",
        "  fig.tight_layout()    \n",
        "  sm._A = []\n",
        "  cbar = fig.colorbar(sm)\n",
        "  cbar.ax.tick_params(labelsize=12) \n",
        "  ax.get_xaxis().set_visible(False)\n",
        "  ax.get_yaxis().set_visible(False)\n",
        "  plt.style.use('seaborn-pastel')\n",
        "  plt.show()"
      ],
      "metadata": {
        "id": "kROAYNo_zLaS"
      },
      "execution_count": 227,
      "outputs": []
    },
    {
      "cell_type": "code",
      "source": [
        "#show_plot_by_res_index(gwr_results.params[:,0], \"X0\")"
      ],
      "metadata": {
        "id": "2k61yaa6zgvp"
      },
      "execution_count": 228,
      "outputs": []
    },
    {
      "cell_type": "code",
      "source": [
        "#show_plot_by_res_index(gwr_results.params[:,1], \"X1\")"
      ],
      "metadata": {
        "id": "UUHIMJv8zmV6"
      },
      "execution_count": 229,
      "outputs": []
    },
    {
      "cell_type": "code",
      "source": [
        "#show_plot_by_res_index(gwr_results.params[:,2], \"X2\")"
      ],
      "metadata": {
        "id": "XoiJyR1vzvDi"
      },
      "execution_count": 230,
      "outputs": []
    },
    {
      "cell_type": "code",
      "source": [
        "#show_plot_by_res_index(gwr_results.params[:,3], \"X3\")"
      ],
      "metadata": {
        "id": "CYBBKUQjzvbW"
      },
      "execution_count": 231,
      "outputs": []
    },
    {
      "cell_type": "code",
      "source": [
        "#show_plot_by_res_index(gwr_results.params[:,4], \"X4\")"
      ],
      "metadata": {
        "id": "wbop3a_FzwCJ"
      },
      "execution_count": 232,
      "outputs": []
    },
    {
      "cell_type": "code",
      "source": [
        "#show_plot_by_res_index(gwr_results.params[:,5], \"X5\")"
      ],
      "metadata": {
        "id": "34SWdQEjWqWx"
      },
      "execution_count": 233,
      "outputs": []
    },
    {
      "cell_type": "markdown",
      "source": [
        "<h1>Multi Scale Goegraphical Weighted Regression </h1>"
      ],
      "metadata": {
        "id": "bBzttdeP9j-G"
      }
    },
    {
      "cell_type": "code",
      "source": [
        "mgwr_selector = Sel_BW(g_coords, g_y, g_X, kernel = \"bisquare\", fixed = False, spherical=True, multi = True) \n",
        "mgwr_bw = mgwr_selector.search(multi_bw_min = [2])\n",
        "mgwr_bw"
      ],
      "metadata": {
        "colab": {
          "base_uri": "https://localhost:8080/",
          "height": 66,
          "referenced_widgets": [
            "5fbacd72ef954fb6b8ac246e33942758",
            "4ada98a6051545eeafd69fa048696c41",
            "87bff765831144e4bd5a9a824f4c27f4",
            "a30594a7dd82491f88a4a07adad784bf",
            "aa1c4eab0ba44f548b847fd18278ab4a",
            "2ff5746f684544ebb5bdd73f4a5c8614",
            "ec002b9f49a1471fb1b951631f213e3d",
            "a3ac1c8494e24eeb8cc97f490d8b8c3a",
            "9a66b0df6bb340a7959199c12fa3d7a5",
            "6777a02fb3e4489994cb7a5966996fa2",
            "d3684c2c277e4db1b47ef4e8a7866f85"
          ]
        },
        "id": "bBEXoC1g9cNZ",
        "outputId": "83b005d3-62d1-4748-eeeb-889a27855907"
      },
      "execution_count": 248,
      "outputs": [
        {
          "output_type": "display_data",
          "data": {
            "text/plain": [
              "Backfitting:   0%|          | 0/200 [00:00<?, ?it/s]"
            ],
            "application/vnd.jupyter.widget-view+json": {
              "version_major": 2,
              "version_minor": 0,
              "model_id": "5fbacd72ef954fb6b8ac246e33942758"
            }
          },
          "metadata": {}
        },
        {
          "output_type": "execute_result",
          "data": {
            "text/plain": [
              "array([91., 91., 91., 91., 91., 91.])"
            ]
          },
          "metadata": {},
          "execution_count": 248
        }
      ]
    },
    {
      "cell_type": "code",
      "source": [
        "mgwr_results = MGWR(g_coords, g_y, g_X, mgwr_selector).fit()\n",
        "mgwr_results.summary()"
      ],
      "metadata": {
        "colab": {
          "base_uri": "https://localhost:8080/",
          "height": 1000,
          "referenced_widgets": [
            "2bce1f48eac3460d8204bcf2bf350371",
            "27653515a52f4be79ad694b4d750f325",
            "b5d6787c31184a6b8d29f492be579ab7",
            "99f4ac0ba696431eb668085aceabb6fa",
            "f7ae71b1a2c041b396b4d660ab072c65",
            "5727228767d74c7d82a32c5f4325b21b",
            "3b2e54f8f4f84dfebf7c372a1a031843",
            "6c543c93bf0a46589309b44f06140127",
            "c07370f706b64ea591b11a3178ed8147",
            "1396272fb12b4614a14453be30ba3f0b",
            "5e6af64c3f454d5c9aa56ae2c7c0b74b"
          ]
        },
        "id": "LBReRvos-R5M",
        "outputId": "30fb6cf0-7fd7-481b-8368-c5fe21609bfa"
      },
      "execution_count": 235,
      "outputs": [
        {
          "output_type": "display_data",
          "data": {
            "text/plain": [
              "Inference:   0%|          | 0/1 [00:00<?, ?it/s]"
            ],
            "application/vnd.jupyter.widget-view+json": {
              "version_major": 2,
              "version_minor": 0,
              "model_id": "2bce1f48eac3460d8204bcf2bf350371"
            }
          },
          "metadata": {}
        },
        {
          "output_type": "stream",
          "name": "stdout",
          "text": [
            "===========================================================================\n",
            "Model type                                                         Gaussian\n",
            "Number of observations:                                                 100\n",
            "Number of covariates:                                                     6\n",
            "\n",
            "Global Regression Results\n",
            "---------------------------------------------------------------------------\n",
            "Residual sum of squares:                                              6.629\n",
            "Log-likelihood:                                                      -6.209\n",
            "AIC:                                                                 24.418\n",
            "AICc:                                                                27.636\n",
            "BIC:                                                               -426.257\n",
            "R2:                                                                   0.934\n",
            "Adj. R2:                                                              0.930\n",
            "\n",
            "Variable                              Est.         SE  t(Est/SE)    p-value\n",
            "------------------------------- ---------- ---------- ---------- ----------\n",
            "X0                                   0.000      0.027      0.000      1.000\n",
            "X1                                   1.109      0.036     30.838      0.000\n",
            "X2                                   0.394      0.031     12.914      0.000\n",
            "X3                                  -0.213      0.030     -7.170      0.000\n",
            "X4                                  -0.228      0.035     -6.523      0.000\n",
            "X5                                   0.005      0.027      0.193      0.847\n",
            "\n",
            "Multi-Scale Geographically Weighted Regression (MGWR) Results\n",
            "---------------------------------------------------------------------------\n",
            "Spatial kernel:                                           Adaptive bisquare\n",
            "Criterion for optimal bandwidth:                                       AICc\n",
            "Score of Change (SOC) type:                                     Smoothing f\n",
            "Termination criterion for MGWR:                                       1e-05\n",
            "\n",
            "MGWR bandwidths\n",
            "---------------------------------------------------------------------------\n",
            "Variable             Bandwidth      ENP_j   Adj t-val(95%)   Adj alpha(95%)\n",
            "X0                      91.000      1.786            2.230            0.028\n",
            "X1                      91.000      1.814            2.237            0.028\n",
            "X2                      91.000      1.867            2.248            0.027\n",
            "X3                      91.000      1.871            2.249            0.027\n",
            "X4                      91.000      1.821            2.238            0.027\n",
            "X5                      91.000      2.031            2.282            0.025\n",
            "\n",
            "Diagnostic information\n",
            "---------------------------------------------------------------------------\n",
            "Residual sum of squares:                                              6.627\n",
            "Effective number of parameters (trace(S)):                           11.192\n",
            "Degree of freedom (n - trace(S)):                                    88.808\n",
            "Sigma estimate:                                                       0.273\n",
            "Log-likelihood:                                                      -6.195\n",
            "AIC:                                                                 36.775\n",
            "AICc:                                                                40.480\n",
            "BIC:                                                                 68.537\n",
            "R2                                                                    0.934\n",
            "Adjusted R2                                                           0.925\n",
            "\n",
            "Summary Statistics For MGWR Parameter Estimates\n",
            "---------------------------------------------------------------------------\n",
            "Variable                   Mean        STD        Min     Median        Max\n",
            "-------------------- ---------- ---------- ---------- ---------- ----------\n",
            "X0                        0.001      0.001     -0.001      0.001      0.001\n",
            "X1                        1.108      0.000      1.108      1.108      1.109\n",
            "X2                        0.394      0.000      0.394      0.394      0.394\n",
            "X3                       -0.213      0.000     -0.213     -0.213     -0.213\n",
            "X4                       -0.228      0.000     -0.228     -0.228     -0.228\n",
            "X5                        0.007      0.001      0.005      0.007      0.010\n",
            "===========================================================================\n",
            "\n"
          ]
        }
      ]
    },
    {
      "cell_type": "code",
      "source": [
        "mgwr_filtered_t = mgwr_results.filter_tvals()"
      ],
      "metadata": {
        "id": "GFLCR1c8C_Ly"
      },
      "execution_count": 236,
      "outputs": []
    },
    {
      "cell_type": "code",
      "source": [
        "def MGWR_plot(res_arg, var_ind_title):\n",
        "  fig, ax = plt.subplots(nrows=1, ncols=1, figsize=(15,7))\n",
        "  ax.set_title(var_ind_title + \"  \" + '(BW: ' + str(gwr_bw) +')', fontsize=12)\n",
        "\n",
        "  cmap = plt.cm.seismic\n",
        "\n",
        "  gwr_min = res_arg.min()\n",
        "  gwr_max = res_arg.max()\n",
        "  vmin = np.min([gwr_min])\n",
        "  vmax = np.max([gwr_max])\n",
        "\n",
        "  #If all values are negative use the negative half of the colormap\n",
        "  if (vmin < 0) & (vmax < 0):\n",
        "      cmap = truncate_colormap(cmap, 0.0, 0.5)\n",
        "  #If all values are positive use the positive half of the colormap\n",
        "  elif (vmin > 0) & (vmax > 0):\n",
        "      cmap = truncate_colormap(cmap, 0.5, 1.0)\n",
        "  #Otherwise, there are positive and negative values so the colormap so zero is the midpoint\n",
        "  else:\n",
        "      cmap = shift_colormap(cmap, start=0.0, midpoint=1 - vmax/(vmax + abs(vmin)), stop=1.)\n",
        "\n",
        "  sm = plt.cm.ScalarMappable(cmap=cmap, norm=plt.Normalize(vmin=vmin, vmax=vmax))\n",
        "  #NCR_geopckg.plot(cmap=sm.cmap, ax=ax, vmin=vmin, vmax=vmax, **{'edgecolor':'black', 'alpha':1})\n",
        "\n",
        "  #Plot MGWR parameters\n",
        "  NCR_geopckg.plot(cmap=sm.cmap, ax=ax, vmin=vmin, vmax=vmax, **{'edgecolor':'black', 'alpha':1})\n",
        "\n",
        "\n",
        "\n",
        "  fig.tight_layout()    \n",
        "  sm._A = []\n",
        "  cbar = fig.colorbar(sm)\n",
        "  cbar.ax.tick_params(labelsize=12) \n",
        "  ax.get_xaxis().set_visible(False)\n",
        "  ax.get_yaxis().set_visible(False)\n",
        "  plt.style.use('seaborn-pastel')\n",
        "  plt.show()"
      ],
      "metadata": {
        "id": "wUlQV1F994-R"
      },
      "execution_count": 243,
      "outputs": []
    },
    {
      "cell_type": "code",
      "source": [
        "MGWR_plot(gwr_results.params[:,0], \"Change in WS |\")\n",
        "MGWR_plot(gwr_results.params[:,1], \"Change in QV g/kg |\")\n",
        "MGWR_plot(gwr_results.params[:,2], \"Change in PS |\")\n",
        "MGWR_plot(gwr_results.params[:,3], \"Change in WS m/s |\")\n",
        "MGWR_plot(gwr_results.params[:,4], \"Change in PRECTOTCORR mm/hr |\")\n",
        "MGWR_plot(gwr_results.params[:,5], \"Change in Light pol |\")"
      ],
      "metadata": {
        "colab": {
          "base_uri": "https://localhost:8080/",
          "height": 1000
        },
        "id": "tDo2UYmIxeQG",
        "outputId": "97ceabe3-c4d4-4904-8f66-f6832d6e020d"
      },
      "execution_count": 244,
      "outputs": [
        {
          "output_type": "display_data",
          "data": {
            "text/plain": [
              "<Figure size 1080x504 with 2 Axes>"
            ],
            "image/png": "[encoded data removed]"
          },
          "metadata": {
            "needs_background": "light"
          }
        },
        {
          "output_type": "display_data",
          "data": {
            "text/plain": [
              "<Figure size 1080x504 with 2 Axes>"
            ],
            "image/png": "[encoded data removed]"
          },
          "metadata": {
            "needs_background": "light"
          }
        },
        {
          "output_type": "display_data",
          "data": {
            "text/plain": [
              "<Figure size 1080x504 with 2 Axes>"
            ],
            "image/png": "[encoded data removed]"
          },
          "metadata": {
            "needs_background": "light"
          }
        },
        {
          "output_type": "display_data",
          "data": {
            "text/plain": [
              "<Figure size 1080x504 with 2 Axes>"
            ],
            "image/png": "[encoded data removed]"
          },
          "metadata": {
            "needs_background": "light"
          }
        },
        {
          "output_type": "display_data",
          "data": {
            "text/plain": [
              "<Figure size 1080x504 with 2 Axes>"
            ],
            "image/png": "[encoded data removed]"
          },
          "metadata": {
            "needs_background": "light"
          }
        },
        {
          "output_type": "display_data",
          "data": {
            "text/plain": [
              "<Figure size 1080x504 with 2 Axes>"
            ],
            "image/png": "[encoded data removed]"
          },
          "metadata": {
            "needs_background": "light"
          }
        }
      ]
    },
    {
      "cell_type": "code",
      "source": [
        "def plot_MGWR_GWR(mgwr_res_arg, gwr_res_arg, mgwr_bw_ind, Title):\n",
        "  #Comparison maps of GWR vs. MGWR parameter surfaces where the grey units pertain to statistically insignificant parameters\n",
        "\n",
        "  #Prep plot and add axes\n",
        "  fig, axes = plt.subplots(nrows=1, ncols=2, figsize=(45,20))\n",
        "  ax0 = axes[0]\n",
        "  ax0.set_title( Title + '  GWR Intercept Surface (BW: ' + str(gwr_bw) +') ', fontsize=40)\n",
        "  ax1 = axes[1]\n",
        "  ax1.set_title(Title + '  MGWR Intercept Surface (BW: ' + str(mgwr_bw[mgwr_bw_ind]) +')', fontsize=40)\n",
        "\n",
        "  #Set color map\n",
        "  cmap = plt.cm.seismic\n",
        "\n",
        "  #Find min and max values of the two combined datasets\n",
        "  gwr_min = gwr_res_arg.min()\n",
        "  gwr_max = gwr_res_arg.max()\n",
        "  mgwr_min = mgwr_res_arg.min()\n",
        "  mgwr_max = mgwr_res_arg.max()\n",
        "  vmin = np.min([gwr_min, mgwr_min])\n",
        "  vmax = np.max([gwr_max, mgwr_max])\n",
        "\n",
        "  #If all values are negative use the negative half of the colormap\n",
        "  if (vmin < 0) & (vmax < 0):\n",
        "      cmap = truncate_colormap(cmap, 0.0, 0.5)\n",
        "  #If all values are positive use the positive half of the colormap\n",
        "  elif (vmin > 0) & (vmax > 0):\n",
        "      cmap = truncate_colormap(cmap, 0.5, 1.0)\n",
        "  #Otherwise, there are positive and negative values so the colormap so zero is the midpoint\n",
        "  else:\n",
        "      cmap = shift_colormap(cmap, start=0.0, midpoint=1 - vmax/(vmax + abs(vmin)), stop=1.)\n",
        "\n",
        "  #Create scalar mappable for colorbar and stretch colormap across range of data values\n",
        "  sm = plt.cm.ScalarMappable(cmap=cmap, norm=plt.Normalize(vmin=vmin, vmax=vmax))\n",
        "\n",
        "  #Plot GWR parameters\n",
        "  NCR_geopckg.plot(cmap=sm.cmap, ax=ax0, vmin=vmin, vmax=vmax, **{'edgecolor':'black', 'alpha':1})\n",
        "  #If there are insignificnt parameters plot gray polygons over them\n",
        "  #if (gwr_filtered_t[:,0] == 0).any():\n",
        "    #  NCR_geopckg[gwr_filtered_t[:,0] == 0].plot(color='lightgrey', ax=ax0, **{'edgecolor':'black'})\n",
        "\n",
        "  #Plot MGWR parameters\n",
        "  NCR_geopckg.plot(cmap=sm.cmap, ax=ax1, vmin=vmin, vmax=vmax, **{'edgecolor':'black', 'alpha':1})\n",
        "  #If there are insignificnt parameters plot gray polygons over them\n",
        "  #if (mgwr_filtered_t[:,0] == 0).any():\n",
        "   #   NCR_geopckg[mgwr_filtered_t[:,0] == 0].plot(color='lightgrey', ax=ax1, **{'edgecolor':'black'})\n",
        "  \n",
        "\n",
        "  #Set figure options and plot \n",
        "  fig.tight_layout()    \n",
        "  fig.subplots_adjust(right=0.9)\n",
        "  cax = fig.add_axes([0.92, 0.14, 0.03, 0.75])\n",
        "  sm._A = []\n",
        "  cbar = fig.colorbar(sm, cax=cax)\n",
        "  cbar.ax.tick_params(labelsize=50) \n",
        "  ax0.get_xaxis().set_visible(False)\n",
        "  ax0.get_yaxis().set_visible(False)\n",
        "  ax1.get_xaxis().set_visible(False)\n",
        "  ax1.get_yaxis().set_visible(False)\n",
        "  plt.show()"
      ],
      "metadata": {
        "id": "8tQabCDTAHjt"
      },
      "execution_count": 215,
      "outputs": []
    },
    {
      "cell_type": "code",
      "source": [
        "plot_MGWR_GWR(mgwr_results.params[:,0], gwr_results.params[:,0], 0, \"Change in specific humidity g/kg\")"
      ],
      "metadata": {
        "id": "3nmCWpAKB_cT"
      },
      "execution_count": null,
      "outputs": []
    },
    {
      "cell_type": "code",
      "source": [
        "plot_MGWR_GWR(mgwr_results.params[:,1], gwr_results.params[:,1], 1)"
      ],
      "metadata": {
        "id": "B05f-dfBDRws"
      },
      "execution_count": null,
      "outputs": []
    },
    {
      "cell_type": "code",
      "source": [
        "plot_MGWR_GWR(mgwr_results.params[:,2], gwr_results.params[:,2], 2)"
      ],
      "metadata": {
        "id": "5l6qiCl6DVCz"
      },
      "execution_count": null,
      "outputs": []
    },
    {
      "cell_type": "code",
      "source": [
        "plot_MGWR_GWR(mgwr_results.params[:,3], gwr_results.params[:,3], 3)"
      ],
      "metadata": {
        "id": "Hdh38z14Dgf4"
      },
      "execution_count": null,
      "outputs": []
    },
    {
      "cell_type": "code",
      "source": [
        "plot_MGWR_GWR(mgwr_results.params[:,4], gwr_results.params[:,4], 4)"
      ],
      "metadata": {
        "id": "ZE2gWioUDh9r"
      },
      "execution_count": null,
      "outputs": []
    },
    {
      "cell_type": "code",
      "source": [
        "plot_MGWR_GWR(mgwr_results.params[:,5], gwr_results.params[:,5], 5)"
      ],
      "metadata": {
        "colab": {
          "base_uri": "https://localhost:8080/",
          "height": 166
        },
        "id": "IgU7cDvADibU",
        "outputId": "39522c59-b515-47f1-e452-9f4440e60012"
      },
      "execution_count": 220,
      "outputs": [
        {
          "output_type": "error",
          "ename": "TypeError",
          "evalue": "ignored",
          "traceback": [
            "\u001b[0;31m---------------------------------------------------------------------------\u001b[0m",
            "\u001b[0;31mTypeError\u001b[0m                                 Traceback (most recent call last)",
            "\u001b[0;32m<ipython-input-220-a2b28fb5c940>\u001b[0m in \u001b[0;36m<module>\u001b[0;34m\u001b[0m\n\u001b[0;32m----> 1\u001b[0;31m \u001b[0mplot_MGWR_GWR\u001b[0m\u001b[0;34m(\u001b[0m\u001b[0mmgwr_results\u001b[0m\u001b[0;34m.\u001b[0m\u001b[0mparams\u001b[0m\u001b[0;34m[\u001b[0m\u001b[0;34m:\u001b[0m\u001b[0;34m,\u001b[0m\u001b[0;36m5\u001b[0m\u001b[0;34m]\u001b[0m\u001b[0;34m,\u001b[0m \u001b[0mgwr_results\u001b[0m\u001b[0;34m.\u001b[0m\u001b[0mparams\u001b[0m\u001b[0;34m[\u001b[0m\u001b[0;34m:\u001b[0m\u001b[0;34m,\u001b[0m\u001b[0;36m5\u001b[0m\u001b[0;34m]\u001b[0m\u001b[0;34m,\u001b[0m \u001b[0;36m5\u001b[0m\u001b[0;34m)\u001b[0m\u001b[0;34m\u001b[0m\u001b[0;34m\u001b[0m\u001b[0m\n\u001b[0m",
            "\u001b[0;31mTypeError\u001b[0m: plot_MGWR_GWR() missing 1 required positional argument: 'Title'"
          ]
        }
      ]
    }
  ]
}