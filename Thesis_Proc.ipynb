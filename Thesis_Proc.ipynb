{
  "nbformat": 4,
  "nbformat_minor": 0,
  "metadata": {
    "colab": {
      "provenance": [],
      "collapsed_sections": [],
      "authorship_tag": "ABX9TyNH8bePbiqPlXwHsuh7bSgl",
      "include_colab_link": true
    },
    "kernelspec": {
      "name": "python3",
      "display_name": "Python 3"
    },
    "language_info": {
      "name": "python"
    }
  },
  "cells": [
    {
      "cell_type": "markdown",
      "metadata": {
        "id": "view-in-github",
        "colab_type": "text"
      },
      "source": [
        "<a href=\"https://colab.research.google.com/github/callmemark/Correlation-of-Night-Air-Temperature-and-light-pollution-in-major-cities-in-the-Philippines/blob/main/Thesis_Proc.ipynb\" target=\"_parent\"><img src=\"https://colab.research.google.com/assets/colab-badge.svg\" alt=\"Open In Colab\"/></a>"
      ]
    },
    {
      "cell_type": "markdown",
      "source": [
        "<h1> Correlation of Night Air Temperature and light pollution in major cities in the Philippines </h1>\n",
        "\n",
        "\n",
        "---\n",
        "</br></br>\n",
        "\n",
        "\n",
        "\n",
        "\n",
        "> Fernandez, Jaron Rix\n",
        "</br>\n",
        "Velmonte, Mark john A.\n",
        "\n",
        "\n",
        "\n",
        "\n",
        "\n",
        "\n",
        "\n"
      ],
      "metadata": {
        "id": "RABrvrp2qX4p"
      }
    },
    {
      "cell_type": "markdown",
      "source": [
        "<h1>Preperation 1: Install Libraries</h1>\n",
        "\n",
        "> Install neccesary libraries"
      ],
      "metadata": {
        "id": "Sy9S6BtAqfyX"
      }
    },
    {
      "cell_type": "code",
      "source": [
        "# Install GDAL and Geopandas\n",
        "!apt install gdal-bin python-gdal python3-gdal --quiet\n",
        "!apt install python3-rtree --quiet\n",
        "!pip install --upgrade pip --quiet\n",
        "!pip install git+git://github.com/geopandas/geopandas.git --quiet\n",
        "!pip install descartes --quiet\n",
        "!pip install ipywidgets --quiet\n",
        "\n",
        "# Install other libraries\n",
        "!pip install splot --quiet\n",
        "!pip install -U mgwr --quiet\n",
        "\n",
        "#!pip freeze"
      ],
      "metadata": {
        "id": "LdXV1hAsnuyB"
      },
      "execution_count": null,
      "outputs": []
    },
    {
      "cell_type": "markdown",
      "source": [
        "<h1>Preperation 2: Import Libraries</h1>\n",
        "\n",
        "> after installation we procced to import the libraries"
      ],
      "metadata": {
        "id": "YJrBnv2Zqszf"
      }
    },
    {
      "cell_type": "code",
      "execution_count": 3,
      "metadata": {
        "id": "9oawj62ciWQo"
      },
      "outputs": [],
      "source": [
        "#import libraries\n",
        "\n",
        "import numpy as np\n",
        "import pandas as pd\n",
        "import geopandas as gpd\n",
        "import seaborn as sns\n",
        "import matplotlib.pyplot as plt\n",
        "import matplotlib as mpl\n",
        "import libpysal as ps\n",
        "from mgwr.gwr import GWR, MGWR\n",
        "from mgwr.sel_bw import Sel_BW\n",
        "from mgwr.utils import shift_colormap, truncate_colormap\n",
        "from google.colab import drive\n",
        "from os import path, getcwd\n",
        "import itertools\n",
        "from sklearn.model_selection import train_test_split\n",
        "from sklearn.linear_model import LinearRegression"
      ]
    },
    {
      "cell_type": "markdown",
      "source": [
        "<h1> Preperation 3: Moun Drive </h1>\n",
        "\n",
        "> To access data from google drive, We need to give permission to mount the drive and gain access to folders and files"
      ],
      "metadata": {
        "id": "XiqsCfH7q9Bn"
      }
    },
    {
      "cell_type": "code",
      "source": [
        "#mount the google drive used\n",
        "from google.colab import drive\n",
        "drive.mount('/content/drive')"
      ],
      "metadata": {
        "id": "2DUnJhipl4Jq",
        "colab": {
          "base_uri": "https://localhost:8080/"
        },
        "outputId": "b1c025f5-d3ae-43bb-add7-a75099c2ad6f"
      },
      "execution_count": 4,
      "outputs": [
        {
          "output_type": "stream",
          "name": "stdout",
          "text": [
            "Mounted at /content/drive\n"
          ]
        }
      ]
    },
    {
      "cell_type": "markdown",
      "source": [
        "<h1>Preperation 4: File Reference </h1>\n",
        "\n",
        "> Create a dictionary to use for file path reference and for process automation"
      ],
      "metadata": {
        "id": "_IWQb6eara_5"
      }
    },
    {
      "cell_type": "code",
      "source": [
        "GPKG_DATASET_DIRECTORY = \"/content/drive/My Drive/COLLEGE_THESIS_FOLDER/GPKG_FILES/\"\n",
        "\n",
        "\n",
        "gpkg_files_dict = {\n",
        "    \"Manila_City\" : \"Manila_City.gpkg\",\n",
        "    \"Taguig_City\" : \"Taguig_City.gpkg\",\n",
        "    \"Pasig_City\" : \"Pasig_City.gpkg\",\n",
        "    \"Paranaque_City\" : \"Paranaque_City.gpkg\",\n",
        "    \"Makati_City\" : \"Makati_City.gpkg\",\n",
        "    \"LasPinas_City\" : \"LasPinas_City.gpkg\",\n",
        "    \"Muntinlupa_City\" : \"Muntinlupa_City.gpkg\",\n",
        "    \"Pasay_City\" : \"Pasay_City.gpkg\",\n",
        "    \"Malabon_City\" : \"Malabon_City.gpkg\",\n",
        "    \"Butuan_City\" : \"Butuan_City.gpkg\",\n",
        "    \"NCR\" : \"NCR_region.gpkg\"\n",
        "    \n",
        "}\n",
        "\n",
        "\n",
        "\n",
        "DATASET_DIRECTORY = \"/content/drive/My Drive/COLLEGE_THESIS_FOLDER/DataSet/CSV_climactic_factors_dataset/\"\n",
        "\n",
        "CITY_NAME_2011_2020= [\n",
        "    \"Manila_City_2011-2020\",\n",
        "    \"Taguig_City_2011-2020\",\n",
        "    \"Pasig_City_2011-2020\",\n",
        "    \"Paranaque_City_2011-2020\",\n",
        "    \"Makati_City_2011-2020\",\n",
        "    \"Las Pinas_City_2011-2020\",\n",
        "    \"Muntinlupa_City_2011-2020\",\n",
        "    \"Pasay_City_2011-2020\",\n",
        "    \"Malabon_City_2011-2020\",\n",
        "    \"Bututan_City_2011-2020\"\n",
        "]\n",
        "\n",
        "CITY_NAME_2010_2010= [\n",
        "    \"Manila_City_2010-2010\",\n",
        "    \"Taguig_City_2010-2010\",\n",
        "    \"Pasig_City_2010-2010\",\n",
        "    \"Paranaque_City_2010-2010\",\n",
        "    \"Makati_City_2010-2010\",\n",
        "    \"Las Pinas_City_2011-2020\",\n",
        "    \"Muntinlupa_City_2010-2010\",\n",
        "    \"Pasay_City_2010-2010\",\n",
        "    \"Malabon_City_2010-2010\",\n",
        "    \"Bututan_City_2010-2010\"\n",
        "]\n",
        "\n",
        "LIGHTPOL_DIRECTORY = \"/content/drive/My Drive/COLLEGE_THESIS_FOLDER/DataSet/Light_pol_data/\""
      ],
      "metadata": {
        "id": "cyo_qF39lvu_"
      },
      "execution_count": 5,
      "outputs": []
    },
    {
      "cell_type": "code",
      "source": [
        "y_ext = [\"2012\", \"2013\", \"2014\", \"2015\", \"2016\", \"2017\", \"2018\", \"2019\", \"2020\"]\n",
        "lpol_cname = [\n",
        "  \"manila_lpol_data_\",\n",
        "  \"taguig_lpol_data_\",\n",
        "  \"pasig_lpol_data_\",\n",
        "  \"paranaque_lpol_data_\",\n",
        "  \"makati_lpol_data_\",\n",
        "  \"laspinas_lpol_data_\",\n",
        "  \"muntinlupa_lpol_data_\",\n",
        "  \"pasay_lpol_data_\",\n",
        "  \"malabon_lpol_data_\",\n",
        "  \"buttuan_lpol_data_\",\n",
        "]\n",
        "\n",
        "dict_keys = ['Manila_City', 'Taguig_City', 'Pasig_City', 'Paranaque_City', 'Makati_City', 'Las Pinas_City', 'Muntinlupa_City', 'Pasay_City', 'Malabon_City', 'Bututan_City']\n",
        "lpol_data_dict = {}\n",
        "\n",
        "\n",
        "for _index in range(len(lpol_cname)):\n",
        "  _avg_init_list = []\n",
        "  for _year in y_ext:\n",
        "    fname = lpol_cname[_index] + _year\n",
        "\n",
        "    avg_val = np.average(np.array(pd.read_csv(LIGHTPOL_DIRECTORY + fname + \".csv\", skiprows = 1))) # open csv || skip headder >> convert to numpy >> get avg\n",
        "    _avg_init_list.append(avg_val)\n",
        "\n",
        "  lpol_data_dict[dict_keys[_index]] = _avg_init_list\n",
        "  print(dict_keys[_index], \" Data Process complete\")\n",
        "\n",
        "lpol_data_df = pd.DataFrame(lpol_data_dict)"
      ],
      "metadata": {
        "colab": {
          "base_uri": "https://localhost:8080/"
        },
        "id": "u_piBR72dTBA",
        "outputId": "9d912225-f591-4762-c781-e082ef0083a9"
      },
      "execution_count": 56,
      "outputs": [
        {
          "output_type": "stream",
          "name": "stdout",
          "text": [
            "Manila_City  Data Process complete\n",
            "Taguig_City  Data Process complete\n",
            "Pasig_City  Data Process complete\n",
            "Paranaque_City  Data Process complete\n",
            "Makati_City  Data Process complete\n",
            "Las Pinas_City  Data Process complete\n",
            "Muntinlupa_City  Data Process complete\n",
            "Pasay_City  Data Process complete\n",
            "Malabon_City  Data Process complete\n",
            "Bututan_City  Data Process complete\n"
          ]
        }
      ]
    },
    {
      "cell_type": "markdown",
      "source": [
        "<h1>Preperation 5: Helper Function / Classes</h1>\n",
        "\n",
        "> We created functions and classes for process that we know we will repeat \n",
        "<br>\n",
        "> For modularity we adapt object oriented programming paradigm\n"
      ],
      "metadata": {
        "id": "XURlSmJjr3z9"
      }
    },
    {
      "cell_type": "code",
      "source": [
        "# Helper functions and Classes\n",
        "# from t-19 to t-4\n",
        "\n",
        "\n",
        "def get_gpk_fpath(city_name_arg = str):\n",
        "  try:\n",
        "    return GPKG_DATASET_DIRECTORY + gpkg_files_dict[city_name_arg]\n",
        "  except:\n",
        "    raise Exception(\"error in get_gpk_fpath func | No City in dataset\")\n",
        "    \n",
        "\n",
        "def get_file_path(city_name_arg):\n",
        "  _fstr = DATASET_DIRECTORY + city_name_arg + \".csv\"\n",
        "  return _fstr\n",
        "\n",
        "def read_and_comb_dataset(ds_n1 = str, ds_n2 = str, row_skip = 13):\n",
        "  df_n1 = filter_data(pd.read_csv(ds_n1, skiprows=row_skip))\n",
        "  df_n2 = filter_data(pd.read_csv(ds_n2, skiprows=row_skip))\n",
        "\n",
        "  df_concat = [df_n1, df_n2]\n",
        "  return pd.concat(df_concat)\n",
        "\n",
        "\n",
        "def filter_data(data_frame_arg):\n",
        "  modif_df = data_frame_arg\n",
        "  year_in_data = np.array(data_frame_arg[\"YEAR\"])\n",
        "\n",
        "  if 2011 in year_in_data and 2010 in year_in_data:\n",
        "    modif_df = data_frame_arg.drop(data_frame_arg[data_frame_arg[\"YEAR\"] == 2011].index)\n",
        "    #print(\"Removed 2011\", 2010 in year_in_data)\n",
        "\n",
        "  elif 2010 in year_in_data and 2020 in year_in_data:\n",
        "    modif_df = data_frame_arg.drop(data_frame_arg[data_frame_arg[\"YEAR\"] == 2010].index)\n",
        "    #print(\"Removed 2010\")\n",
        "\n",
        "  elif 2021 in year_in_data and 2020 in year_in_data:\n",
        "    modif_df = data_frame_arg.drop(data_frame_arg[data_frame_arg[\"YEAR\"] == 2021].index)\n",
        "    #print(\"Removed 2021\")\n",
        "  \n",
        "  return modif_df\n",
        "\n",
        "\n",
        "\n",
        "class ProcessMMreg():\n",
        "  def __init__(self, City_Data, y_val_arg = \"T2M\"):\n",
        "    self.city_data = City_Data\n",
        "    self.y_val = y_val_arg\n",
        "\n",
        "    self.city_df = pd.DataFrame(self.city_data)\n",
        "\n",
        "    self.x = self.city_df.drop(columns = self.y_val)\n",
        "    self.y = self.city_df[self.y_val]\n",
        "\n",
        "    self.lr_model = LinearRegression()\n",
        "\n",
        "  def run_standard_proc(self):\n",
        "    self.split_train_test_data()\n",
        "    self.fit_model()\n",
        "    self.predict_data()\n",
        "    self.get_prediction_plot()\n",
        "\n",
        "  def split_train_test_data(self):\n",
        "    self.X_train, self.X_test, self.y_train, self.y_test = train_test_split(self.x, self.y, test_size = 0.3, random_state = 0)\n",
        "    \n",
        "  def fit_model(self):\n",
        "    self.lr_model.fit(self.X_train, self.y_train)\n",
        "  \n",
        "  def predict_data(self):\n",
        "    self.y_pred_train = self.lr_model.predict(self.X_train)\n",
        "\n",
        "  def get_prediction_plot(self):\n",
        "    plt.scatter(self.y_train, self.y_pred_train)\n",
        "    #plt.xticks(self.y_pred_train)\n",
        "    #plt.yticks(self.y_train)\n",
        "    plt.show()"
      ],
      "metadata": {
        "id": "Bg4kUtWzpXys"
      },
      "execution_count": 54,
      "outputs": []
    },
    {
      "cell_type": "markdown",
      "source": [
        "<h1>Procedure 1: Prepare Data</h1>\n",
        "\n",
        "In this Section we prepare the data by filtering and selecting data that is neccesary to the research"
      ],
      "metadata": {
        "id": "8rC0oguPp2SC"
      }
    },
    {
      "cell_type": "code",
      "source": [
        "# create a empty dictionary\n",
        "nt_city_df_dict = {}\n",
        "\n",
        "# loop through the list\n",
        "for tf1, tf2 in zip(CITY_NAME_2010_2010, CITY_NAME_2011_2020):\n",
        "  # creating str | expected result ex. Manila_City\n",
        "  tf1_name = tf1.split(\"_\")[0] + \"_\" + tf1.split(\"_\")[1]\n",
        "  tf2_name = tf2.split(\"_\")[0] + \"_\" + tf2.split(\"_\")[1]\n",
        "\n",
        "  # check if combining data from the same city\n",
        "  if tf1_name == tf2_name:\n",
        "    dict_key = tf1_name\n",
        "    # combine data from 2010-2020\n",
        "    comb_df = read_and_comb_dataset(get_file_path(str(tf1)), get_file_path(str(tf2)))\n",
        "\n",
        "    # filter data from t-19 to t-04\n",
        "    nightime_data = comb_df.loc[(comb_df[\"HR\"] <= 4) | (comb_df[\"HR\"] >= 19)]\n",
        "\n",
        "    # create new dictinary item and add new data\n",
        "    nt_city_df_dict[dict_key] = nightime_data\n",
        "\n",
        "  # raise custom error if data are from different city\n",
        "  elif tf1_name != tf2_name:\n",
        "    raise Exception(\"Error: City Names did not match | cannot proceed\")\n",
        "\n",
        "print(nt_city_df_dict.keys())"
      ],
      "metadata": {
        "colab": {
          "base_uri": "https://localhost:8080/"
        },
        "id": "Pu1kWyc6pas5",
        "outputId": "c9d104f0-cb7f-4fa8-ee0a-a335f035043f"
      },
      "execution_count": 35,
      "outputs": [
        {
          "output_type": "stream",
          "name": "stdout",
          "text": [
            "dict_keys(['Manila_City', 'Taguig_City', 'Pasig_City', 'Paranaque_City', 'Makati_City', 'Las Pinas_City', 'Muntinlupa_City', 'Pasay_City', 'Malabon_City', 'Bututan_City'])\n"
          ]
        }
      ]
    },
    {
      "cell_type": "code",
      "source": [
        "# year 2011-2020\n",
        "year_range = [i for i in range(2010, 2021)]\n",
        "# climactic factors\n",
        "df_params = [\"PS\", \"T2M\", \"QV2M\", \"WS10M\", \"PRECTOTCORR\"]\n",
        "\n",
        "# initialize empty dictionary\n",
        "cities_yparam_avg_val = {}\n",
        "\n",
        "# loop through the cities \n",
        "for city_fname in CITY_NAME_2011_2020: # or CITY_NAME_2010_2010 || Same value\n",
        "  city_dict_key = city_fname.split(\"_\")[0] + \"_\" + city_fname.split(\"_\")[1]\n",
        "  cities_yparam_avg_val[city_dict_key] = {}\n",
        "  \n",
        "  # loop through the climatic factors\n",
        "  for param_name in df_params:\n",
        "    # initialize new empty list every iteration\n",
        "    initial_param_avg_list = []\n",
        "\n",
        "    # loop through the year\n",
        "    for _year in year_range:\n",
        "      # get the average value of the current iterated climatic factor\n",
        "      param_avg_val = np.average(np.array(nt_city_df_dict[city_dict_key].loc[nt_city_df_dict[city_dict_key][\"YEAR\"] == _year][param_name]))\n",
        "      # appent to empty list\n",
        "      initial_param_avg_list.append(param_avg_val)\n",
        "      # add new dictionary key and its value\n",
        "      cities_yparam_avg_val[city_dict_key][param_name] = np.array(initial_param_avg_list)\n",
        "\n",
        "\n",
        "\n",
        "print(cities_yparam_avg_val.keys())"
      ],
      "metadata": {
        "id": "sSrV2XzfpdVG",
        "colab": {
          "base_uri": "https://localhost:8080/"
        },
        "outputId": "ff6567ae-b161-4ee4-f632-04d96be71ded"
      },
      "execution_count": 36,
      "outputs": [
        {
          "output_type": "stream",
          "name": "stdout",
          "text": [
            "dict_keys(['Manila_City', 'Taguig_City', 'Pasig_City', 'Paranaque_City', 'Makati_City', 'Las Pinas_City', 'Muntinlupa_City', 'Pasay_City', 'Malabon_City', 'Bututan_City'])\n"
          ]
        },
        {
          "output_type": "stream",
          "name": "stderr",
          "text": [
            "/usr/local/lib/python3.7/dist-packages/numpy/lib/function_base.py:380: RuntimeWarning: Mean of empty slice.\n",
            "  avg = a.mean(axis)\n",
            "/usr/local/lib/python3.7/dist-packages/numpy/core/_methods.py:189: RuntimeWarning: invalid value encountered in double_scalars\n",
            "  ret = ret.dtype.type(ret / rcount)\n"
          ]
        }
      ]
    },
    {
      "cell_type": "code",
      "source": [
        "months = [i for i in range(1,13)]\n",
        "cities_yparam_avg_val_month = {}\n",
        "months \n",
        "for city_fname in CITY_NAME_2011_2020: # or CITY_NAME_2010_2010 || Same value\n",
        "  city_dict_key = city_fname.split(\"_\")[0] + \"_\" + city_fname.split(\"_\")[1]\n",
        "  cities_yparam_avg_val_month[city_dict_key] = {}\n",
        "  \n",
        "  # loop through the climatic factors\n",
        "  for param_name in df_params:\n",
        "    # initialize new empty list every iteration\n",
        "    initial_param_avg_list = []\n",
        "\n",
        "    # loop through the year\n",
        "    for _year in year_range:\n",
        "      # get the average value of the current iterated climatic factor\n",
        "      # add new dictionary key and its value\n",
        "      \n",
        "      for month in months:\n",
        "        param_avg_val_month = np.average(np.array(nt_city_df_dict[city_dict_key].loc[nt_city_df_dict[city_dict_key][\"MO\"] == _year][param_name]))\n",
        "        initial_param_avg_list.append(param_avg_val)\n",
        "        cities_yparam_avg_val_month[city_dict_key][param_name] = np.array(initial_param_avg_list)\n",
        "\n",
        "\n",
        "\n",
        "\n",
        "print(cities_yparam_avg_val_month.keys())"
      ],
      "metadata": {
        "colab": {
          "base_uri": "https://localhost:8080/"
        },
        "id": "oaUvO1IEpQdO",
        "outputId": "39f8cf8d-6b21-4d07-86e8-f36bdf881328"
      },
      "execution_count": 37,
      "outputs": [
        {
          "output_type": "stream",
          "name": "stdout",
          "text": [
            "dict_keys(['Manila_City', 'Taguig_City', 'Pasig_City', 'Paranaque_City', 'Makati_City', 'Las Pinas_City', 'Muntinlupa_City', 'Pasay_City', 'Malabon_City', 'Bututan_City'])\n"
          ]
        }
      ]
    },
    {
      "cell_type": "code",
      "source": [
        "Paranaque = pd.DataFrame(cities_yparam_avg_val[\"Paranaque_City\"])\n",
        "butuan_df = pd.DataFrame(cities_yparam_avg_val[\"Bututan_City\"])\n",
        "taguig_df = pd.DataFrame(cities_yparam_avg_val[\"Taguig_City\"])\n",
        "makati_df = pd.DataFrame(cities_yparam_avg_val[\"Makati_City\"])\n",
        "muntinlupa_df = pd.DataFrame(cities_yparam_avg_val[\"Muntinlupa_City\"])\n",
        "Manila_df = pd.DataFrame(cities_yparam_avg_val[\"Manila_City\"])\n",
        "Pasig_df = pd.DataFrame(cities_yparam_avg_val[\"Pasig_City\"])\n",
        "Las_Pinas_df = pd.DataFrame(cities_yparam_avg_val[\"Las Pinas_City\"])\n",
        "Pasay_df = pd.DataFrame(cities_yparam_avg_val[\"Pasay_City\"])\n",
        "Malabon_df = pd.DataFrame(cities_yparam_avg_val[\"Malabon_City\"])\n",
        "\n",
        "\n",
        "\n",
        "\n",
        "\n",
        "#NCR_geopckg.plot(ax=ax, **{'edgecolor':'black', 'facecolor':'white'})\n",
        "#NCR_geopckg.centroid.plot(ax=ax, c='black')\n"
      ],
      "metadata": {
        "id": "5dhQ5NN16Hui"
      },
      "execution_count": 38,
      "outputs": []
    },
    {
      "cell_type": "code",
      "source": [
        "# (long, lat)\n",
        "c1_coord = [(121.0198, 14.4793)] * 11\n",
        "c2_coord = [(121.0198, 14.4793)] * 11\n",
        "c3_coord = [(121.0509, 14.5176)] * 11\n",
        "c4_coord = [(121.0244, 14.5547)] * 11\n",
        "c5_coord = [(121.0415, 14.4081)] * 11\n",
        "c6_coord = [(121.0244, 14.5547)] * 11\n",
        "c7_coord = [(121.0244, 14.5547)] * 11\n",
        "c8_coord = [(121.0415, 14.4081)] * 11\n",
        "c9_coord = [(121.0244, 14.5547)] * 11\n",
        "c0_coord = [(121.0244, 14.5547)] * 11\n",
        "\n",
        "\n",
        "g_coords = c1_coord + c2_coord + c3_coord + c4_coord + c5_coord + c6_coord + c7_coord + c8_coord + c9_coord + c0_coord\n",
        "cities_df = [Paranaque, butuan_df, taguig_df, makati_df, muntinlupa_df, Manila_df, Pasig_df, Pasay_df, Malabon_df, Las_Pinas_df]\n",
        "lpol_data = [\n",
        "    lpol_data_df[\"Manila_City\"],\n",
        "    lpol_data_df[\"Taguig_City\"],\n",
        "    lpol_data_df[\"Pasig_City\"],\n",
        "    lpol_data_df[\"Paranaque_City\"],\n",
        "    lpol_data_df[\"Las Pinas_City\"],\n",
        "    lpol_data_df[\"Muntinlupa_City\"],\n",
        "    lpol_data_df[\"Pasay_City\"],\n",
        "    lpol_data_df[\"Malabon_City\"],\n",
        "    lpol_data_df[\"Bututan_City\"],\n",
        "]\n",
        "\n",
        "\n",
        "NCR_geopckg = get_gpk_fpath(\"NCR\")\n",
        "NCR_geopckg = gpd.read_file(NCR_geopckg)\n",
        "\n",
        "lpol_df_data = pd.concat(lpol_data)\n",
        "cities_df = pd.concat(cities_df)\n",
        "\n",
        "\n",
        "cities_df[\"LongLat\"] = g_coords\n",
        "cities_df[\"lpol_avg\"] = lpol_df_data"
      ],
      "metadata": {
        "id": "zLkJxa1TnoAo",
        "colab": {
          "base_uri": "https://localhost:8080/",
          "height": 346
        },
        "outputId": "1e74332e-0353-4608-fec7-ef180d27553d"
      },
      "execution_count": 62,
      "outputs": [
        {
          "output_type": "error",
          "ename": "ValueError",
          "evalue": "ignored",
          "traceback": [
            "\u001b[0;31m---------------------------------------------------------------------------\u001b[0m",
            "\u001b[0;31mValueError\u001b[0m                                Traceback (most recent call last)",
            "\u001b[0;32m<ipython-input-62-2241564010e0>\u001b[0m in \u001b[0;36m<module>\u001b[0;34m\u001b[0m\n\u001b[1;32m     35\u001b[0m \u001b[0;34m\u001b[0m\u001b[0m\n\u001b[1;32m     36\u001b[0m \u001b[0mcities_df\u001b[0m\u001b[0;34m[\u001b[0m\u001b[0;34m\"LongLat\"\u001b[0m\u001b[0;34m]\u001b[0m \u001b[0;34m=\u001b[0m \u001b[0mg_coords\u001b[0m\u001b[0;34m\u001b[0m\u001b[0;34m\u001b[0m\u001b[0m\n\u001b[0;32m---> 37\u001b[0;31m \u001b[0mcities_df\u001b[0m\u001b[0;34m[\u001b[0m\u001b[0;34m\"lpol_avg\"\u001b[0m\u001b[0;34m]\u001b[0m \u001b[0;34m=\u001b[0m \u001b[0mlpol_df_data\u001b[0m\u001b[0;34m\u001b[0m\u001b[0;34m\u001b[0m\u001b[0m\n\u001b[0m",
            "\u001b[0;32m/usr/local/lib/python3.7/dist-packages/pandas/core/frame.py\u001b[0m in \u001b[0;36m__setitem__\u001b[0;34m(self, key, value)\u001b[0m\n\u001b[1;32m   3610\u001b[0m         \u001b[0;32melse\u001b[0m\u001b[0;34m:\u001b[0m\u001b[0;34m\u001b[0m\u001b[0;34m\u001b[0m\u001b[0m\n\u001b[1;32m   3611\u001b[0m             \u001b[0;31m# set column\u001b[0m\u001b[0;34m\u001b[0m\u001b[0;34m\u001b[0m\u001b[0;34m\u001b[0m\u001b[0m\n\u001b[0;32m-> 3612\u001b[0;31m             \u001b[0mself\u001b[0m\u001b[0;34m.\u001b[0m\u001b[0m_set_item\u001b[0m\u001b[0;34m(\u001b[0m\u001b[0mkey\u001b[0m\u001b[0;34m,\u001b[0m \u001b[0mvalue\u001b[0m\u001b[0;34m)\u001b[0m\u001b[0;34m\u001b[0m\u001b[0;34m\u001b[0m\u001b[0m\n\u001b[0m\u001b[1;32m   3613\u001b[0m \u001b[0;34m\u001b[0m\u001b[0m\n\u001b[1;32m   3614\u001b[0m     \u001b[0;32mdef\u001b[0m \u001b[0m_setitem_slice\u001b[0m\u001b[0;34m(\u001b[0m\u001b[0mself\u001b[0m\u001b[0;34m,\u001b[0m \u001b[0mkey\u001b[0m\u001b[0;34m:\u001b[0m \u001b[0mslice\u001b[0m\u001b[0;34m,\u001b[0m \u001b[0mvalue\u001b[0m\u001b[0;34m)\u001b[0m\u001b[0;34m:\u001b[0m\u001b[0;34m\u001b[0m\u001b[0;34m\u001b[0m\u001b[0m\n",
            "\u001b[0;32m/usr/local/lib/python3.7/dist-packages/pandas/core/frame.py\u001b[0m in \u001b[0;36m_set_item\u001b[0;34m(self, key, value)\u001b[0m\n\u001b[1;32m   3782\u001b[0m         \u001b[0mensure\u001b[0m \u001b[0mhomogeneity\u001b[0m\u001b[0;34m.\u001b[0m\u001b[0;34m\u001b[0m\u001b[0;34m\u001b[0m\u001b[0m\n\u001b[1;32m   3783\u001b[0m         \"\"\"\n\u001b[0;32m-> 3784\u001b[0;31m         \u001b[0mvalue\u001b[0m \u001b[0;34m=\u001b[0m \u001b[0mself\u001b[0m\u001b[0;34m.\u001b[0m\u001b[0m_sanitize_column\u001b[0m\u001b[0;34m(\u001b[0m\u001b[0mvalue\u001b[0m\u001b[0;34m)\u001b[0m\u001b[0;34m\u001b[0m\u001b[0;34m\u001b[0m\u001b[0m\n\u001b[0m\u001b[1;32m   3785\u001b[0m \u001b[0;34m\u001b[0m\u001b[0m\n\u001b[1;32m   3786\u001b[0m         if (\n",
            "\u001b[0;32m/usr/local/lib/python3.7/dist-packages/pandas/core/frame.py\u001b[0m in \u001b[0;36m_sanitize_column\u001b[0;34m(self, value)\u001b[0m\n\u001b[1;32m   4504\u001b[0m         \u001b[0;31m# We should never get here with DataFrame value\u001b[0m\u001b[0;34m\u001b[0m\u001b[0;34m\u001b[0m\u001b[0;34m\u001b[0m\u001b[0m\n\u001b[1;32m   4505\u001b[0m         \u001b[0;32mif\u001b[0m \u001b[0misinstance\u001b[0m\u001b[0;34m(\u001b[0m\u001b[0mvalue\u001b[0m\u001b[0;34m,\u001b[0m \u001b[0mSeries\u001b[0m\u001b[0;34m)\u001b[0m\u001b[0;34m:\u001b[0m\u001b[0;34m\u001b[0m\u001b[0;34m\u001b[0m\u001b[0m\n\u001b[0;32m-> 4506\u001b[0;31m             \u001b[0;32mreturn\u001b[0m \u001b[0m_reindex_for_setitem\u001b[0m\u001b[0;34m(\u001b[0m\u001b[0mvalue\u001b[0m\u001b[0;34m,\u001b[0m \u001b[0mself\u001b[0m\u001b[0;34m.\u001b[0m\u001b[0mindex\u001b[0m\u001b[0;34m)\u001b[0m\u001b[0;34m\u001b[0m\u001b[0;34m\u001b[0m\u001b[0m\n\u001b[0m\u001b[1;32m   4507\u001b[0m \u001b[0;34m\u001b[0m\u001b[0m\n\u001b[1;32m   4508\u001b[0m         \u001b[0;32mif\u001b[0m \u001b[0mis_list_like\u001b[0m\u001b[0;34m(\u001b[0m\u001b[0mvalue\u001b[0m\u001b[0;34m)\u001b[0m\u001b[0;34m:\u001b[0m\u001b[0;34m\u001b[0m\u001b[0;34m\u001b[0m\u001b[0m\n",
            "\u001b[0;32m/usr/local/lib/python3.7/dist-packages/pandas/core/frame.py\u001b[0m in \u001b[0;36m_reindex_for_setitem\u001b[0;34m(value, index)\u001b[0m\n\u001b[1;32m  10778\u001b[0m         \u001b[0;32mif\u001b[0m \u001b[0;32mnot\u001b[0m \u001b[0mvalue\u001b[0m\u001b[0;34m.\u001b[0m\u001b[0mindex\u001b[0m\u001b[0;34m.\u001b[0m\u001b[0mis_unique\u001b[0m\u001b[0;34m:\u001b[0m\u001b[0;34m\u001b[0m\u001b[0;34m\u001b[0m\u001b[0m\n\u001b[1;32m  10779\u001b[0m             \u001b[0;31m# duplicate axis\u001b[0m\u001b[0;34m\u001b[0m\u001b[0;34m\u001b[0m\u001b[0;34m\u001b[0m\u001b[0m\n\u001b[0;32m> 10780\u001b[0;31m             \u001b[0;32mraise\u001b[0m \u001b[0merr\u001b[0m\u001b[0;34m\u001b[0m\u001b[0;34m\u001b[0m\u001b[0m\n\u001b[0m\u001b[1;32m  10781\u001b[0m \u001b[0;34m\u001b[0m\u001b[0m\n\u001b[1;32m  10782\u001b[0m         raise TypeError(\n",
            "\u001b[0;32m/usr/local/lib/python3.7/dist-packages/pandas/core/frame.py\u001b[0m in \u001b[0;36m_reindex_for_setitem\u001b[0;34m(value, index)\u001b[0m\n\u001b[1;32m  10773\u001b[0m     \u001b[0;31m# GH#4107\u001b[0m\u001b[0;34m\u001b[0m\u001b[0;34m\u001b[0m\u001b[0;34m\u001b[0m\u001b[0m\n\u001b[1;32m  10774\u001b[0m     \u001b[0;32mtry\u001b[0m\u001b[0;34m:\u001b[0m\u001b[0;34m\u001b[0m\u001b[0;34m\u001b[0m\u001b[0m\n\u001b[0;32m> 10775\u001b[0;31m         \u001b[0mreindexed_value\u001b[0m \u001b[0;34m=\u001b[0m \u001b[0mvalue\u001b[0m\u001b[0;34m.\u001b[0m\u001b[0mreindex\u001b[0m\u001b[0;34m(\u001b[0m\u001b[0mindex\u001b[0m\u001b[0;34m)\u001b[0m\u001b[0;34m.\u001b[0m\u001b[0m_values\u001b[0m\u001b[0;34m\u001b[0m\u001b[0;34m\u001b[0m\u001b[0m\n\u001b[0m\u001b[1;32m  10776\u001b[0m     \u001b[0;32mexcept\u001b[0m \u001b[0mValueError\u001b[0m \u001b[0;32mas\u001b[0m \u001b[0merr\u001b[0m\u001b[0;34m:\u001b[0m\u001b[0;34m\u001b[0m\u001b[0;34m\u001b[0m\u001b[0m\n\u001b[1;32m  10777\u001b[0m         \u001b[0;31m# raised in MultiIndex.from_tuples, see test_insert_error_msmgs\u001b[0m\u001b[0;34m\u001b[0m\u001b[0;34m\u001b[0m\u001b[0;34m\u001b[0m\u001b[0m\n",
            "\u001b[0;32m/usr/local/lib/python3.7/dist-packages/pandas/core/series.py\u001b[0m in \u001b[0;36mreindex\u001b[0;34m(self, index, **kwargs)\u001b[0m\n\u001b[1;32m   4578\u001b[0m     )\n\u001b[1;32m   4579\u001b[0m     \u001b[0;32mdef\u001b[0m \u001b[0mreindex\u001b[0m\u001b[0;34m(\u001b[0m\u001b[0mself\u001b[0m\u001b[0;34m,\u001b[0m \u001b[0mindex\u001b[0m\u001b[0;34m=\u001b[0m\u001b[0;32mNone\u001b[0m\u001b[0;34m,\u001b[0m \u001b[0;34m**\u001b[0m\u001b[0mkwargs\u001b[0m\u001b[0;34m)\u001b[0m\u001b[0;34m:\u001b[0m\u001b[0;34m\u001b[0m\u001b[0;34m\u001b[0m\u001b[0m\n\u001b[0;32m-> 4580\u001b[0;31m         \u001b[0;32mreturn\u001b[0m \u001b[0msuper\u001b[0m\u001b[0;34m(\u001b[0m\u001b[0;34m)\u001b[0m\u001b[0;34m.\u001b[0m\u001b[0mreindex\u001b[0m\u001b[0;34m(\u001b[0m\u001b[0mindex\u001b[0m\u001b[0;34m=\u001b[0m\u001b[0mindex\u001b[0m\u001b[0;34m,\u001b[0m \u001b[0;34m**\u001b[0m\u001b[0mkwargs\u001b[0m\u001b[0;34m)\u001b[0m\u001b[0;34m\u001b[0m\u001b[0;34m\u001b[0m\u001b[0m\n\u001b[0m\u001b[1;32m   4581\u001b[0m \u001b[0;34m\u001b[0m\u001b[0m\n\u001b[1;32m   4582\u001b[0m     \u001b[0;34m@\u001b[0m\u001b[0mdeprecate_nonkeyword_arguments\u001b[0m\u001b[0;34m(\u001b[0m\u001b[0mversion\u001b[0m\u001b[0;34m=\u001b[0m\u001b[0;32mNone\u001b[0m\u001b[0;34m,\u001b[0m \u001b[0mallowed_args\u001b[0m\u001b[0;34m=\u001b[0m\u001b[0;34m[\u001b[0m\u001b[0;34m\"self\"\u001b[0m\u001b[0;34m,\u001b[0m \u001b[0;34m\"labels\"\u001b[0m\u001b[0;34m]\u001b[0m\u001b[0;34m)\u001b[0m\u001b[0;34m\u001b[0m\u001b[0;34m\u001b[0m\u001b[0m\n",
            "\u001b[0;32m/usr/local/lib/python3.7/dist-packages/pandas/core/generic.py\u001b[0m in \u001b[0;36mreindex\u001b[0;34m(self, *args, **kwargs)\u001b[0m\n\u001b[1;32m   4817\u001b[0m         \u001b[0;31m# perform the reindex on the axes\u001b[0m\u001b[0;34m\u001b[0m\u001b[0;34m\u001b[0m\u001b[0;34m\u001b[0m\u001b[0m\n\u001b[1;32m   4818\u001b[0m         return self._reindex_axes(\n\u001b[0;32m-> 4819\u001b[0;31m             \u001b[0maxes\u001b[0m\u001b[0;34m,\u001b[0m \u001b[0mlevel\u001b[0m\u001b[0;34m,\u001b[0m \u001b[0mlimit\u001b[0m\u001b[0;34m,\u001b[0m \u001b[0mtolerance\u001b[0m\u001b[0;34m,\u001b[0m \u001b[0mmethod\u001b[0m\u001b[0;34m,\u001b[0m \u001b[0mfill_value\u001b[0m\u001b[0;34m,\u001b[0m \u001b[0mcopy\u001b[0m\u001b[0;34m\u001b[0m\u001b[0;34m\u001b[0m\u001b[0m\n\u001b[0m\u001b[1;32m   4820\u001b[0m         ).__finalize__(self, method=\"reindex\")\n\u001b[1;32m   4821\u001b[0m \u001b[0;34m\u001b[0m\u001b[0m\n",
            "\u001b[0;32m/usr/local/lib/python3.7/dist-packages/pandas/core/generic.py\u001b[0m in \u001b[0;36m_reindex_axes\u001b[0;34m(self, axes, level, limit, tolerance, method, fill_value, copy)\u001b[0m\n\u001b[1;32m   4841\u001b[0m                 \u001b[0mfill_value\u001b[0m\u001b[0;34m=\u001b[0m\u001b[0mfill_value\u001b[0m\u001b[0;34m,\u001b[0m\u001b[0;34m\u001b[0m\u001b[0;34m\u001b[0m\u001b[0m\n\u001b[1;32m   4842\u001b[0m                 \u001b[0mcopy\u001b[0m\u001b[0;34m=\u001b[0m\u001b[0mcopy\u001b[0m\u001b[0;34m,\u001b[0m\u001b[0;34m\u001b[0m\u001b[0;34m\u001b[0m\u001b[0m\n\u001b[0;32m-> 4843\u001b[0;31m                 \u001b[0mallow_dups\u001b[0m\u001b[0;34m=\u001b[0m\u001b[0;32mFalse\u001b[0m\u001b[0;34m,\u001b[0m\u001b[0;34m\u001b[0m\u001b[0;34m\u001b[0m\u001b[0m\n\u001b[0m\u001b[1;32m   4844\u001b[0m             )\n\u001b[1;32m   4845\u001b[0m \u001b[0;34m\u001b[0m\u001b[0m\n",
            "\u001b[0;32m/usr/local/lib/python3.7/dist-packages/pandas/core/generic.py\u001b[0m in \u001b[0;36m_reindex_with_indexers\u001b[0;34m(self, reindexers, fill_value, copy, allow_dups)\u001b[0m\n\u001b[1;32m   4887\u001b[0m                 \u001b[0mfill_value\u001b[0m\u001b[0;34m=\u001b[0m\u001b[0mfill_value\u001b[0m\u001b[0;34m,\u001b[0m\u001b[0;34m\u001b[0m\u001b[0;34m\u001b[0m\u001b[0m\n\u001b[1;32m   4888\u001b[0m                 \u001b[0mallow_dups\u001b[0m\u001b[0;34m=\u001b[0m\u001b[0mallow_dups\u001b[0m\u001b[0;34m,\u001b[0m\u001b[0;34m\u001b[0m\u001b[0;34m\u001b[0m\u001b[0m\n\u001b[0;32m-> 4889\u001b[0;31m                 \u001b[0mcopy\u001b[0m\u001b[0;34m=\u001b[0m\u001b[0mcopy\u001b[0m\u001b[0;34m,\u001b[0m\u001b[0;34m\u001b[0m\u001b[0;34m\u001b[0m\u001b[0m\n\u001b[0m\u001b[1;32m   4890\u001b[0m             )\n\u001b[1;32m   4891\u001b[0m             \u001b[0;31m# If we've made a copy once, no need to make another one\u001b[0m\u001b[0;34m\u001b[0m\u001b[0;34m\u001b[0m\u001b[0;34m\u001b[0m\u001b[0m\n",
            "\u001b[0;32m/usr/local/lib/python3.7/dist-packages/pandas/core/internals/managers.py\u001b[0m in \u001b[0;36mreindex_indexer\u001b[0;34m(self, new_axis, indexer, axis, fill_value, allow_dups, copy, consolidate, only_slice)\u001b[0m\n\u001b[1;32m    668\u001b[0m         \u001b[0;31m# some axes don't allow reindexing with dups\u001b[0m\u001b[0;34m\u001b[0m\u001b[0;34m\u001b[0m\u001b[0;34m\u001b[0m\u001b[0m\n\u001b[1;32m    669\u001b[0m         \u001b[0;32mif\u001b[0m \u001b[0;32mnot\u001b[0m \u001b[0mallow_dups\u001b[0m\u001b[0;34m:\u001b[0m\u001b[0;34m\u001b[0m\u001b[0;34m\u001b[0m\u001b[0m\n\u001b[0;32m--> 670\u001b[0;31m             \u001b[0mself\u001b[0m\u001b[0;34m.\u001b[0m\u001b[0maxes\u001b[0m\u001b[0;34m[\u001b[0m\u001b[0maxis\u001b[0m\u001b[0;34m]\u001b[0m\u001b[0;34m.\u001b[0m\u001b[0m_validate_can_reindex\u001b[0m\u001b[0;34m(\u001b[0m\u001b[0mindexer\u001b[0m\u001b[0;34m)\u001b[0m\u001b[0;34m\u001b[0m\u001b[0;34m\u001b[0m\u001b[0m\n\u001b[0m\u001b[1;32m    671\u001b[0m \u001b[0;34m\u001b[0m\u001b[0m\n\u001b[1;32m    672\u001b[0m         \u001b[0;32mif\u001b[0m \u001b[0maxis\u001b[0m \u001b[0;34m>=\u001b[0m \u001b[0mself\u001b[0m\u001b[0;34m.\u001b[0m\u001b[0mndim\u001b[0m\u001b[0;34m:\u001b[0m\u001b[0;34m\u001b[0m\u001b[0;34m\u001b[0m\u001b[0m\n",
            "\u001b[0;32m/usr/local/lib/python3.7/dist-packages/pandas/core/indexes/base.py\u001b[0m in \u001b[0;36m_validate_can_reindex\u001b[0;34m(self, indexer)\u001b[0m\n\u001b[1;32m   3783\u001b[0m         \u001b[0;31m# trying to reindex on an axis with duplicates\u001b[0m\u001b[0;34m\u001b[0m\u001b[0;34m\u001b[0m\u001b[0;34m\u001b[0m\u001b[0m\n\u001b[1;32m   3784\u001b[0m         \u001b[0;32mif\u001b[0m \u001b[0;32mnot\u001b[0m \u001b[0mself\u001b[0m\u001b[0;34m.\u001b[0m\u001b[0m_index_as_unique\u001b[0m \u001b[0;32mand\u001b[0m \u001b[0mlen\u001b[0m\u001b[0;34m(\u001b[0m\u001b[0mindexer\u001b[0m\u001b[0;34m)\u001b[0m\u001b[0;34m:\u001b[0m\u001b[0;34m\u001b[0m\u001b[0;34m\u001b[0m\u001b[0m\n\u001b[0;32m-> 3785\u001b[0;31m             \u001b[0;32mraise\u001b[0m \u001b[0mValueError\u001b[0m\u001b[0;34m(\u001b[0m\u001b[0;34m\"cannot reindex from a duplicate axis\"\u001b[0m\u001b[0;34m)\u001b[0m\u001b[0;34m\u001b[0m\u001b[0;34m\u001b[0m\u001b[0m\n\u001b[0m\u001b[1;32m   3786\u001b[0m \u001b[0;34m\u001b[0m\u001b[0m\n\u001b[1;32m   3787\u001b[0m     def reindex(\n",
            "\u001b[0;31mValueError\u001b[0m: cannot reindex from a duplicate axis"
          ]
        }
      ]
    },
    {
      "cell_type": "code",
      "source": [
        "lpol_data_df"
      ],
      "metadata": {
        "colab": {
          "base_uri": "https://localhost:8080/",
          "height": 331
        },
        "id": "PkFhWlgJrbDB",
        "outputId": "f7979329-bd97-4994-b802-acc5b039c207"
      },
      "execution_count": 57,
      "outputs": [
        {
          "output_type": "execute_result",
          "data": {
            "text/plain": [
              "   Manila_City  Taguig_City  Pasig_City  Paranaque_City  Makati_City  \\\n",
              "0    46.630000    19.124088   34.143791       23.833180    51.661333   \n",
              "1    47.991667    19.860584   34.954902       25.893088    52.260667   \n",
              "2    43.493333    20.115328   33.833987       26.141475    50.254000   \n",
              "3    45.248333    22.378832   35.884314       29.184332    52.884000   \n",
              "4    45.151666    23.172993   36.822876       29.920737    54.213333   \n",
              "5    45.732222    25.737226   37.285621       32.114286    54.376000   \n",
              "6    46.498889    24.744526   39.195425       33.394931    54.035333   \n",
              "7    48.302778    25.638686   41.018301       35.129493    54.248000   \n",
              "8    44.061666    25.420438   37.307189       31.624885    47.559333   \n",
              "\n",
              "   Las Pinas_City  Muntinlupa_City  Pasay_City  Malabon_City  Bututan_City  \n",
              "0       17.061635        19.297283   51.597701     12.894366      0.312183  \n",
              "1       17.276101        19.698370   51.886207     14.161972      0.358158  \n",
              "2       16.967925        19.248913   52.611494     13.356338      0.386345  \n",
              "3       17.608176        21.759783   58.752873     14.122535      0.434576  \n",
              "4       17.661006        21.557065   57.750575     14.809859      0.447354  \n",
              "5       18.646541        21.289130   57.943678     14.636620      0.463295  \n",
              "6       19.444654        21.916304   60.072414     16.725352      0.488945  \n",
              "7       20.649686        22.024457   61.898851     19.169014      0.511682  \n",
              "8       19.498113        20.402174   55.197701     18.870423      0.514532  "
            ],
            "text/html": [
              "\n",
              "  <div id=\"df-25b36579-1528-4122-8953-bfd9698b6db6\">\n",
              "    <div class=\"colab-df-container\">\n",
              "      <div>\n",
              "<style scoped>\n",
              "    .dataframe tbody tr th:only-of-type {\n",
              "        vertical-align: middle;\n",
              "    }\n",
              "\n",
              "    .dataframe tbody tr th {\n",
              "        vertical-align: top;\n",
              "    }\n",
              "\n",
              "    .dataframe thead th {\n",
              "        text-align: right;\n",
              "    }\n",
              "</style>\n",
              "<table border=\"1\" class=\"dataframe\">\n",
              "  <thead>\n",
              "    <tr style=\"text-align: right;\">\n",
              "      <th></th>\n",
              "      <th>Manila_City</th>\n",
              "      <th>Taguig_City</th>\n",
              "      <th>Pasig_City</th>\n",
              "      <th>Paranaque_City</th>\n",
              "      <th>Makati_City</th>\n",
              "      <th>Las Pinas_City</th>\n",
              "      <th>Muntinlupa_City</th>\n",
              "      <th>Pasay_City</th>\n",
              "      <th>Malabon_City</th>\n",
              "      <th>Bututan_City</th>\n",
              "    </tr>\n",
              "  </thead>\n",
              "  <tbody>\n",
              "    <tr>\n",
              "      <th>0</th>\n",
              "      <td>46.630000</td>\n",
              "      <td>19.124088</td>\n",
              "      <td>34.143791</td>\n",
              "      <td>23.833180</td>\n",
              "      <td>51.661333</td>\n",
              "      <td>17.061635</td>\n",
              "      <td>19.297283</td>\n",
              "      <td>51.597701</td>\n",
              "      <td>12.894366</td>\n",
              "      <td>0.312183</td>\n",
              "    </tr>\n",
              "    <tr>\n",
              "      <th>1</th>\n",
              "      <td>47.991667</td>\n",
              "      <td>19.860584</td>\n",
              "      <td>34.954902</td>\n",
              "      <td>25.893088</td>\n",
              "      <td>52.260667</td>\n",
              "      <td>17.276101</td>\n",
              "      <td>19.698370</td>\n",
              "      <td>51.886207</td>\n",
              "      <td>14.161972</td>\n",
              "      <td>0.358158</td>\n",
              "    </tr>\n",
              "    <tr>\n",
              "      <th>2</th>\n",
              "      <td>43.493333</td>\n",
              "      <td>20.115328</td>\n",
              "      <td>33.833987</td>\n",
              "      <td>26.141475</td>\n",
              "      <td>50.254000</td>\n",
              "      <td>16.967925</td>\n",
              "      <td>19.248913</td>\n",
              "      <td>52.611494</td>\n",
              "      <td>13.356338</td>\n",
              "      <td>0.386345</td>\n",
              "    </tr>\n",
              "    <tr>\n",
              "      <th>3</th>\n",
              "      <td>45.248333</td>\n",
              "      <td>22.378832</td>\n",
              "      <td>35.884314</td>\n",
              "      <td>29.184332</td>\n",
              "      <td>52.884000</td>\n",
              "      <td>17.608176</td>\n",
              "      <td>21.759783</td>\n",
              "      <td>58.752873</td>\n",
              "      <td>14.122535</td>\n",
              "      <td>0.434576</td>\n",
              "    </tr>\n",
              "    <tr>\n",
              "      <th>4</th>\n",
              "      <td>45.151666</td>\n",
              "      <td>23.172993</td>\n",
              "      <td>36.822876</td>\n",
              "      <td>29.920737</td>\n",
              "      <td>54.213333</td>\n",
              "      <td>17.661006</td>\n",
              "      <td>21.557065</td>\n",
              "      <td>57.750575</td>\n",
              "      <td>14.809859</td>\n",
              "      <td>0.447354</td>\n",
              "    </tr>\n",
              "    <tr>\n",
              "      <th>5</th>\n",
              "      <td>45.732222</td>\n",
              "      <td>25.737226</td>\n",
              "      <td>37.285621</td>\n",
              "      <td>32.114286</td>\n",
              "      <td>54.376000</td>\n",
              "      <td>18.646541</td>\n",
              "      <td>21.289130</td>\n",
              "      <td>57.943678</td>\n",
              "      <td>14.636620</td>\n",
              "      <td>0.463295</td>\n",
              "    </tr>\n",
              "    <tr>\n",
              "      <th>6</th>\n",
              "      <td>46.498889</td>\n",
              "      <td>24.744526</td>\n",
              "      <td>39.195425</td>\n",
              "      <td>33.394931</td>\n",
              "      <td>54.035333</td>\n",
              "      <td>19.444654</td>\n",
              "      <td>21.916304</td>\n",
              "      <td>60.072414</td>\n",
              "      <td>16.725352</td>\n",
              "      <td>0.488945</td>\n",
              "    </tr>\n",
              "    <tr>\n",
              "      <th>7</th>\n",
              "      <td>48.302778</td>\n",
              "      <td>25.638686</td>\n",
              "      <td>41.018301</td>\n",
              "      <td>35.129493</td>\n",
              "      <td>54.248000</td>\n",
              "      <td>20.649686</td>\n",
              "      <td>22.024457</td>\n",
              "      <td>61.898851</td>\n",
              "      <td>19.169014</td>\n",
              "      <td>0.511682</td>\n",
              "    </tr>\n",
              "    <tr>\n",
              "      <th>8</th>\n",
              "      <td>44.061666</td>\n",
              "      <td>25.420438</td>\n",
              "      <td>37.307189</td>\n",
              "      <td>31.624885</td>\n",
              "      <td>47.559333</td>\n",
              "      <td>19.498113</td>\n",
              "      <td>20.402174</td>\n",
              "      <td>55.197701</td>\n",
              "      <td>18.870423</td>\n",
              "      <td>0.514532</td>\n",
              "    </tr>\n",
              "  </tbody>\n",
              "</table>\n",
              "</div>\n",
              "      <button class=\"colab-df-convert\" onclick=\"convertToInteractive('df-25b36579-1528-4122-8953-bfd9698b6db6')\"\n",
              "              title=\"Convert this dataframe to an interactive table.\"\n",
              "              style=\"display:none;\">\n",
              "        \n",
              "  <svg xmlns=\"http://www.w3.org/2000/svg\" height=\"24px\"viewBox=\"0 0 24 24\"\n",
              "       width=\"24px\">\n",
              "    <path d=\"M0 0h24v24H0V0z\" fill=\"none\"/>\n",
              "    <path d=\"M18.56 5.44l.94 2.06.94-2.06 2.06-.94-2.06-.94-.94-2.06-.94 2.06-2.06.94zm-11 1L8.5 8.5l.94-2.06 2.06-.94-2.06-.94L8.5 2.5l-.94 2.06-2.06.94zm10 10l.94 2.06.94-2.06 2.06-.94-2.06-.94-.94-2.06-.94 2.06-2.06.94z\"/><path d=\"M17.41 7.96l-1.37-1.37c-.4-.4-.92-.59-1.43-.59-.52 0-1.04.2-1.43.59L10.3 9.45l-7.72 7.72c-.78.78-.78 2.05 0 2.83L4 21.41c.39.39.9.59 1.41.59.51 0 1.02-.2 1.41-.59l7.78-7.78 2.81-2.81c.8-.78.8-2.07 0-2.86zM5.41 20L4 18.59l7.72-7.72 1.47 1.35L5.41 20z\"/>\n",
              "  </svg>\n",
              "      </button>\n",
              "      \n",
              "  <style>\n",
              "    .colab-df-container {\n",
              "      display:flex;\n",
              "      flex-wrap:wrap;\n",
              "      gap: 12px;\n",
              "    }\n",
              "\n",
              "    .colab-df-convert {\n",
              "      background-color: #E8F0FE;\n",
              "      border: none;\n",
              "      border-radius: 50%;\n",
              "      cursor: pointer;\n",
              "      display: none;\n",
              "      fill: #1967D2;\n",
              "      height: 32px;\n",
              "      padding: 0 0 0 0;\n",
              "      width: 32px;\n",
              "    }\n",
              "\n",
              "    .colab-df-convert:hover {\n",
              "      background-color: #E2EBFA;\n",
              "      box-shadow: 0px 1px 2px rgba(60, 64, 67, 0.3), 0px 1px 3px 1px rgba(60, 64, 67, 0.15);\n",
              "      fill: #174EA6;\n",
              "    }\n",
              "\n",
              "    [theme=dark] .colab-df-convert {\n",
              "      background-color: #3B4455;\n",
              "      fill: #D2E3FC;\n",
              "    }\n",
              "\n",
              "    [theme=dark] .colab-df-convert:hover {\n",
              "      background-color: #434B5C;\n",
              "      box-shadow: 0px 1px 3px 1px rgba(0, 0, 0, 0.15);\n",
              "      filter: drop-shadow(0px 1px 2px rgba(0, 0, 0, 0.3));\n",
              "      fill: #FFFFFF;\n",
              "    }\n",
              "  </style>\n",
              "\n",
              "      <script>\n",
              "        const buttonEl =\n",
              "          document.querySelector('#df-25b36579-1528-4122-8953-bfd9698b6db6 button.colab-df-convert');\n",
              "        buttonEl.style.display =\n",
              "          google.colab.kernel.accessAllowed ? 'block' : 'none';\n",
              "\n",
              "        async function convertToInteractive(key) {\n",
              "          const element = document.querySelector('#df-25b36579-1528-4122-8953-bfd9698b6db6');\n",
              "          const dataTable =\n",
              "            await google.colab.kernel.invokeFunction('convertToInteractive',\n",
              "                                                     [key], {});\n",
              "          if (!dataTable) return;\n",
              "\n",
              "          const docLinkHtml = 'Like what you see? Visit the ' +\n",
              "            '<a target=\"_blank\" href=https://colab.research.google.com/notebooks/data_table.ipynb>data table notebook</a>'\n",
              "            + ' to learn more about interactive tables.';\n",
              "          element.innerHTML = '';\n",
              "          dataTable['output_type'] = 'display_data';\n",
              "          await google.colab.output.renderOutput(dataTable, element);\n",
              "          const docLink = document.createElement('div');\n",
              "          docLink.innerHTML = docLinkHtml;\n",
              "          element.appendChild(docLink);\n",
              "        }\n",
              "      </script>\n",
              "    </div>\n",
              "  </div>\n",
              "  "
            ]
          },
          "metadata": {},
          "execution_count": 57
        }
      ]
    },
    {
      "cell_type": "code",
      "source": [
        "cities_df"
      ],
      "metadata": {
        "colab": {
          "base_uri": "https://localhost:8080/",
          "height": 423
        },
        "id": "Iv9JFN57lDEi",
        "outputId": "beef279d-7c5a-4551-f738-e8120c5d0b4b"
      },
      "execution_count": 42,
      "outputs": [
        {
          "output_type": "execute_result",
          "data": {
            "text/plain": [
              "           PS        T2M       QV2M     WS10M  PRECTOTCORR  \\\n",
              "0   98.804746  24.232510  17.892011  2.221174     0.238148   \n",
              "1   98.694436  23.772261  17.777405  2.574425     0.358428   \n",
              "2   98.708347  23.972366  18.022033  2.376530     0.318817   \n",
              "3   98.734901  24.154841  18.006301  2.286797     0.325263   \n",
              "4   98.778425  23.899444  17.574564  2.362863     0.243915   \n",
              "..        ...        ...        ...       ...          ...   \n",
              "6   98.810331  24.395593  18.262426  2.335306     0.310530   \n",
              "7   98.768307  24.248879  18.125679  2.311641     0.371299   \n",
              "8   98.737726  23.973932  17.967973  2.491847     0.310737   \n",
              "9   98.798614  24.159205  17.901000  2.353403     0.232973   \n",
              "10  98.780803  24.310568  18.305713  2.298325     0.839981   \n",
              "\n",
              "                LongLat  \n",
              "0   (121.0198, 14.4793)  \n",
              "1   (121.0198, 14.4793)  \n",
              "2   (121.0198, 14.4793)  \n",
              "3   (121.0198, 14.4793)  \n",
              "4   (121.0198, 14.4793)  \n",
              "..                  ...  \n",
              "6   (121.0244, 14.5547)  \n",
              "7   (121.0244, 14.5547)  \n",
              "8   (121.0244, 14.5547)  \n",
              "9   (121.0244, 14.5547)  \n",
              "10  (121.0244, 14.5547)  \n",
              "\n",
              "[110 rows x 6 columns]"
            ],
            "text/html": [
              "\n",
              "  <div id=\"df-5d5ae4ab-0354-4c8a-bd94-d9076aa6deea\">\n",
              "    <div class=\"colab-df-container\">\n",
              "      <div>\n",
              "<style scoped>\n",
              "    .dataframe tbody tr th:only-of-type {\n",
              "        vertical-align: middle;\n",
              "    }\n",
              "\n",
              "    .dataframe tbody tr th {\n",
              "        vertical-align: top;\n",
              "    }\n",
              "\n",
              "    .dataframe thead th {\n",
              "        text-align: right;\n",
              "    }\n",
              "</style>\n",
              "<table border=\"1\" class=\"dataframe\">\n",
              "  <thead>\n",
              "    <tr style=\"text-align: right;\">\n",
              "      <th></th>\n",
              "      <th>PS</th>\n",
              "      <th>T2M</th>\n",
              "      <th>QV2M</th>\n",
              "      <th>WS10M</th>\n",
              "      <th>PRECTOTCORR</th>\n",
              "      <th>LongLat</th>\n",
              "    </tr>\n",
              "  </thead>\n",
              "  <tbody>\n",
              "    <tr>\n",
              "      <th>0</th>\n",
              "      <td>98.804746</td>\n",
              "      <td>24.232510</td>\n",
              "      <td>17.892011</td>\n",
              "      <td>2.221174</td>\n",
              "      <td>0.238148</td>\n",
              "      <td>(121.0198, 14.4793)</td>\n",
              "    </tr>\n",
              "    <tr>\n",
              "      <th>1</th>\n",
              "      <td>98.694436</td>\n",
              "      <td>23.772261</td>\n",
              "      <td>17.777405</td>\n",
              "      <td>2.574425</td>\n",
              "      <td>0.358428</td>\n",
              "      <td>(121.0198, 14.4793)</td>\n",
              "    </tr>\n",
              "    <tr>\n",
              "      <th>2</th>\n",
              "      <td>98.708347</td>\n",
              "      <td>23.972366</td>\n",
              "      <td>18.022033</td>\n",
              "      <td>2.376530</td>\n",
              "      <td>0.318817</td>\n",
              "      <td>(121.0198, 14.4793)</td>\n",
              "    </tr>\n",
              "    <tr>\n",
              "      <th>3</th>\n",
              "      <td>98.734901</td>\n",
              "      <td>24.154841</td>\n",
              "      <td>18.006301</td>\n",
              "      <td>2.286797</td>\n",
              "      <td>0.325263</td>\n",
              "      <td>(121.0198, 14.4793)</td>\n",
              "    </tr>\n",
              "    <tr>\n",
              "      <th>4</th>\n",
              "      <td>98.778425</td>\n",
              "      <td>23.899444</td>\n",
              "      <td>17.574564</td>\n",
              "      <td>2.362863</td>\n",
              "      <td>0.243915</td>\n",
              "      <td>(121.0198, 14.4793)</td>\n",
              "    </tr>\n",
              "    <tr>\n",
              "      <th>...</th>\n",
              "      <td>...</td>\n",
              "      <td>...</td>\n",
              "      <td>...</td>\n",
              "      <td>...</td>\n",
              "      <td>...</td>\n",
              "      <td>...</td>\n",
              "    </tr>\n",
              "    <tr>\n",
              "      <th>6</th>\n",
              "      <td>98.810331</td>\n",
              "      <td>24.395593</td>\n",
              "      <td>18.262426</td>\n",
              "      <td>2.335306</td>\n",
              "      <td>0.310530</td>\n",
              "      <td>(121.0244, 14.5547)</td>\n",
              "    </tr>\n",
              "    <tr>\n",
              "      <th>7</th>\n",
              "      <td>98.768307</td>\n",
              "      <td>24.248879</td>\n",
              "      <td>18.125679</td>\n",
              "      <td>2.311641</td>\n",
              "      <td>0.371299</td>\n",
              "      <td>(121.0244, 14.5547)</td>\n",
              "    </tr>\n",
              "    <tr>\n",
              "      <th>8</th>\n",
              "      <td>98.737726</td>\n",
              "      <td>23.973932</td>\n",
              "      <td>17.967973</td>\n",
              "      <td>2.491847</td>\n",
              "      <td>0.310737</td>\n",
              "      <td>(121.0244, 14.5547)</td>\n",
              "    </tr>\n",
              "    <tr>\n",
              "      <th>9</th>\n",
              "      <td>98.798614</td>\n",
              "      <td>24.159205</td>\n",
              "      <td>17.901000</td>\n",
              "      <td>2.353403</td>\n",
              "      <td>0.232973</td>\n",
              "      <td>(121.0244, 14.5547)</td>\n",
              "    </tr>\n",
              "    <tr>\n",
              "      <th>10</th>\n",
              "      <td>98.780803</td>\n",
              "      <td>24.310568</td>\n",
              "      <td>18.305713</td>\n",
              "      <td>2.298325</td>\n",
              "      <td>0.839981</td>\n",
              "      <td>(121.0244, 14.5547)</td>\n",
              "    </tr>\n",
              "  </tbody>\n",
              "</table>\n",
              "<p>110 rows × 6 columns</p>\n",
              "</div>\n",
              "      <button class=\"colab-df-convert\" onclick=\"convertToInteractive('df-5d5ae4ab-0354-4c8a-bd94-d9076aa6deea')\"\n",
              "              title=\"Convert this dataframe to an interactive table.\"\n",
              "              style=\"display:none;\">\n",
              "        \n",
              "  <svg xmlns=\"http://www.w3.org/2000/svg\" height=\"24px\"viewBox=\"0 0 24 24\"\n",
              "       width=\"24px\">\n",
              "    <path d=\"M0 0h24v24H0V0z\" fill=\"none\"/>\n",
              "    <path d=\"M18.56 5.44l.94 2.06.94-2.06 2.06-.94-2.06-.94-.94-2.06-.94 2.06-2.06.94zm-11 1L8.5 8.5l.94-2.06 2.06-.94-2.06-.94L8.5 2.5l-.94 2.06-2.06.94zm10 10l.94 2.06.94-2.06 2.06-.94-2.06-.94-.94-2.06-.94 2.06-2.06.94z\"/><path d=\"M17.41 7.96l-1.37-1.37c-.4-.4-.92-.59-1.43-.59-.52 0-1.04.2-1.43.59L10.3 9.45l-7.72 7.72c-.78.78-.78 2.05 0 2.83L4 21.41c.39.39.9.59 1.41.59.51 0 1.02-.2 1.41-.59l7.78-7.78 2.81-2.81c.8-.78.8-2.07 0-2.86zM5.41 20L4 18.59l7.72-7.72 1.47 1.35L5.41 20z\"/>\n",
              "  </svg>\n",
              "      </button>\n",
              "      \n",
              "  <style>\n",
              "    .colab-df-container {\n",
              "      display:flex;\n",
              "      flex-wrap:wrap;\n",
              "      gap: 12px;\n",
              "    }\n",
              "\n",
              "    .colab-df-convert {\n",
              "      background-color: #E8F0FE;\n",
              "      border: none;\n",
              "      border-radius: 50%;\n",
              "      cursor: pointer;\n",
              "      display: none;\n",
              "      fill: #1967D2;\n",
              "      height: 32px;\n",
              "      padding: 0 0 0 0;\n",
              "      width: 32px;\n",
              "    }\n",
              "\n",
              "    .colab-df-convert:hover {\n",
              "      background-color: #E2EBFA;\n",
              "      box-shadow: 0px 1px 2px rgba(60, 64, 67, 0.3), 0px 1px 3px 1px rgba(60, 64, 67, 0.15);\n",
              "      fill: #174EA6;\n",
              "    }\n",
              "\n",
              "    [theme=dark] .colab-df-convert {\n",
              "      background-color: #3B4455;\n",
              "      fill: #D2E3FC;\n",
              "    }\n",
              "\n",
              "    [theme=dark] .colab-df-convert:hover {\n",
              "      background-color: #434B5C;\n",
              "      box-shadow: 0px 1px 3px 1px rgba(0, 0, 0, 0.15);\n",
              "      filter: drop-shadow(0px 1px 2px rgba(0, 0, 0, 0.3));\n",
              "      fill: #FFFFFF;\n",
              "    }\n",
              "  </style>\n",
              "\n",
              "      <script>\n",
              "        const buttonEl =\n",
              "          document.querySelector('#df-5d5ae4ab-0354-4c8a-bd94-d9076aa6deea button.colab-df-convert');\n",
              "        buttonEl.style.display =\n",
              "          google.colab.kernel.accessAllowed ? 'block' : 'none';\n",
              "\n",
              "        async function convertToInteractive(key) {\n",
              "          const element = document.querySelector('#df-5d5ae4ab-0354-4c8a-bd94-d9076aa6deea');\n",
              "          const dataTable =\n",
              "            await google.colab.kernel.invokeFunction('convertToInteractive',\n",
              "                                                     [key], {});\n",
              "          if (!dataTable) return;\n",
              "\n",
              "          const docLinkHtml = 'Like what you see? Visit the ' +\n",
              "            '<a target=\"_blank\" href=https://colab.research.google.com/notebooks/data_table.ipynb>data table notebook</a>'\n",
              "            + ' to learn more about interactive tables.';\n",
              "          element.innerHTML = '';\n",
              "          dataTable['output_type'] = 'display_data';\n",
              "          await google.colab.output.renderOutput(dataTable, element);\n",
              "          const docLink = document.createElement('div');\n",
              "          docLink.innerHTML = docLinkHtml;\n",
              "          element.appendChild(docLink);\n",
              "        }\n",
              "      </script>\n",
              "    </div>\n",
              "  </div>\n",
              "  "
            ]
          },
          "metadata": {},
          "execution_count": 42
        }
      ]
    },
    {
      "cell_type": "code",
      "source": [
        "import random\n",
        "samp_light_pol_val = []\n",
        "\n",
        "for i in range(99):\n",
        "  samp_light_pol_val.append(random.randint(240, 255))\n",
        "\n",
        "samp_light_pol_val = pd.DataFrame(samp_light_pol_val)"
      ],
      "metadata": {
        "id": "M_lR8DlN-mC9"
      },
      "execution_count": 12,
      "outputs": []
    },
    {
      "cell_type": "code",
      "source": [
        "g_y = cities_df['T2M'].values.reshape((-1,1)) #T2M\n",
        "#g_y = samp_light_pol_val.values.reshape((-1,1))\n",
        "g_X = cities_df[['QV2M', \"PS\", \"WS10M\", \"PRECTOTCORR\"]].values\n",
        "g_coords = list(g_coords)\n",
        "\n",
        "#g_X = (g_X - g_X.mean(axis=0)) / g_X.std(axis=0)\n",
        "#g_y = g_y.reshape((-1,1))\n",
        "#g_y = (g_y - g_y.mean(axis=0)) / g_y.std(axis=0)"
      ],
      "metadata": {
        "id": "hzbu97r5RVrS"
      },
      "execution_count": 28,
      "outputs": []
    },
    {
      "cell_type": "code",
      "source": [
        "g_X[np.isnan(g_X)] = 0\n",
        "#g_X"
      ],
      "metadata": {
        "id": "KbmCsUtcWdZJ"
      },
      "execution_count": 29,
      "outputs": []
    },
    {
      "cell_type": "code",
      "source": [
        "g_y[np.isnan(g_y)] = 0\n",
        "#g_y"
      ],
      "metadata": {
        "id": "HtxcpMMFWdO8"
      },
      "execution_count": 30,
      "outputs": []
    },
    {
      "cell_type": "code",
      "source": [
        "gwr_selector = Sel_BW(g_coords, g_y, g_X, kernel = \"gaussian\", fixed = True, spherical=True) \n",
        "gwr_bw = gwr_selector.search(bw_min = 56)\n",
        "gwr_bw"
      ],
      "metadata": {
        "id": "zCysEN81WbsQ",
        "colab": {
          "base_uri": "https://localhost:8080/"
        },
        "outputId": "ef8abe60-1e4c-49e2-a45d-788b0e07f040"
      },
      "execution_count": 36,
      "outputs": [
        {
          "output_type": "execute_result",
          "data": {
            "text/plain": [
              "68.24"
            ]
          },
          "metadata": {},
          "execution_count": 36
        }
      ]
    },
    {
      "cell_type": "code",
      "source": [
        "gwr_results = GWR(g_coords, g_y, g_X, gwr_bw).fit()"
      ],
      "metadata": {
        "id": "jxZZutFnuJcE"
      },
      "execution_count": 37,
      "outputs": []
    },
    {
      "cell_type": "code",
      "source": [
        "gwr_results.summary()"
      ],
      "metadata": {
        "colab": {
          "base_uri": "https://localhost:8080/"
        },
        "id": "l8B2qvu2tkFt",
        "outputId": "2aad4965-e261-433c-b943-abd6efc3a7ec"
      },
      "execution_count": null,
      "outputs": [
        {
          "output_type": "stream",
          "name": "stdout",
          "text": [
            "===========================================================================\n",
            "Model type                                                         Gaussian\n",
            "Number of observations:                                                  99\n",
            "Number of covariates:                                                     5\n",
            "\n",
            "Global Regression Results\n",
            "---------------------------------------------------------------------------\n",
            "Residual sum of squares:                                              0.245\n",
            "Log-likelihood:                                                     156.661\n",
            "AIC:                                                               -303.321\n",
            "AICc:                                                              -300.408\n",
            "BIC:                                                               -431.697\n",
            "R2:                                                                   0.986\n",
            "Adj. R2:                                                              0.985\n",
            "\n",
            "Variable                              Est.         SE  t(Est/SE)    p-value\n",
            "------------------------------- ---------- ---------- ---------- ----------\n",
            "X0                                -108.797      3.848    -28.273      0.000\n",
            "X1                                   0.699      0.029     24.140      0.000\n",
            "X2                                   1.234      0.042     29.641      0.000\n",
            "X3                                  -0.637      0.047    -13.583      0.000\n",
            "X4                                  -0.174      0.042     -4.182      0.000\n",
            "\n",
            "Geographically Weighted Regression (GWR) Results\n",
            "---------------------------------------------------------------------------\n",
            "Spatial kernel:                                           Adaptive bisquare\n",
            "Bandwidth used:                                                      56.000\n",
            "\n",
            "Diagnostic information\n",
            "---------------------------------------------------------------------------\n",
            "Residual sum of squares:                                              0.136\n",
            "Effective number of parameters (trace(S)):                           18.073\n",
            "Degree of freedom (n - trace(S)):                                    80.927\n",
            "Sigma estimate:                                                       0.041\n",
            "Log-likelihood:                                                     185.894\n",
            "AIC:                                                               -333.643\n",
            "AICc:                                                              -323.942\n",
            "BIC:                                                               -284.148\n",
            "R2:                                                                   0.992\n",
            "Adjusted R2:                                                          0.990\n",
            "Adj. alpha (95%):                                                     0.014\n",
            "Adj. critical t value (95%):                                          2.507\n",
            "\n",
            "Summary Statistics For GWR Parameter Estimates\n",
            "---------------------------------------------------------------------------\n",
            "Variable                   Mean        STD        Min     Median        Max\n",
            "-------------------- ---------- ---------- ---------- ---------- ----------\n",
            "X0                      -98.198     50.516   -117.787   -115.012     44.637\n",
            "X1                        0.650      0.042      0.531      0.666      0.666\n",
            "X2                        1.132      0.517     -0.329      1.304      1.333\n",
            "X3                       -0.530      0.396     -0.674     -0.667      0.589\n",
            "X4                       -0.075      0.253     -0.166     -0.166      0.642\n",
            "===========================================================================\n",
            "\n"
          ]
        }
      ]
    },
    {
      "cell_type": "code",
      "source": [
        "gwr_results.params.shape"
      ],
      "metadata": {
        "colab": {
          "base_uri": "https://localhost:8080/"
        },
        "id": "lxGN5JhmxlGc",
        "outputId": "ca423130-9d48-400c-b1c5-2889754bb6e9"
      },
      "execution_count": null,
      "outputs": [
        {
          "output_type": "execute_result",
          "data": {
            "text/plain": [
              "(99, 5)"
            ]
          },
          "metadata": {},
          "execution_count": 184
        }
      ]
    },
    {
      "cell_type": "code",
      "source": [
        "gwr_results.localR2[0:5]"
      ],
      "metadata": {
        "colab": {
          "base_uri": "https://localhost:8080/"
        },
        "id": "4CqHDdI51EIY",
        "outputId": "a4345e7c-f52f-4128-fa5f-b1c3b5c9e2e9"
      },
      "execution_count": null,
      "outputs": [
        {
          "output_type": "execute_result",
          "data": {
            "text/plain": [
              "array([[0.96547283],\n",
              "       [0.96547283],\n",
              "       [0.96547283],\n",
              "       [0.96547283],\n",
              "       [0.96547283]])"
            ]
          },
          "metadata": {},
          "execution_count": 17
        }
      ]
    },
    {
      "cell_type": "code",
      "source": [
        "gwr_filtered_t = gwr_results.filter_tvals()"
      ],
      "metadata": {
        "id": "94_u-ajc3hIj"
      },
      "execution_count": null,
      "outputs": []
    },
    {
      "cell_type": "code",
      "source": [
        "NCR_geopckg.shape"
      ],
      "metadata": {
        "colab": {
          "base_uri": "https://localhost:8080/"
        },
        "id": "9pvnasjf8hj2",
        "outputId": "76a0fd5f-f148-4008-a019-53db3dac6f71"
      },
      "execution_count": null,
      "outputs": [
        {
          "output_type": "execute_result",
          "data": {
            "text/plain": [
              "(9, 12)"
            ]
          },
          "metadata": {},
          "execution_count": 19
        }
      ]
    },
    {
      "cell_type": "code",
      "source": [
        "NCR_geopckg[\"Hello\"] = 20\n",
        "NCR_geopckg[\"Hello\"].shape"
      ],
      "metadata": {
        "colab": {
          "base_uri": "https://localhost:8080/"
        },
        "id": "X4B5_-2U854x",
        "outputId": "a9d904b7-4e88-4fda-e4ae-96c198253fc5"
      },
      "execution_count": null,
      "outputs": [
        {
          "output_type": "execute_result",
          "data": {
            "text/plain": [
              "(9,)"
            ]
          },
          "metadata": {},
          "execution_count": 24
        }
      ]
    },
    {
      "cell_type": "code",
      "source": [
        "NCR_geopckg[\"Hello\"]"
      ],
      "metadata": {
        "colab": {
          "base_uri": "https://localhost:8080/"
        },
        "id": "Dy31A58unOTR",
        "outputId": "83d9c80c-ec63-4051-fee1-171eed6770c3"
      },
      "execution_count": null,
      "outputs": [
        {
          "output_type": "execute_result",
          "data": {
            "text/plain": [
              "0    20\n",
              "1    20\n",
              "2    20\n",
              "3    20\n",
              "4    20\n",
              "5    20\n",
              "6    20\n",
              "7    20\n",
              "8    20\n",
              "Name: Hello, dtype: int64"
            ]
          },
          "metadata": {},
          "execution_count": 25
        }
      ]
    },
    {
      "cell_type": "code",
      "source": [
        "gwr_results.params[:,1].shape"
      ],
      "metadata": {
        "colab": {
          "base_uri": "https://localhost:8080/"
        },
        "id": "aU2g5ZXS9Wl1",
        "outputId": "d1797079-cc49-4733-de90-15333d686744"
      },
      "execution_count": null,
      "outputs": [
        {
          "output_type": "execute_result",
          "data": {
            "text/plain": [
              "(99,)"
            ]
          },
          "metadata": {},
          "execution_count": 22
        }
      ]
    },
    {
      "cell_type": "code",
      "source": [
        "NCR_geopckg['gwr_x0'] = gwr_results.params[:0]\n",
        "NCR_geopckg['gwr_x1'] = gwr_results.params[:1]\n",
        "NCR_geopckg['gwr_x2'] = gwr_results.params[:2]\n",
        "NCR_geopckg['gwr_x3'] = gwr_results.params[:3]\n",
        "NCR_geopckg['gwr_x4'] = gwr_results.params[:4]\n"
      ],
      "metadata": {
        "id": "kJvsDe4cxc7j"
      },
      "execution_count": null,
      "outputs": []
    },
    {
      "cell_type": "code",
      "source": [
        "#Prep plot and add axis\n",
        "fig, ax = plt.subplots(nrows=1, ncols=1, figsize=(15,7))\n",
        "ax.set_title('Change in Human Capital Index (BW: ' + str(gwr_bw) +')', fontsize=12)\n",
        "\n",
        "#Set color map\n",
        "cmap = plt.cm.seismic\n",
        "\n",
        "#Find min and max values of the combined dataset\n",
        "gwr_min = res_val['gwr_x2'].min() \n",
        "gwr_max = res_val['gwr_x2'].max() \n",
        "vmin = np.min([gwr_min])\n",
        "vmax = np.max([gwr_max])\n",
        "\n",
        "#If all values are negative use the negative half of the colormap\n",
        "if (vmin < 0) & (vmax < 0):\n",
        "    cmap = truncate_colormap(cmap, 0.0, 0.5)\n",
        "#If all values are positive use the positive half of the colormap\n",
        "elif (vmin > 0) & (vmax > 0):\n",
        "    cmap = truncate_colormap(cmap, 0.5, 1.0)\n",
        "#Otherwise, there are positive and negative values so the colormap so zero is the midpoint\n",
        "else:\n",
        "    cmap = shift_colormap(cmap, start=0.0, midpoint=1 - vmax/(vmax + abs(vmin)), stop=1.)\n",
        "\n",
        "#Create scalar mappable for colorbar and stretch colormap across range of data values\n",
        "sm = plt.cm.ScalarMappable(cmap=cmap, norm=plt.Normalize(vmin=vmin, vmax=vmax))\n",
        "\n",
        "#Plot GWR parameters\n",
        "res_val.plot('gwr_x2', cmap=sm.cmap, ax=ax, vmin=vmin, vmax=vmax, **{'edgecolor':'black', 'alpha':.65})\n",
        "#If there are insignificnt parameters plot gray polygons over them\n",
        "if (gwr_filtered_t[:,1] == 0).any():\n",
        "    res_val[gwr_filtered_t[:,1] == 0].plot(color='lightgrey', ax=ax, **{'edgecolor':'black'})\n",
        "\n",
        "#Set figure options and plot \n",
        "fig.tight_layout()    \n",
        "sm._A = []\n",
        "cbar = fig.colorbar(sm)\n",
        "cbar.ax.tick_params(labelsize=12) \n",
        "ax.get_xaxis().set_visible(False)\n",
        "ax.get_yaxis().set_visible(False)\n",
        "plt.show()\n",
        "\n",
        "# Negative - west and north sumatra (part of riau)\n",
        "#strong - south sumatra"
      ],
      "metadata": {
        "colab": {
          "base_uri": "https://localhost:8080/",
          "height": 662
        },
        "id": "2DunVjpvwMg7",
        "outputId": "c7cbc6eb-cd04-4272-fc00-d97f01dec23d"
      },
      "execution_count": null,
      "outputs": [
        {
          "output_type": "error",
          "ename": "AttributeError",
          "evalue": "ignored",
          "traceback": [
            "\u001b[0;31m---------------------------------------------------------------------------\u001b[0m",
            "\u001b[0;31mAttributeError\u001b[0m                            Traceback (most recent call last)",
            "\u001b[0;32m<ipython-input-38-4e4f4a44f50a>\u001b[0m in \u001b[0;36m<module>\u001b[0;34m\u001b[0m\n\u001b[1;32m     26\u001b[0m \u001b[0;34m\u001b[0m\u001b[0m\n\u001b[1;32m     27\u001b[0m \u001b[0;31m#Plot GWR parameters\u001b[0m\u001b[0;34m\u001b[0m\u001b[0;34m\u001b[0m\u001b[0;34m\u001b[0m\u001b[0m\n\u001b[0;32m---> 28\u001b[0;31m \u001b[0mres_val\u001b[0m\u001b[0;34m.\u001b[0m\u001b[0mplot\u001b[0m\u001b[0;34m(\u001b[0m\u001b[0;34m'gwr_x2'\u001b[0m\u001b[0;34m,\u001b[0m \u001b[0mcmap\u001b[0m\u001b[0;34m=\u001b[0m\u001b[0msm\u001b[0m\u001b[0;34m.\u001b[0m\u001b[0mcmap\u001b[0m\u001b[0;34m,\u001b[0m \u001b[0max\u001b[0m\u001b[0;34m=\u001b[0m\u001b[0max\u001b[0m\u001b[0;34m,\u001b[0m \u001b[0mvmin\u001b[0m\u001b[0;34m=\u001b[0m\u001b[0mvmin\u001b[0m\u001b[0;34m,\u001b[0m \u001b[0mvmax\u001b[0m\u001b[0;34m=\u001b[0m\u001b[0mvmax\u001b[0m\u001b[0;34m,\u001b[0m \u001b[0;34m**\u001b[0m\u001b[0;34m{\u001b[0m\u001b[0;34m'edgecolor'\u001b[0m\u001b[0;34m:\u001b[0m\u001b[0;34m'black'\u001b[0m\u001b[0;34m,\u001b[0m \u001b[0;34m'alpha'\u001b[0m\u001b[0;34m:\u001b[0m\u001b[0;36m.65\u001b[0m\u001b[0;34m}\u001b[0m\u001b[0;34m)\u001b[0m\u001b[0;34m\u001b[0m\u001b[0;34m\u001b[0m\u001b[0m\n\u001b[0m\u001b[1;32m     29\u001b[0m \u001b[0;31m#If there are insignificnt parameters plot gray polygons over them\u001b[0m\u001b[0;34m\u001b[0m\u001b[0;34m\u001b[0m\u001b[0;34m\u001b[0m\u001b[0m\n\u001b[1;32m     30\u001b[0m \u001b[0;32mif\u001b[0m \u001b[0;34m(\u001b[0m\u001b[0mgwr_filtered_t\u001b[0m\u001b[0;34m[\u001b[0m\u001b[0;34m:\u001b[0m\u001b[0;34m,\u001b[0m\u001b[0;36m1\u001b[0m\u001b[0;34m]\u001b[0m \u001b[0;34m==\u001b[0m \u001b[0;36m0\u001b[0m\u001b[0;34m)\u001b[0m\u001b[0;34m.\u001b[0m\u001b[0many\u001b[0m\u001b[0;34m(\u001b[0m\u001b[0;34m)\u001b[0m\u001b[0;34m:\u001b[0m\u001b[0;34m\u001b[0m\u001b[0;34m\u001b[0m\u001b[0m\n",
            "\u001b[0;31mAttributeError\u001b[0m: 'dict' object has no attribute 'plot'"
          ]
        },
        {
          "output_type": "display_data",
          "data": {
            "text/plain": [
              "<Figure size 1080x504 with 1 Axes>"
            ],
            "image/png": "[encoded data removed]"
          },
          "metadata": {
            "needs_background": "light"
          }
        }
      ]
    }
  ]
}