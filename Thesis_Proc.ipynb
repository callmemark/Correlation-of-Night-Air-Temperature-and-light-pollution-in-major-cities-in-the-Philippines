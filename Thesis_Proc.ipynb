{
  "nbformat": 4,
  "nbformat_minor": 0,
  "metadata": {
    "colab": {
      "provenance": [],
      "collapsed_sections": [],
      "authorship_tag": "ABX9TyNA/FHnRD17OuzfQVC5a5eY",
      "include_colab_link": true
    },
    "kernelspec": {
      "name": "python3",
      "display_name": "Python 3"
    },
    "language_info": {
      "name": "python"
    }
  },
  "cells": [
    {
      "cell_type": "markdown",
      "metadata": {
        "id": "view-in-github",
        "colab_type": "text"
      },
      "source": [
        "<a href=\"https://colab.research.google.com/github/callmemark/Correlation-of-Night-Air-Temperature-and-light-pollution-in-major-cities-in-the-Philippines/blob/PreTest/Thesis_Proc.ipynb\" target=\"_parent\"><img src=\"https://colab.research.google.com/assets/colab-badge.svg\" alt=\"Open In Colab\"/></a>"
      ]
    },
    {
      "cell_type": "markdown",
      "source": [
        "<h1> Correlation of Night Air Temperature and light pollution in major cities in the Philippines </h1>\n",
        "</br></br></br>\n",
        "\n",
        "\n",
        "> Fernandez, Jaron Rix\n",
        "</br>\n",
        "Velmonte, Mark john A.\n",
        "\n",
        "\n",
        "\n",
        "<br>\n",
        "<br>\n",
        "<br>\n",
        "\n",
        "---\n",
        "\n",
        "\n",
        "\n",
        "\n",
        "\n",
        "\n"
      ],
      "metadata": {
        "id": "RABrvrp2qX4p"
      }
    },
    {
      "cell_type": "markdown",
      "source": [
        "<h1>Preperation 1: Install Libraries</h1>\n",
        "\n",
        "> Install neccesary libraries"
      ],
      "metadata": {
        "id": "Sy9S6BtAqfyX"
      }
    },
    {
      "cell_type": "code",
      "source": [
        "\n",
        "!apt install gdal-bin python-gdal python3-gdal --quiet\n",
        "!apt install python3-rtree --quiet\n",
        "!pip install --upgrade pip --quiet\n",
        "!pip install git+git://github.com/geopandas/geopandas.git --quiet\n",
        "!pip install descartes --quiet\n",
        "!pip install ipywidgets --quiet\n",
        "\n",
        "!pip install splot --quiet\n",
        "!pip install -U mgwr --quiet\n",
        "\n",
        "!pip install pyprocessmacro\n"
      ],
      "metadata": {
        "id": "LdXV1hAsnuyB"
      },
      "execution_count": null,
      "outputs": []
    },
    {
      "cell_type": "markdown",
      "source": [
        "<h1>Preperation 2: Import Libraries</h1>\n",
        "\n",
        "> after installation we procced to import the libraries"
      ],
      "metadata": {
        "id": "YJrBnv2Zqszf"
      }
    },
    {
      "cell_type": "code",
      "execution_count": null,
      "metadata": {
        "id": "9oawj62ciWQo"
      },
      "outputs": [],
      "source": [
        "#import libraries\n",
        "\n",
        "import numpy as np\n",
        "import pandas as pd\n",
        "import geopandas as gpd\n",
        "import seaborn as sns\n",
        "import matplotlib.pyplot as plt\n",
        "import matplotlib as mpl\n",
        "import libpysal as ps\n",
        "from mgwr.gwr import GWR, MGWR\n",
        "from mgwr.sel_bw import Sel_BW\n",
        "from mgwr.utils import shift_colormap, truncate_colormap\n",
        "from google.colab import drive\n",
        "from os import path, getcwd\n",
        "import itertools\n",
        "from sklearn.model_selection import train_test_split\n",
        "from sklearn.linear_model import LinearRegression\n",
        "from sklearn import linear_model\n",
        "import statsmodels.api as sm\n",
        "from statsmodels.stats.outliers_influence import variance_inflation_factor\n",
        "from pyprocessmacro import Process"
      ]
    },
    {
      "cell_type": "markdown",
      "source": [
        "<h1> Preperation 3: Moun Drive </h1>\n",
        "\n",
        "> To access data from google drive, We need to give permission to mount the drive and gain access to folders and files"
      ],
      "metadata": {
        "id": "XiqsCfH7q9Bn"
      }
    },
    {
      "cell_type": "code",
      "source": [
        "#mount the google drive used\n",
        "from google.colab import drive\n",
        "drive.mount('/content/drive')"
      ],
      "metadata": {
        "id": "2DUnJhipl4Jq",
        "colab": {
          "base_uri": "https://localhost:8080/"
        },
        "outputId": "c5035bcd-9c7a-4bff-c802-0b886907eaa1"
      },
      "execution_count": null,
      "outputs": [
        {
          "output_type": "stream",
          "name": "stdout",
          "text": [
            "Mounted at /content/drive\n"
          ]
        }
      ]
    },
    {
      "cell_type": "markdown",
      "source": [
        "<h1>Preperation 4: File Reference </h1>\n",
        "\n",
        "> Create a dictionary to use for file path reference and for process automation"
      ],
      "metadata": {
        "id": "_IWQb6eara_5"
      }
    },
    {
      "cell_type": "code",
      "source": [
        "GPKG_DATASET_DIRECTORY = \"/content/drive/My Drive/COLLEGE_THESIS_FOLDER/GPKG_FILES/\"\n",
        "\n",
        "\n",
        "gpkg_files_dict = {\n",
        "    \"Manila_City\" : \"Manila_City.gpkg\",\n",
        "    \"Taguig_City\" : \"Taguig_City.gpkg\",\n",
        "    \"Pasig_City\" : \"Pasig_City.gpkg\",\n",
        "    \"Paranaque_City\" : \"Paranaque_City.gpkg\",\n",
        "    \"Makati_City\" : \"Makati_City.gpkg\",\n",
        "    \"LasPinas_City\" : \"LasPinas_City.gpkg\",\n",
        "    \"Muntinlupa_City\" : \"Muntinlupa_City.gpkg\",\n",
        "    \"Pasay_City\" : \"Pasay_City.gpkg\",\n",
        "    \"Malabon_City\" : \"Malabon_City.gpkg\",\n",
        "    \"Butuan_City\" : \"Butuan_City.gpkg\",\n",
        "    \"grouped_study_area\" : \"grouped_study_area.gpkg\"  \n",
        "}\n",
        "\n",
        "\n",
        "\n",
        "DATASET_DIRECTORY = \"/content/drive/My Drive/COLLEGE_THESIS_FOLDER/DataSet/climactic_factor_dataset_v2/\"\n",
        "\n",
        "CITY_NAME= [\n",
        "    \"manila_city\",\n",
        "    \"valenzuela_city\",\n",
        "    \"taguig_city\",\n",
        "    \"pasig_city\",\n",
        "    \"pasay_city\",\n",
        "    \"paranaque_city\",\n",
        "    \"muntinlupa_city\",\n",
        "    \"malabon_city\",\n",
        "    \"makati_city\",\n",
        "    \"laspinas_city\"\n",
        "]\n",
        "\n",
        "\n",
        "LIGHTPOL_DIRECTORY = \"/content/drive/My Drive/COLLEGE_THESIS_FOLDER/DataSet/Light_pol_data/\"\n",
        "\n",
        "y_ext = [\"2012\", \"2013\", \"2014\", \"2015\", \"2016\", \"2017\", \"2018\", \"2019\", \"2020\", \"2021\"]\n",
        "lpol_cname = [\n",
        "  \"manila_lpol_data_\",\n",
        "  \"taguig_lpol_data_\",\n",
        "  \"pasig_lpol_data_\",\n",
        "  \"paranaque_lpol_data_\",\n",
        "  \"makati_lpol_data_\",\n",
        "  \"laspinas_lpol_data_\",\n",
        "  \"muntinlupa_lpol_data_\",\n",
        "  \"pasay_lpol_data_\",\n",
        "  \"malabon_lpol_data_\",\n",
        "  \"valenzuela_lpol_data_\",\n",
        "]"
      ],
      "metadata": {
        "id": "cyo_qF39lvu_"
      },
      "execution_count": null,
      "outputs": []
    },
    {
      "cell_type": "code",
      "source": [
        "GPKG_DATASET_DIRECTORY = \"/content/drive/My Drive/COLLEGE_THESIS_FOLDER/GPKG_FILES/\"\n",
        "\n",
        "\n",
        "gpkg_files_dict = {\n",
        "    \"Manila_City\" : \"Manila_City.gpkg\",\n",
        "    \"Taguig_City\" : \"Taguig_City.gpkg\",\n",
        "    \"Pasig_City\" : \"Pasig_City.gpkg\",\n",
        "    \"Paranaque_City\" : \"Paranaque_City.gpkg\",\n",
        "    \"Makati_City\" : \"Makati_City.gpkg\",\n",
        "    \"LasPinas_City\" : \"LasPinas_City.gpkg\",\n",
        "    \"Muntinlupa_City\" : \"Muntinlupa_City.gpkg\",\n",
        "    \"Pasay_City\" : \"Pasay_City.gpkg\",\n",
        "    \"Malabon_City\" : \"Malabon_City.gpkg\",\n",
        "    \"Butuan_City\" : \"Butuan_City.gpkg\",\n",
        "    \"grouped_study_area\" : \"grouped_study_area.gpkg\"  \n",
        "}\n",
        "\n",
        "\n",
        "\n",
        "DATASET_DIRECTORY = \"/content/drive/My Drive/COLLEGE_THESIS_FOLDER/DataSet/climactic_factor_dataset_v2/\"\n",
        "\n",
        "CITY_NAME= [\n",
        "    \"manila_city\",\n",
        "    \"valenzuela_city\",\n",
        "    \"taguig_city\",\n",
        "    \"pasig_city\",\n",
        "    \"pasay_city\",\n",
        "    \"paranaque_city\",\n",
        "    \"muntinlupa_city\",\n",
        "    \"malabon_city\",\n",
        "    \"makati_city\",\n",
        "    \"laspinas_city\"\n",
        "]\n",
        "\n",
        "\n",
        "LIGHTPOL_DIRECTORY = \"/content/drive/My Drive/COLLEGE_THESIS_FOLDER/DataSet/Light_pol_data/\"\n",
        "\n",
        "y_ext = [\"2012\", \"2013\", \"2014\", \"2015\", \"2016\", \"2017\", \"2018\", \"2019\", \"2020\", \"2021\"]\n",
        "lpol_cname = [\n",
        "  \"manila_lpol_data_\",\n",
        "  \"taguig_lpol_data_\",\n",
        "  \"pasig_lpol_data_\",\n",
        "  \"paranaque_lpol_data_\",\n",
        "  \"makati_lpol_data_\",\n",
        "  \"laspinas_lpol_data_\",\n",
        "  \"muntinlupa_lpol_data_\",\n",
        "  \"pasay_lpol_data_\",\n",
        "  \"malabon_lpol_data_\",\n",
        "  \"valenzuela_lpol_data_\",\n",
        "]"
      ],
      "metadata": {
        "id": "R4TVFvXJ0fUX"
      },
      "execution_count": null,
      "outputs": []
    },
    {
      "cell_type": "markdown",
      "source": [
        "<h1>Preperation 5: Create helper function and class</h1>\n",
        "\n",
        "> Create function and classes methods that will be use repeatedly"
      ],
      "metadata": {
        "id": "2AbD9A_aZgRQ"
      }
    },
    {
      "cell_type": "code",
      "source": [
        "# Helper functions and Classes\n",
        "def get_gpk_fpath(city_name_arg = str):\n",
        "  try:\n",
        "    return GPKG_DATASET_DIRECTORY + gpkg_files_dict[city_name_arg]\n",
        "  except:\n",
        "    raise Exception(\"error in get_gpk_fpath func | No City in dataset\")\n",
        "    \n",
        "\n",
        "def get_file_path(city_name_arg):\n",
        "  _fstr = DATASET_DIRECTORY + city_name_arg + \".csv\"\n",
        "  return _fstr\n"
      ],
      "metadata": {
        "id": "Bg4kUtWzpXys"
      },
      "execution_count": null,
      "outputs": []
    },
    {
      "cell_type": "code",
      "source": [
        "class MMREG_PROCS():\n",
        "  def __init__(self, main_df_arg, x_axis, y_axis, x_axis_drop = [], drop_axis = 1, title_arg = \"Data Analysis\"):\n",
        "    self.main_df = main_df_arg\n",
        "\n",
        "    if len(x_axis_drop) == 0:\n",
        "      self.x_sample = main_df_arg[x_axis]\n",
        "    elif len(x_axis_drop) != 0:\n",
        "      self.x_sample = main_df_arg.drop(x_axis_drop, axis = drop_axis)\n",
        "\n",
        "    self.y_sample = main_df_arg[y_axis]\n",
        "    \n",
        "    self.proc_title = title_arg\n",
        "    \n",
        "\n",
        "  def get_init_val(self):\n",
        "    print(\"X sample: \", self.x_sample)\n",
        "    print(\"Y sample: \", self.y_sample)\n",
        "  \n",
        "\n",
        "  def standard_proc(self, _show_plot_arg = True):\n",
        "    self.scikit_train_proc(show_plot_arg = _show_plot_arg)\n",
        "    self.disp_res_header()\n",
        "    self.scikit_proc()\n",
        "    self.statmod_proc()\n",
        "\n",
        "  \n",
        "  def disp_res_header(self):\n",
        "    print((\"===\" * 26), \"'\\n\")\n",
        "    print(self.proc_title.center(26, \"=\"))\n",
        "\n",
        "\n",
        "  def calc_pct(self):\n",
        "    x_axis_pct_chage = pd.DataFrame(self.x_sample).pct_change()\n",
        "    y_axis_pct_chage = pd.DataFrame(self.y_sample).pct_change()\n",
        "\n",
        "    print((\"===\" * 26), \"'\\n\")\n",
        "    print(\"PCT: \\n\", x_axis_pct_chage, y_axis_pct_chage)\n",
        "    print((\"===\" * 26), \"'\\n\")\n",
        "    return [x_axis_pct_chage, y_axis_pct_chage]\n",
        "\n",
        "\n",
        "  def scikit_train_proc(self, test_size_arg = 0.3, random_state_arg = 0, show_plot_arg = True):\n",
        "    self.lr_model = LinearRegression()\n",
        "    self.X_train, self.X_test, self.y_train, self.y_test = train_test_split(self.x_sample, self.y_sample, test_size = test_size_arg, random_state = random_state_arg)\n",
        "    self.lr_model.fit(self.X_train, self.y_train)\n",
        "    self.y_pred = self.lr_model.predict(self.X_train)\n",
        "    \n",
        "    if show_plot_arg:\n",
        "      plt.scatter(self.y_train, self.y_pred, color = \"black\")\n",
        "      sns.regplot(x = self.y_train, y = self.y_pred , ci=None, color ='orange')\n",
        "\n",
        "      plt.style.use('seaborn-pastel')\n",
        "      plt.ylabel(\"Factors\")\n",
        "      plt.xlabel(\"N.Time Temp\")\n",
        "      plt.title(self.proc_title)\n",
        "\n",
        "      plt.show()\n",
        "    \n",
        "    return [self.y_train, self.y_pred]\n",
        "\n",
        "\n",
        "  def scikit_proc(self):\n",
        "    regr = linear_model.LinearRegression()\n",
        "    fitted_model = regr.fit(self.x_sample, self.y_sample)\n",
        "    print((\"===\" * 26), \"'\\n\")\n",
        "    print(\"SCIKIT LEARN RESULT: \")\n",
        "    print(\"Intercept: \", fitted_model.intercept_)\n",
        "    print('Coefficients: ', fitted_model.coef_)\n",
        "    print()\n",
        "    print((\"===\" * 26), \"'\\n\")\n",
        "\n",
        "    return fitted_model\n",
        "\n",
        "\n",
        "  def statmod_proc(self):\n",
        "    _x = sm.add_constant(self.x_sample)\n",
        " \n",
        "    model = sm.OLS(self.y_sample, _x).fit()\n",
        "    predictions = model.predict(_x) \n",
        "    \n",
        "    reg_ressult = model.summary()\n",
        "    print(reg_ressult)\n",
        "\n",
        "    return reg_ressult\n",
        "  \n",
        "\n",
        "  def vif(self, print_output = True):\n",
        "    _result = [variance_inflation_factor(self.x_sample.values, i) for i in range(len(self.x_sample.columns))]\n",
        "    return _result\n",
        "  \n",
        "\n",
        "  def mod_reg(self, independent_var, dependent_var, mediator_variable = []):\n",
        "    p = Process(\n",
        "        data = self.main_df, \n",
        "        model = 4, x = independent_var, \n",
        "        y = dependent_var, \n",
        "        m = mediator_variable)\n",
        "    \n",
        "    p.summary()"
      ],
      "metadata": {
        "id": "kf30w4OLSvzV"
      },
      "execution_count": null,
      "outputs": []
    },
    {
      "cell_type": "markdown",
      "source": [
        "<h1>Procedures</h1>\n",
        "\n",
        "> 1. get light pollution annual average per city\n",
        "<br>\n",
        "> 2. filter data to obtains night time information (7pm-4am)\n",
        "<br>\n",
        "> 3. Calculate the annaul average of every parameter for every city\n",
        "<br>\n",
        "> 4. Create new Data frame for every city obtaining the night time annual average value of parameters\n",
        "<br>\n",
        "> 5. Combine all the processed data into a single dataset "
      ],
      "metadata": {
        "id": "pbPtMz0BZ7qN"
      }
    },
    {
      "cell_type": "markdown",
      "source": [
        "<h1>Procedure 1</h1>\n",
        "\n",
        "> 1. get light pollution annual average per city\n",
        "\n"
      ],
      "metadata": {
        "id": "LPDMOKz2biBu"
      }
    },
    {
      "cell_type": "code",
      "source": [
        "dict_keys = ['Manila_City', 'Taguig_City', 'Pasig_City', 'Paranaque_City', 'Makati_City', 'Las Pinas_City', 'Muntinlupa_City', 'Pasay_City', 'Malabon_City', 'Valenzuela_City']\n",
        "lpol_data_dict = {}\n",
        "\n",
        "for _index in range(len(lpol_cname)):\n",
        "  _avg_init_list = []\n",
        "  for _year in y_ext:\n",
        "    fname = lpol_cname[_index] + _year\n",
        "\n",
        "    avg_val = np.average(np.array(pd.read_csv(LIGHTPOL_DIRECTORY + fname + \".csv\", skiprows = 1))) # open csv || skip headder >> convert to numpy >> get avg\n",
        "    _avg_init_list.append(avg_val)\n",
        "\n",
        "  lpol_data_dict[dict_keys[_index]] = _avg_init_list\n",
        "  print(dict_keys[_index], \": Data Process complete\")\n",
        "\n",
        "lpol_data_df = pd.DataFrame(lpol_data_dict)"
      ],
      "metadata": {
        "id": "u_piBR72dTBA",
        "colab": {
          "base_uri": "https://localhost:8080/"
        },
        "outputId": "476f5a5c-f019-46cf-a0df-a74f80e23e90"
      },
      "execution_count": null,
      "outputs": [
        {
          "output_type": "stream",
          "name": "stdout",
          "text": [
            "Manila_City : Data Process complete\n",
            "Taguig_City : Data Process complete\n",
            "Pasig_City : Data Process complete\n",
            "Paranaque_City : Data Process complete\n",
            "Makati_City : Data Process complete\n",
            "Las Pinas_City : Data Process complete\n",
            "Muntinlupa_City : Data Process complete\n",
            "Pasay_City : Data Process complete\n",
            "Malabon_City : Data Process complete\n",
            "Valenzuela_City : Data Process complete\n"
          ]
        }
      ]
    },
    {
      "cell_type": "markdown",
      "source": [
        "<h1>Procedures 2</h1>\n",
        "\n",
        "> 2. filter data to obtains night time information (7pm-4am)\n"
      ],
      "metadata": {
        "id": "XLmFe88Sb7Bv"
      }
    },
    {
      "cell_type": "code",
      "source": [
        "# create a empty dictionary\n",
        "nt_city_df_dict = {}\n",
        "\n",
        "# loop through the list\n",
        "for city in CITY_NAME:\n",
        "  dict_key = city\n",
        "  city_df = pd.read_csv(get_file_path(city), skiprows = 13)\n",
        "  \n",
        "  # filter data from t-19 to t-04\n",
        "  print(\"Proc city: \", city)\n",
        "  nightime_data = city_df.loc[(city_df[\"HR\"] <= 4) | (city_df[\"HR\"] >= 19)]\n",
        "\n",
        "  # create new dictinary item and add new data\n",
        "  nt_city_df_dict[dict_key] = nightime_data\n",
        "\n",
        "\n",
        "print(nt_city_df_dict.keys())"
      ],
      "metadata": {
        "id": "Pu1kWyc6pas5",
        "colab": {
          "base_uri": "https://localhost:8080/"
        },
        "outputId": "01147863-4d39-4558-f3e5-164d631c43ee"
      },
      "execution_count": null,
      "outputs": [
        {
          "output_type": "stream",
          "name": "stdout",
          "text": [
            "Proc city:  manila_city\n",
            "Proc city:  valenzuela_city\n",
            "Proc city:  taguig_city\n",
            "Proc city:  pasig_city\n",
            "Proc city:  pasay_city\n",
            "Proc city:  paranaque_city\n",
            "Proc city:  muntinlupa_city\n",
            "Proc city:  malabon_city\n",
            "Proc city:  makati_city\n",
            "Proc city:  laspinas_city\n",
            "dict_keys(['manila_city', 'valenzuela_city', 'taguig_city', 'pasig_city', 'pasay_city', 'paranaque_city', 'muntinlupa_city', 'malabon_city', 'makati_city', 'laspinas_city'])\n"
          ]
        }
      ]
    },
    {
      "cell_type": "markdown",
      "source": [
        "<h1>Procedures 3</h1>\n",
        "\n",
        "\n",
        "> 3. Calculate the annaul average of every parameter for every city\n"
      ],
      "metadata": {
        "id": "_-xnFiVab_Wm"
      }
    },
    {
      "cell_type": "code",
      "source": [
        "# year 2011-2020\n",
        "year_range = [i for i in range(2012, 2022)]\n",
        "# climactic factors\n",
        "df_params = [\"PS\", \"T2M\", \"QV2M\", \"WS10M\", \"PRECTOTCORR\", \"Lat\", \"Long\"]\n",
        "\n",
        "# initialize empty dictionary\n",
        "cities_yparam_avg_val = {}\n",
        "\n",
        "# loop through the cities \n",
        "for city_name in CITY_NAME: # or CITY_NAME_2010_2010 || Same value\n",
        "  city_dict_key = city_name\n",
        "  cities_yparam_avg_val[city_dict_key] = {}\n",
        "  \n",
        "  # loop through the climatic factors\n",
        "  for param_name in df_params:\n",
        "    # initialize new empty list every iteration\n",
        "    initial_param_avg_list = []\n",
        "\n",
        "    # loop through the year\n",
        "    for _year in year_range:\n",
        "      # get the average value of the current iterated climatic factor\n",
        "\n",
        "      tgt_y = nt_city_df_dict[city_dict_key].loc[nt_city_df_dict[city_dict_key][\"YEAR\"] == _year][param_name]\n",
        "      param_avg_val = np.average(np.array(tgt_y))\n",
        "\n",
        "      # appent to empty list\n",
        "      initial_param_avg_list.append(param_avg_val)\n",
        "\n",
        "      # add new dictionary key and its value\n",
        "      cities_yparam_avg_val[city_dict_key][param_name] = np.array(initial_param_avg_list)\n",
        "\n",
        "\n",
        "print(cities_yparam_avg_val.keys())"
      ],
      "metadata": {
        "id": "sSrV2XzfpdVG",
        "colab": {
          "base_uri": "https://localhost:8080/"
        },
        "outputId": "b82cc86d-1328-4bae-bbcf-51519c287490"
      },
      "execution_count": null,
      "outputs": [
        {
          "output_type": "stream",
          "name": "stdout",
          "text": [
            "dict_keys(['manila_city', 'valenzuela_city', 'taguig_city', 'pasig_city', 'pasay_city', 'paranaque_city', 'muntinlupa_city', 'malabon_city', 'makati_city', 'laspinas_city'])\n"
          ]
        }
      ]
    },
    {
      "cell_type": "markdown",
      "source": [
        "<h1>Procedures 4</h1>\n",
        "\n",
        "> 4. Create new Data frame for every city obtaining the night time annual average value of parameters\n",
        " "
      ],
      "metadata": {
        "id": "N218ndbFcEDD"
      }
    },
    {
      "cell_type": "code",
      "source": [
        "paranaque_df = pd.DataFrame(cities_yparam_avg_val[\"paranaque_city\"])\n",
        "valenzuela_df = pd.DataFrame(cities_yparam_avg_val[\"valenzuela_city\"])\n",
        "taguig_df = pd.DataFrame(cities_yparam_avg_val[\"taguig_city\"])\n",
        "makati_df = pd.DataFrame(cities_yparam_avg_val[\"makati_city\"])\n",
        "muntinlupa_df = pd.DataFrame(cities_yparam_avg_val[\"muntinlupa_city\"])\n",
        "manila_df = pd.DataFrame(cities_yparam_avg_val[\"manila_city\"])\n",
        "pasig_df = pd.DataFrame(cities_yparam_avg_val[\"pasig_city\"])\n",
        "las_Pinas_df = pd.DataFrame(cities_yparam_avg_val[\"laspinas_city\"])\n",
        "pasay_df = pd.DataFrame(cities_yparam_avg_val[\"pasay_city\"])\n",
        "malabon_df = pd.DataFrame(cities_yparam_avg_val[\"malabon_city\"])"
      ],
      "metadata": {
        "id": "5dhQ5NN16Hui"
      },
      "execution_count": null,
      "outputs": []
    },
    {
      "cell_type": "markdown",
      "source": [
        "<h1>Procedures 5</h1>\n",
        "\n",
        "> 5. Combine all the processed data into a single dataset "
      ],
      "metadata": {
        "id": "p1OzgEiHcG1A"
      }
    },
    {
      "cell_type": "code",
      "source": [
        "# (long, lat)\n",
        "paranque_coord = [(nt_city_df_dict[\"paranaque_city\"][\"Long\"].iloc[0], nt_city_df_dict[\"paranaque_city\"][\"Lat\"].iloc[0])] * 10\n",
        "valenzuela_coord = [(nt_city_df_dict[\"valenzuela_city\"][\"Long\"].iloc[0], nt_city_df_dict[\"valenzuela_city\"][\"Lat\"].iloc[0])] * 10\n",
        "taguig_coord = [(nt_city_df_dict[\"taguig_city\"][\"Long\"].iloc[0], nt_city_df_dict[\"taguig_city\"][\"Lat\"].iloc[0])] * 10\n",
        "makati_coord = [(nt_city_df_dict[\"makati_city\"][\"Long\"].iloc[0], nt_city_df_dict[\"makati_city\"][\"Lat\"].iloc[0])] * 10\n",
        "muntinlupa_coord = [(nt_city_df_dict[\"muntinlupa_city\"][\"Long\"].iloc[0], nt_city_df_dict[\"muntinlupa_city\"][\"Lat\"].iloc[0])] * 10\n",
        "manila_coord = [(nt_city_df_dict[\"manila_city\"][\"Long\"].iloc[0], nt_city_df_dict[\"manila_city\"][\"Lat\"].iloc[0])] * 10\n",
        "pasig_coord = [(nt_city_df_dict[\"pasig_city\"][\"Long\"].iloc[0], nt_city_df_dict[\"pasig_city\"][\"Lat\"].iloc[0])] * 10\n",
        "pasay_coord = [(nt_city_df_dict[\"pasay_city\"][\"Long\"].iloc[0], nt_city_df_dict[\"pasay_city\"][\"Lat\"].iloc[0])] * 10\n",
        "malabon_coord = [(nt_city_df_dict[\"malabon_city\"][\"Long\"].iloc[0], nt_city_df_dict[\"malabon_city\"][\"Lat\"].iloc[0])] * 10\n",
        "laspinas_coord = [(nt_city_df_dict[\"laspinas_city\"][\"Long\"].iloc[0], nt_city_df_dict[\"laspinas_city\"][\"Lat\"].iloc[0])] * 10\n",
        "\n",
        "\n",
        "g_coords = paranque_coord + valenzuela_coord + taguig_coord + makati_coord + muntinlupa_coord + manila_coord + pasig_coord + pasay_coord + malabon_coord + laspinas_coord\n",
        "cities_df = [\n",
        "    paranaque_df, \n",
        "    valenzuela_df, \n",
        "    taguig_df, \n",
        "    makati_df, \n",
        "    muntinlupa_df, \n",
        "    manila_df, \n",
        "    pasig_df, \n",
        "    pasay_df, \n",
        "    malabon_df, \n",
        "    las_Pinas_df]\n",
        "\n",
        "\n",
        "lpol_data = [\n",
        "    lpol_data_df[\"Paranaque_City\"],\n",
        "    lpol_data_df[\"Manila_City\"],\n",
        "    lpol_data_df[\"Taguig_City\"],\n",
        "    lpol_data_df[\"Pasig_City\"],\n",
        "    lpol_data_df[\"Las Pinas_City\"],\n",
        "    lpol_data_df[\"Muntinlupa_City\"],\n",
        "    lpol_data_df[\"Pasay_City\"],\n",
        "    lpol_data_df[\"Malabon_City\"],\n",
        "    lpol_data_df[\"Valenzuela_City\"],\n",
        "    lpol_data_df[\"Makati_City\"]\n",
        "]\n",
        "\n",
        "NCR_geopckg = get_gpk_fpath(\"grouped_study_area\")\n",
        "NCR_geopckg = gpd.read_file(NCR_geopckg)\n",
        "\n",
        "lpol_df_data = pd.concat(lpol_data)\n",
        "cities_df = pd.concat(cities_df)\n",
        "\n",
        "\n",
        "cities_df[\"LongLat\"] = g_coords\n",
        "cities_df[\"lpol_avg\"] = lpol_df_data"
      ],
      "metadata": {
        "id": "zLkJxa1TnoAo"
      },
      "execution_count": null,
      "outputs": []
    },
    {
      "cell_type": "code",
      "source": [
        "#cities_df.to_csv(DATASET_DIRECTORY + 'grouped_samnples_pgkg_set.csv')"
      ],
      "metadata": {
        "id": "YVc9_aUsiq9f"
      },
      "execution_count": null,
      "outputs": []
    },
    {
      "cell_type": "code",
      "source": [
        "paranaque_df.iloc[[paranaque_df[\"PS\"].idxmax()]]"
      ],
      "metadata": {
        "id": "Vy0EMcqTuSBN"
      },
      "execution_count": null,
      "outputs": []
    },
    {
      "cell_type": "code",
      "source": [
        "#paranaque_df.iloc[[paranaque_df[\"PS\"].idxmax()]]\n",
        "#paranaque_df[\"PS\"].max()\n",
        "\n",
        "def get_min_max_param(df_arg, res_title_arg = \"NO TITLE\"):\n",
        "  param_val = [\"PS\", \"T2M\", \"QV2M\", \"WS10M\", \"PRECTOTCORR\"]\n",
        "\n",
        "  print(res_title_arg.center(90, \"=\"), \"\\n\")\n",
        "  for param in param_val:\n",
        "    _max_val = df_arg[param].max()\n",
        "    _min_val = df_arg[param].min()\n",
        "    \n",
        "    print((\"PARAMETER: \"+ param).center(78, \"=\"), \"\\n\")\n",
        "    \n",
        "    max_df_res = df_arg.loc[df_arg[param] == df_arg[param].min()]\n",
        "    min_df_res = df_arg.loc[df_arg[param] == df_arg[param].max()]\n",
        "\n",
        "    print(\"MIN || YEAR: \", min_df_res[\"YEAR\"], \" Value: \", min_df_res[param], \" \\n\")\n",
        "    print(\"MAX || YEAR: \", max_df_res[\"YEAR\"], \" Value: \", max_df_res[param], \" \\n\")\n",
        "\n",
        "  \n",
        "  print((res_title_arg + \" END\").center(90, \"=\"), \"\\n\")\n",
        "\n",
        "\n"
      ],
      "metadata": {
        "id": "RuQNKxSfeCM6"
      },
      "execution_count": null,
      "outputs": []
    },
    {
      "cell_type": "code",
      "source": [
        "city_annual_data = ['manila_city', 'valenzuela_city', 'taguig_city', 'pasig_city', 'pasay_city', 'paranaque_city', 'muntinlupa_city', 'malabon_city', 'makati_city', 'laspinas_city']\n",
        "#nt_city_df_dict\n",
        "\n",
        "for _city in city_annual_data:\n",
        "  get_min_max_param(nt_city_df_dict[_city], _city)"
      ],
      "metadata": {
        "id": "6WP9CfUpqfew"
      },
      "execution_count": null,
      "outputs": []
    },
    {
      "cell_type": "markdown",
      "source": [
        "<h1>DATA PROCESSING</h1>"
      ],
      "metadata": {
        "id": "1d3uO_lScPfd"
      }
    },
    {
      "cell_type": "markdown",
      "source": [
        "<h1>Multiple Linear Regression</h1>"
      ],
      "metadata": {
        "id": "my5Kc51N0m3A"
      }
    },
    {
      "cell_type": "markdown",
      "source": [
        "<h3>Custom class MMREG_PROCS</h3>\n",
        "<h4>parameters:</h4>\n",
        "\n",
        "<br>\n",
        "\n",
        "> main_df_arg<br>\n",
        "> x_axis<br>\n",
        "> y_axis<br>\n",
        "> x_axis_drop<br>\n",
        "> title_arg<br>\n",
        "\n",
        "<h4>Methods:</h4>\n",
        "\n",
        "> mod_reg : independent_var = str, dependent_var = str, mediator_variable = []"
      ],
      "metadata": {
        "id": "fR8tIDjeZvpw"
      }
    },
    {
      "cell_type": "code",
      "source": [
        "from sklearn.linear_model import Ridge\n",
        "from sklearn.linear_model import RidgeCV\n",
        "from sklearn import preprocessing\n",
        "from sklearn.preprocessing import StandardScaler\n",
        "from statsmodels.stats.outliers_influence import variance_inflation_factor\n",
        "import matplotlib.pyplot as plt\n",
        "plt.switch_backend('agg')\n",
        "import csv\n",
        "import numpy as np\n",
        "import pandas as pd\n",
        "from pylab import *\n",
        "from patsy import dmatrices\n",
        "\n",
        "\n",
        "df = city_df_0.drop([\"Lat\", \"Long\"], axis = 1)\n",
        "\n",
        "###scale the data to have mean 0 stdev 1\n",
        "df_scaled = preprocessing.scale(df)\n",
        "df_scaled=pd.DataFrame(df_scaled)\n",
        "\n",
        "\n",
        "###list of predictors for legend\n",
        "predictors = list(df.columns.values)[1:9]\n",
        "\n",
        "###make response (ys) and predictors (xs)\n",
        "xs = df_scaled.iloc[:,1:9]\n",
        "ys = df_scaled.iloc[:,5]\n",
        "\n",
        "\n",
        "coef=[]\n",
        "alphas = range(0,40)\n",
        "\n",
        "for a in alphas:\n",
        "  ridgereg=Ridge(alpha=a)\n",
        "  ridgereg.fit(xs,ys)\n",
        "  coef.append(ridgereg.coef_)\n",
        "\n",
        "###Make plot of Beta as a function of Alpha\n",
        "fig=plt.figure()\n",
        "ax=fig.add_subplot(111)\n",
        "ax.plot(alphas,coef)\n",
        "ax.set_xlabel('Alpha (Regularization Parameter)')\n",
        "ax.set_ylabel('Beta (Predictor Coefficients)')\n",
        "ax.set_title('Ridge Coefficients vs Regularization Parameters')\n",
        "ax.axis('tight')\n",
        "\n",
        "###Selecting lambda\n",
        "scaler=StandardScaler()\n",
        "X_std=scaler.fit_transform(xs)\n",
        "\n",
        "###Fit Ridge regression through cross validation\n",
        "regr_cv=RidgeCV(alphas=range(1,40))\n",
        "model_cv=regr_cv.fit(X_std,ys)\n",
        "\n",
        "print (model_cv.alpha_)"
      ],
      "metadata": {
        "colab": {
          "base_uri": "https://localhost:8080/",
          "height": 312
        },
        "id": "DzDK3HPfFTBy",
        "outputId": "9d342268-30cf-4793-91a2-452c70cec2c5"
      },
      "execution_count": null,
      "outputs": [
        {
          "output_type": "stream",
          "name": "stdout",
          "text": [
            "1\n"
          ]
        },
        {
          "output_type": "display_data",
          "data": {
            "text/plain": [
              "<Figure size 432x288 with 1 Axes>"
            ],
            "image/png": "[encoded data removed]"
          },
          "metadata": {
            "needs_background": "light"
          }
        }
      ]
    },
    {
      "cell_type": "code",
      "source": [],
      "metadata": {
        "id": "-jpmm-_CFYDM"
      },
      "execution_count": null,
      "outputs": []
    },
    {
      "cell_type": "code",
      "source": [
        "# main_df_arg, x_axis, y_axis, x_axis_drop = [], drop_axis = 1, title_arg = \"Data Analysis\"\n",
        "# independent_var, dependent_var, mediator_variable = []\n",
        "\n",
        "city_df_0 = paranaque_df\n",
        "city_df_0[\"lpol\"] = lpol_data_dict[\"Paranaque_City\"]\n",
        "\n",
        "model = MMREG_PROCS(\n",
        "    main_df_arg = city_df_0, \n",
        "    x_axis = \"lpol\", \n",
        "    y_axis = \"T2M\", \n",
        "    x_axis_drop = [\"Lat\", \"Long\", \"T2M\"],\n",
        "    title_arg = \"Paranaque_City\"\n",
        "    )\n",
        "model.standard_proc()\n",
        "model.mod_reg(\n",
        "    independent_var = \"lpol\", \n",
        "    dependent_var = \"T2M\", \n",
        "    mediator_variable = [\"PS\", \"QV2M\", \"PRECTOTCORR\", \"WS10M\"])\n"
      ],
      "metadata": {
        "id": "MizrlsOzVJHu"
      },
      "execution_count": null,
      "outputs": []
    },
    {
      "cell_type": "code",
      "source": [
        "city_df_1 = valenzuela_df\n",
        "city_df_1[\"lpol\"] = lpol_data_dict[\"Valenzuela_City\"]\n",
        "\n",
        "model = MMREG_PROCS(\n",
        "    main_df_arg = city_df_1, \n",
        "    x_axis = \"lpol\", \n",
        "    y_axis = \"T2M\", \n",
        "    x_axis_drop = [\"Lat\", \"Long\", \"T2M\"],\n",
        "    title_arg = \"Valenzuela_City\"\n",
        "    )\n",
        "model.standard_proc()\n",
        "model.mod_reg(\n",
        "    independent_var = \"lpol\", \n",
        "    dependent_var = \"T2M\", \n",
        "    mediator_variable = [\"PS\", \"QV2M\", \"PRECTOTCORR\", \"WS10M\"])\n"
      ],
      "metadata": {
        "id": "CzzgSXnsIukW"
      },
      "execution_count": null,
      "outputs": []
    },
    {
      "cell_type": "code",
      "source": [
        "city_df_2 = taguig_df\n",
        "city_df_2[\"lpol\"] = lpol_data_dict[\"Taguig_City\"]\n",
        "\n",
        "model = MMREG_PROCS(\n",
        "    main_df_arg = city_df_2, \n",
        "    x_axis = \"lpol\", \n",
        "    y_axis = \"T2M\", \n",
        "    x_axis_drop = [\"Lat\", \"Long\", \"T2M\"],\n",
        "    title_arg = \"Taguig_City\"\n",
        "    )\n",
        "model.standard_proc()\n",
        "model.mod_reg(\n",
        "    independent_var = \"lpol\", \n",
        "    dependent_var = \"T2M\", \n",
        "    mediator_variable = [\"PS\", \"QV2M\", \"PRECTOTCORR\", \"WS10M\"])\n"
      ],
      "metadata": {
        "id": "Eqew3j81IuYH"
      },
      "execution_count": null,
      "outputs": []
    },
    {
      "cell_type": "code",
      "source": [
        "city_df_3 = makati_df\n",
        "city_df_3[\"lpol\"] = lpol_data_dict[\"Makati_City\"]\n",
        "\n",
        "model = MMREG_PROCS(\n",
        "    main_df_arg = city_df_3, \n",
        "    x_axis = \"lpol\", \n",
        "    y_axis = \"T2M\", \n",
        "    x_axis_drop = [\"Lat\", \"Long\", \"T2M\"],\n",
        "    title_arg = \"Makati_City\"\n",
        "    )\n",
        "model.standard_proc()\n",
        "model.mod_reg(\n",
        "    independent_var = \"lpol\", \n",
        "    dependent_var = \"T2M\", \n",
        "    mediator_variable = [\"PS\", \"QV2M\", \"PRECTOTCORR\", \"WS10M\"])\n"
      ],
      "metadata": {
        "id": "isyi4xwOIuM8"
      },
      "execution_count": null,
      "outputs": []
    },
    {
      "cell_type": "code",
      "source": [
        "city_df_4 = muntinlupa_df\n",
        "city_df_4[\"lpol\"] = lpol_data_dict[\"Muntinlupa_City\"]\n",
        "\n",
        "model = MMREG_PROCS(\n",
        "    main_df_arg = city_df_4, \n",
        "    x_axis = \"lpol\", \n",
        "    y_axis = \"T2M\", \n",
        "    x_axis_drop = [\"Lat\", \"Long\", \"T2M\"],\n",
        "    title_arg = \"Muntinlupa_City\"\n",
        "    )\n",
        "model.standard_proc()\n",
        "model.mod_reg(\n",
        "    independent_var = \"lpol\", \n",
        "    dependent_var = \"T2M\", \n",
        "    mediator_variable = [\"PS\", \"QV2M\", \"PRECTOTCORR\", \"WS10M\"])\n"
      ],
      "metadata": {
        "id": "pJ8gDkg0IuB5"
      },
      "execution_count": null,
      "outputs": []
    },
    {
      "cell_type": "code",
      "source": [
        "city_df_5 = manila_df\n",
        "city_df_5[\"lpol\"] = lpol_data_dict[\"Manila_City\"]\n",
        "\n",
        "model = MMREG_PROCS(\n",
        "    main_df_arg = city_df_5, \n",
        "    x_axis = \"lpol\", \n",
        "    y_axis = \"T2M\", \n",
        "    x_axis_drop = [\"Lat\", \"Long\", \"T2M\"],\n",
        "    title_arg = \"Manila_City\"\n",
        "    )\n",
        "model.standard_proc()\n",
        "model.mod_reg(\n",
        "    independent_var = \"lpol\", \n",
        "    dependent_var = \"T2M\", \n",
        "    mediator_variable = [\"PS\", \"QV2M\", \"PRECTOTCORR\", \"WS10M\"])\n"
      ],
      "metadata": {
        "id": "xoO6yKIaIt21"
      },
      "execution_count": null,
      "outputs": []
    },
    {
      "cell_type": "code",
      "source": [
        "city_df_6 = pasig_df\n",
        "city_df_6[\"lpol\"] = lpol_data_dict[\"Pasig_City\"]\n",
        "\n",
        "model = MMREG_PROCS(\n",
        "    main_df_arg = city_df_6, \n",
        "    x_axis = \"lpol\", \n",
        "    y_axis = \"T2M\", \n",
        "    x_axis_drop = [\"Lat\", \"Long\", \"T2M\"],\n",
        "    title_arg = \"Pasig_City\"\n",
        "    )\n",
        "model.standard_proc()\n",
        "model.mod_reg(\n",
        "    independent_var = \"lpol\", \n",
        "    dependent_var = \"T2M\", \n",
        "    mediator_variable = [\"PS\", \"QV2M\", \"PRECTOTCORR\", \"WS10M\"])\n"
      ],
      "metadata": {
        "id": "PUfcOkpuIts4"
      },
      "execution_count": null,
      "outputs": []
    },
    {
      "cell_type": "code",
      "source": [
        "city_df_7 = las_Pinas_df\n",
        "city_df_7[\"lpol\"] = lpol_data_dict[\"Las Pinas_City\"]\n",
        "\n",
        "model = MMREG_PROCS(\n",
        "    main_df_arg = city_df_7, \n",
        "    x_axis = \"lpol\", \n",
        "    y_axis = \"T2M\", \n",
        "    x_axis_drop = [\"Lat\", \"Long\", \"T2M\"],\n",
        "    title_arg = \"Las Pinas_City\"\n",
        "    )\n",
        "model.standard_proc()\n",
        "model.mod_reg(\n",
        "    independent_var = \"lpol\", \n",
        "    dependent_var = \"T2M\", \n",
        "    mediator_variable = [\"PS\", \"QV2M\", \"PRECTOTCORR\", \"WS10M\"])\n"
      ],
      "metadata": {
        "id": "zWaZvz4XItY7"
      },
      "execution_count": null,
      "outputs": []
    },
    {
      "cell_type": "code",
      "source": [
        "city_df_8 = pasay_df\n",
        "city_df_8[\"lpol\"] = lpol_data_dict[\"Pasay_City\"]\n",
        "\n",
        "model = MMREG_PROCS(\n",
        "    main_df_arg = city_df_8, \n",
        "    x_axis = \"lpol\", \n",
        "    y_axis = \"T2M\", \n",
        "    x_axis_drop = [\"Lat\", \"Long\", \"T2M\"],\n",
        "    title_arg = \"Pasay_City\"\n",
        "    )\n",
        "model.standard_proc()\n",
        "model.mod_reg(\n",
        "    independent_var = \"lpol\", \n",
        "    dependent_var = \"T2M\", \n",
        "    mediator_variable = [\"PS\", \"QV2M\", \"PRECTOTCORR\", \"WS10M\"])\n"
      ],
      "metadata": {
        "id": "Q5yE8yMEItNU"
      },
      "execution_count": null,
      "outputs": []
    },
    {
      "cell_type": "code",
      "source": [
        "city_df_8 = malabon_df\n",
        "city_df_8[\"lpol\"] = lpol_data_dict[\"Malabon_City\"]\n",
        "\n",
        "model = MMREG_PROCS(\n",
        "    main_df_arg = city_df_8, \n",
        "    x_axis = \"lpol\", \n",
        "    y_axis = \"T2M\", \n",
        "    x_axis_drop = [\"Lat\", \"Long\", \"T2M\"],\n",
        "    title_arg = \"Malabon_City\"\n",
        "    )\n",
        "model.standard_proc()\n",
        "model.mod_reg(\n",
        "    independent_var = \"lpol\", \n",
        "    dependent_var = \"T2M\", \n",
        "    mediator_variable = [\"PS\", \"QV2M\", \"PRECTOTCORR\", \"WS10M\"])\n"
      ],
      "metadata": {
        "id": "FSBnIb1aIs6H"
      },
      "execution_count": null,
      "outputs": []
    },
    {
      "cell_type": "markdown",
      "source": [
        "<h1>Geographical Weighted Regression</h1>"
      ],
      "metadata": {
        "id": "EG6YeE4u0fzc"
      }
    },
    {
      "cell_type": "code",
      "source": [
        "g_y = cities_df['T2M'].values.reshape((-1,1)) #T2M\n",
        "cities_df[\"lpol\"] = cities_df['lpol_avg']\n",
        "g_X = cities_df[['QV2M', \"PS\", \"WS10M\", \"PRECTOTCORR\", \"lpol_avg\"]].values\n",
        "g_coords = list(g_coords)\n",
        "\n",
        "#normalize\n",
        "g_X = (g_X - g_X.mean(axis=0)) / g_X.std(axis=0)\n",
        "g_y = g_y.reshape((-1,1))\n",
        "g_y = (g_y - g_y.mean(axis=0)) / g_y.std(axis=0)"
      ],
      "metadata": {
        "id": "hzbu97r5RVrS"
      },
      "execution_count": null,
      "outputs": []
    },
    {
      "cell_type": "code",
      "source": [],
      "metadata": {
        "id": "jMKkW5y4lpYd"
      },
      "execution_count": null,
      "outputs": []
    },
    {
      "cell_type": "code",
      "source": [
        "g_X[np.isnan(g_X)] = 0\n",
        "g_y[np.isnan(g_y)] = 0"
      ],
      "metadata": {
        "id": "KbmCsUtcWdZJ"
      },
      "execution_count": null,
      "outputs": []
    },
    {
      "cell_type": "code",
      "source": [
        "gwr_selector = Sel_BW(g_coords, g_y, g_X, kernel = \"gaussian\", fixed = False, spherical=True) \n",
        "gwr_bw = gwr_selector.search(bw_min = 2)\n",
        "gwr_bw"
      ],
      "metadata": {
        "id": "zCysEN81WbsQ"
      },
      "execution_count": null,
      "outputs": []
    },
    {
      "cell_type": "code",
      "source": [
        "gwr_results = GWR(g_coords, g_y, g_X, gwr_bw).fit()"
      ],
      "metadata": {
        "id": "jxZZutFnuJcE"
      },
      "execution_count": null,
      "outputs": []
    },
    {
      "cell_type": "code",
      "source": [
        "gwr_results.summary()"
      ],
      "metadata": {
        "id": "l8B2qvu2tkFt"
      },
      "execution_count": null,
      "outputs": []
    },
    {
      "cell_type": "code",
      "source": [
        "gwr_filtered_t = gwr_results.filter_tvals()"
      ],
      "metadata": {
        "id": "94_u-ajc3hIj"
      },
      "execution_count": null,
      "outputs": []
    },
    {
      "cell_type": "code",
      "source": [
        "def show_plot_by_res_index(res_arg, var_ind_title):\n",
        "  fig, ax = plt.subplots(nrows=1, ncols=1, figsize=(15,7))\n",
        "  ax.set_title(\"Variable \" + var_ind_title + \"  \" + 'GWR Intercept Surface (BW: ' + str(gwr_bw) +')', fontsize=12)\n",
        "\n",
        "  cmap = plt.cm.seismic\n",
        "\n",
        "  gwr_min = res_arg.min()\n",
        "  gwr_max = res_arg.max()\n",
        "  vmin = np.min([gwr_min])\n",
        "  vmax = np.max([gwr_max])\n",
        "\n",
        "  #If all values are negative use the negative half of the colormap\n",
        "  if (vmin < 0) & (vmax < 0):\n",
        "      cmap = truncate_colormap(cmap, 0.0, 0.5)\n",
        "  #If all values are positive use the positive half of the colormap\n",
        "  elif (vmin > 0) & (vmax > 0):\n",
        "      cmap = truncate_colormap(cmap, 0.5, 1.0)\n",
        "  #Otherwise, there are positive and negative values so the colormap so zero is the midpoint\n",
        "  else:\n",
        "      cmap = shift_colormap(cmap, start=0.0, midpoint=1 - vmax/(vmax + abs(vmin)), stop=1.)\n",
        "\n",
        "  sm = plt.cm.ScalarMappable(cmap=cmap, norm=plt.Normalize(vmin=vmin, vmax=vmax))\n",
        "  NCR_geopckg.plot(cmap=sm.cmap, ax=ax, vmin=vmin, vmax=vmax, **{'edgecolor':'black', 'alpha':1})\n",
        "\n",
        "\n",
        "  fig.tight_layout()    \n",
        "  sm._A = []\n",
        "  cbar = fig.colorbar(sm)\n",
        "  cbar.ax.tick_params(labelsize=12) \n",
        "  ax.get_xaxis().set_visible(False)\n",
        "  ax.get_yaxis().set_visible(False)\n",
        "  plt.style.use('seaborn-pastel')\n",
        "  plt.show()"
      ],
      "metadata": {
        "id": "kROAYNo_zLaS"
      },
      "execution_count": null,
      "outputs": []
    },
    {
      "cell_type": "markdown",
      "source": [
        "<h1>Multi Scale Goegraphical Weighted Regression </h1>"
      ],
      "metadata": {
        "id": "bBzttdeP9j-G"
      }
    },
    {
      "cell_type": "code",
      "source": [
        "mgwr_selector = Sel_BW(g_coords, g_y, g_X, kernel = \"bisquare\", fixed = False, spherical=True, multi = True) \n",
        "mgwr_bw = mgwr_selector.search(multi_bw_min = [2])\n",
        "mgwr_bw"
      ],
      "metadata": {
        "id": "bBEXoC1g9cNZ"
      },
      "execution_count": null,
      "outputs": []
    },
    {
      "cell_type": "code",
      "source": [
        "mgwr_results = MGWR(g_coords, g_y, g_X, mgwr_selector).fit()\n",
        "mgwr_results.summary()"
      ],
      "metadata": {
        "id": "LBReRvos-R5M"
      },
      "execution_count": null,
      "outputs": []
    },
    {
      "cell_type": "code",
      "source": [
        "mgwr_filtered_t = mgwr_results.filter_tvals()"
      ],
      "metadata": {
        "id": "GFLCR1c8C_Ly"
      },
      "execution_count": null,
      "outputs": []
    },
    {
      "cell_type": "code",
      "source": [
        "def MGWR_plot(res_arg, var_ind_title):\n",
        "  fig, ax = plt.subplots(nrows=1, ncols=1, figsize=(15,7))\n",
        "  ax.set_title(var_ind_title + \"  \" + '(BW: ' + str(gwr_bw) +')', fontsize=12)\n",
        "\n",
        "  cmap = plt.cm.seismic\n",
        "\n",
        "  gwr_min = res_arg.min()\n",
        "  gwr_max = res_arg.max()\n",
        "  vmin = np.min([gwr_min])\n",
        "  vmax = np.max([gwr_max])\n",
        "\n",
        "  #If all values are negative use the negative half of the colormap\n",
        "  if (vmin < 0) & (vmax < 0):\n",
        "      cmap = truncate_colormap(cmap, 0.0, 0.5)\n",
        "  #If all values are positive use the positive half of the colormap\n",
        "  elif (vmin > 0) & (vmax > 0):\n",
        "      cmap = truncate_colormap(cmap, 0.5, 1.0)\n",
        "  #Otherwise, there are positive and negative values so the colormap so zero is the midpoint\n",
        "  else:\n",
        "      cmap = shift_colormap(cmap, start=0.0, midpoint=1 - vmax/(vmax + abs(vmin)), stop=1.)\n",
        "\n",
        "  sm = plt.cm.ScalarMappable(cmap=cmap, norm=plt.Normalize(vmin=vmin, vmax=vmax))\n",
        "  #NCR_geopckg.plot(cmap=sm.cmap, ax=ax, vmin=vmin, vmax=vmax, **{'edgecolor':'black', 'alpha':1})\n",
        "\n",
        "  #Plot MGWR parameters\n",
        "  NCR_geopckg.plot(cmap=sm.cmap, ax=ax, vmin=vmin, vmax=vmax, **{'edgecolor':'black', 'alpha':1})\n",
        "\n",
        "\n",
        "\n",
        "  fig.tight_layout()    \n",
        "  sm._A = []\n",
        "  cbar = fig.colorbar(sm)\n",
        "  cbar.ax.tick_params(labelsize=12) \n",
        "  ax.get_xaxis().set_visible(False)\n",
        "  ax.get_yaxis().set_visible(False)\n",
        "  plt.style.use('seaborn-pastel')\n",
        "  plt.show()"
      ],
      "metadata": {
        "id": "wUlQV1F994-R"
      },
      "execution_count": null,
      "outputs": []
    },
    {
      "cell_type": "code",
      "source": [
        "MGWR_plot(gwr_results.params[:,0], \"Change in WS |\")\n",
        "MGWR_plot(gwr_results.params[:,1], \"Change in QV g/kg |\")\n",
        "MGWR_plot(gwr_results.params[:,2], \"Change in PS |\")\n",
        "MGWR_plot(gwr_results.params[:,3], \"Change in WS m/s |\")\n",
        "MGWR_plot(gwr_results.params[:,4], \"Change in PRECTOTCORR mm/hr |\")\n",
        "MGWR_plot(gwr_results.params[:,5], \"Change in Light pol |\")"
      ],
      "metadata": {
        "id": "tDo2UYmIxeQG"
      },
      "execution_count": null,
      "outputs": []
    }
  ]
}